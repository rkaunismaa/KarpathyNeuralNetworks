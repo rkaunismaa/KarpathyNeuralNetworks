{
 "cells": [
  {
   "cell_type": "markdown",
   "id": "1ac85e68-876a-4938-bd7c-8fc8fcc6c38b",
   "metadata": {},
   "source": [
    "Thursday, June 15, 2023\n",
    "\n",
    "Let's see how hard it is to get the code to run on the GPU, shall we?! ..."
   ]
  },
  {
   "cell_type": "code",
   "execution_count": 1,
   "id": "e0a8eabc-f8ec-430a-a6fc-99d9b1ae3cd5",
   "metadata": {},
   "outputs": [],
   "source": [
    "import torch\n",
    "import torch.nn.functional as F\n",
    "import matplotlib.pyplot as plt\n",
    "%matplotlib inline"
   ]
  },
  {
   "cell_type": "code",
   "execution_count": null,
   "id": "5d3a19a9-43fd-463d-a998-7bb1797338ef",
   "metadata": {},
   "outputs": [],
   "source": [
    "# Check if a GPU is available\n",
    "if torch.cuda.is_available():\n",
    "    # Set the default tensor type to CUDA tensor\n",
    "    torch.set_default_tensor_type(torch.cuda.FloatTensor)\n",
    "    # Alternatively, you can use: torch.cuda.set_device(0) to specify the GPU device\n"
   ]
  }
 ],
 "metadata": {
  "kernelspec": {
   "display_name": "Python 3 (ipykernel)",
   "language": "python",
   "name": "python3"
  },
  "language_info": {
   "codemirror_mode": {
    "name": "ipython",
    "version": 3
   },
   "file_extension": ".py",
   "mimetype": "text/x-python",
   "name": "python",
   "nbconvert_exporter": "python",
   "pygments_lexer": "ipython3",
   "version": "3.10.8"
  }
 },
 "nbformat": 4,
 "nbformat_minor": 5
}
