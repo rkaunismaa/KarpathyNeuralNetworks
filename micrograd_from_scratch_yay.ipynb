{
 "cells": [
  {
   "cell_type": "markdown",
   "id": "35c3141d-30ce-45f5-9386-2458906fd7ea",
   "metadata": {},
   "source": [
    "Tuesday, May 30, 2023\n",
    "\n",
    "My walkthrough and playground for the [The spelled-out intro to neural networks and backpropagation: building micrograd](https://www.youtube.com/watch?v=VMj-3S1tku0&list=PLAqhIrjkxbuWI23v9cThsA9GvCAUhRvKZ&index=1)"
   ]
  },
  {
   "cell_type": "code",
   "execution_count": 1,
   "id": "6e23ad39-406f-4501-9326-2ef057f1562a",
   "metadata": {
    "tags": []
   },
   "outputs": [],
   "source": [
    "import math\n",
    "import numpy as np\n",
    "import matplotlib.pyplot as plt\n",
    "%matplotlib inline"
   ]
  },
  {
   "cell_type": "code",
   "execution_count": 2,
   "id": "42eb8bb5-6fc7-4e40-8f4c-306471446b5b",
   "metadata": {
    "tags": []
   },
   "outputs": [],
   "source": [
    "def f(x):\n",
    "    return 3*x**2 - 4*x + 5"
   ]
  },
  {
   "cell_type": "code",
   "execution_count": 3,
   "id": "4be7b963-925c-44ef-bc40-5ec3d989c3da",
   "metadata": {
    "tags": []
   },
   "outputs": [
    {
     "data": {
      "text/plain": [
       "20.0"
      ]
     },
     "execution_count": 3,
     "metadata": {},
     "output_type": "execute_result"
    }
   ],
   "source": [
    "f(3.0)"
   ]
  },
  {
   "cell_type": "code",
   "execution_count": 4,
   "id": "58f1f75c-5a7e-4cda-bc42-16bd4346d327",
   "metadata": {
    "tags": []
   },
   "outputs": [
    {
     "data": {
      "text/plain": [
       "array([-5.  , -4.75, -4.5 , -4.25, -4.  , -3.75, -3.5 , -3.25, -3.  ,\n",
       "       -2.75, -2.5 , -2.25, -2.  , -1.75, -1.5 , -1.25, -1.  , -0.75,\n",
       "       -0.5 , -0.25,  0.  ,  0.25,  0.5 ,  0.75,  1.  ,  1.25,  1.5 ,\n",
       "        1.75,  2.  ,  2.25,  2.5 ,  2.75,  3.  ,  3.25,  3.5 ,  3.75,\n",
       "        4.  ,  4.25,  4.5 ,  4.75])"
      ]
     },
     "execution_count": 4,
     "metadata": {},
     "output_type": "execute_result"
    }
   ],
   "source": [
    "xs = np.arange(-5, 5, 0.25)\n",
    "xs"
   ]
  },
  {
   "cell_type": "code",
   "execution_count": 5,
   "id": "47ec9529-e730-4339-be10-8feffb498e8c",
   "metadata": {
    "tags": []
   },
   "outputs": [
    {
     "data": {
      "text/plain": [
       "array([100.    ,  91.6875,  83.75  ,  76.1875,  69.    ,  62.1875,\n",
       "        55.75  ,  49.6875,  44.    ,  38.6875,  33.75  ,  29.1875,\n",
       "        25.    ,  21.1875,  17.75  ,  14.6875,  12.    ,   9.6875,\n",
       "         7.75  ,   6.1875,   5.    ,   4.1875,   3.75  ,   3.6875,\n",
       "         4.    ,   4.6875,   5.75  ,   7.1875,   9.    ,  11.1875,\n",
       "        13.75  ,  16.6875,  20.    ,  23.6875,  27.75  ,  32.1875,\n",
       "        37.    ,  42.1875,  47.75  ,  53.6875])"
      ]
     },
     "execution_count": 5,
     "metadata": {},
     "output_type": "execute_result"
    }
   ],
   "source": [
    "ys = f(xs)\n",
    "ys"
   ]
  },
  {
   "cell_type": "code",
   "execution_count": 6,
   "id": "ac3ee7d9-65f3-4b14-9b45-903006c8b566",
   "metadata": {
    "tags": []
   },
   "outputs": [
    {
     "data": {
      "text/plain": [
       "[<matplotlib.lines.Line2D at 0x7fead545b670>]"
      ]
     },
     "execution_count": 6,
     "metadata": {},
     "output_type": "execute_result"
    },
    {
     "data": {
      "image/png": "[encoded data removed]",
      "text/plain": [
       "<Figure size 640x480 with 1 Axes>"
      ]
     },
     "metadata": {},
     "output_type": "display_data"
    }
   ],
   "source": [
    "plt.plot(xs, ys)"
   ]
  },
  {
   "cell_type": "code",
   "execution_count": 7,
   "id": "c0e5b076-5030-40ee-a603-9ace4aeb222b",
   "metadata": {
    "tags": []
   },
   "outputs": [
    {
     "data": {
      "text/plain": [
       "26.000030000261628"
      ]
     },
     "execution_count": 7,
     "metadata": {},
     "output_type": "execute_result"
    }
   ],
   "source": [
    "h = 0.00001\n",
    "x = 5\n",
    "(f(x+h) - f(x))/h"
   ]
  },
  {
   "cell_type": "code",
   "execution_count": 8,
   "id": "088964d2-7d43-4641-a8d2-b9669d85f5fe",
   "metadata": {
    "tags": []
   },
   "outputs": [
    {
     "name": "stdout",
     "output_type": "stream",
     "text": [
      "4.0\n"
     ]
    }
   ],
   "source": [
    "a = 2.0\n",
    "b = -3.0\n",
    "c = 10.0\n",
    "d = a*b + c\n",
    "print(d)"
   ]
  },
  {
   "cell_type": "code",
   "execution_count": 9,
   "id": "eb9dac1c-f8fa-4d31-b8ac-2cabef47211b",
   "metadata": {
    "tags": []
   },
   "outputs": [],
   "source": [
    "h = 0.00001\n",
    "a = 2.0\n",
    "b = -3.0\n",
    "c = 10.0"
   ]
  },
  {
   "cell_type": "code",
   "execution_count": 109,
   "id": "dab5da88-7797-46f6-be7c-ad9c7733a35c",
   "metadata": {
    "tags": []
   },
   "outputs": [],
   "source": [
    "class Value:\n",
    "    \n",
    "    def __init__(self, data, _children=(), _op='', label=''):\n",
    "        self.data = data\n",
    "        self.grad = 0.0\n",
    "        self._backward = lambda: None\n",
    "        self._prev = set(_children)\n",
    "        self._op = _op\n",
    "        self.label = label\n",
    "        \n",
    "    def __repr__(self):\n",
    "        return f\"Value(data={self.data})\"\n",
    "    \n",
    "    def __add__(self, other):\n",
    "        out = Value(self.data + other.data, (self, other), '+')\n",
    "        \n",
    "        def _backward():\n",
    "            self.grad = 1.0 * out.grad\n",
    "            other.grad = 1.0 * out.grad\n",
    "        out._backward = _backward\n",
    "        \n",
    "        return out\n",
    "    \n",
    "    def __mul__(self, other):\n",
    "        out = Value(self.data * other.data, (self, other), '*')\n",
    "        \n",
    "        def _backward():\n",
    "            self.grad = other.data * out.grad\n",
    "            other.grad = self.data * out.grad\n",
    "        out._backward = _backward\n",
    "    \n",
    "        return  out\n",
    "    \n",
    "    def tanh(self):\n",
    "        x = self.data\n",
    "        t = (math.exp(2*x) - 1)/(math.exp(2*x) + 1)\n",
    "        out = Value(t, (self,), 'tanh')\n",
    "        \n",
    "        def _backward():\n",
    "            self.grad = (1 - t**2) * out.grad\n",
    "        out._backward = _backward\n",
    "        \n",
    "        return out\n",
    "    \n",
    "    def backward(self):\n",
    "\n",
    "        # topological order all of the children in the graph\n",
    "        topo = []\n",
    "        visited = set()\n",
    "        def build_topo(v):\n",
    "            if v not in visited:\n",
    "                visited.add(v)\n",
    "                for child in v._prev:\n",
    "                    build_topo(child)\n",
    "                topo.append(v)\n",
    "        build_topo(self)\n",
    "\n",
    "        # go one variable at a time and apply the chain rule to get its gradient\n",
    "        self.grad = 1\n",
    "        for v in reversed(topo):\n",
    "            v._backward()\n",
    "        "
   ]
  },
  {
   "cell_type": "code",
   "execution_count": 26,
   "id": "87b3186d-a7f0-4bd1-8643-bbcff6f830a0",
   "metadata": {},
   "outputs": [],
   "source": [
    "a = Value(2.0, label='a')\n",
    "b = Value(-3, label='b')\n",
    "c = Value(10, label='c')\n",
    "e = a*b ; e.label='e'\n",
    "d = e + c ; d.label='d'\n",
    "f = Value(-2.0, label='f')\n",
    "L = d * f ; L.label = 'L'"
   ]
  },
  {
   "cell_type": "code",
   "execution_count": 27,
   "id": "ed7e5306-94e3-410f-ac23-537100cb9169",
   "metadata": {
    "tags": []
   },
   "outputs": [],
   "source": [
    "from graphviz import Digraph"
   ]
  },
  {
   "cell_type": "code",
   "execution_count": 28,
   "id": "642e39eb-b26d-4460-a063-e4a934cca794",
   "metadata": {
    "tags": []
   },
   "outputs": [],
   "source": [
    "# import graphviz  # doctest: +NO_EXE\n",
    "# dot = graphviz.Digraph(comment='The Round Table')\n",
    "# dot  #doctest: +ELLIPSIS\n"
   ]
  },
  {
   "cell_type": "code",
   "execution_count": 29,
   "id": "807a1412-3931-4cd4-90a2-253701a5cc05",
   "metadata": {
    "tags": []
   },
   "outputs": [],
   "source": [
    "def trace(root):\n",
    "    nodes, edges = set(), set()\n",
    "    def build(v):\n",
    "        if v not in nodes:\n",
    "            nodes.add(v)\n",
    "            for child in v._prev:\n",
    "                edges.add((child, v))\n",
    "                build(child)\n",
    "    build(root)\n",
    "    return nodes, edges\n",
    "\n",
    "def draw_dot(root, format='svg', rankdir='LR'):\n",
    "    \"\"\"\n",
    "    format: png | svg | ...\n",
    "    rankdir: TB (top to bottom graph) | LR (left to right)\n",
    "    \"\"\"\n",
    "    assert rankdir in ['LR', 'TB']\n",
    "    nodes, edges = trace(root)\n",
    "    dot = Digraph(format=format, graph_attr={'rankdir': rankdir}) #, node_attr={'rankdir': 'TB'})\n",
    "    \n",
    "    for n in nodes:\n",
    "       # dot.node(name=str(id(n)), label = \"{ data %.4f | grad %.4f }\" % (n.data, n.grad), shape='record')\n",
    "        dot.node(name=str(id(n)), label = \"{ %s | data %.4f | grad %.4f }\" % (n.label, n.data, n.grad), shape='record')\n",
    "        if n._op:\n",
    "            dot.node(name=str(id(n)) + n._op, label=n._op)\n",
    "            dot.edge(str(id(n)) + n._op, str(id(n)))\n",
    "    \n",
    "    for n1, n2 in edges:\n",
    "        dot.edge(str(id(n1)), str(id(n2)) + n2._op)\n",
    "    \n",
    "    return dot"
   ]
  },
  {
   "cell_type": "code",
   "execution_count": 30,
   "id": "68367c13-8061-42e8-8bc7-d3f57311aede",
   "metadata": {
    "tags": []
   },
   "outputs": [
    {
     "data": {
      "image/svg+xml": [
       "<?xml version=\"1.0\" encoding=\"UTF-8\" standalone=\"no\"?>\n",
       "<!DOCTYPE svg PUBLIC \"-//W3C//DTD SVG 1.1//EN\"\n",
       " \"http://www.w3.org/Graphics/SVG/1.1/DTD/svg11.dtd\">\n",
       "<!-- Generated by graphviz version 8.0.5 (20230506.1012)\n",
       " -->\n",
       "<!-- Pages: 1 -->\n",
       "<svg width=\"1321pt\" height=\"156pt\"\n",
       " viewBox=\"0.00 0.00 1321.25 156.00\" xmlns=\"http://www.w3.org/2000/svg\" xmlns:xlink=\"http://www.w3.org/1999/xlink\">\n",
       "<g id=\"graph0\" class=\"graph\" transform=\"scale(1 1) rotate(0) translate(4 152)\">\n",
       "<polygon fill=\"white\" stroke=\"none\" points=\"-4,4 -4,-152 1317.25,-152 1317.25,4 -4,4\"/>\n",
       "<!-- 140646426256912 -->\n",
       "<g id=\"node1\" class=\"node\">\n",
       "<title>140646426256912</title>\n",
       "<polygon fill=\"none\" stroke=\"black\" points=\"2.62,-111.5 2.62,-147.5 231.38,-147.5 231.38,-111.5 2.62,-111.5\"/>\n",
       "<text text-anchor=\"middle\" x=\"14.75\" y=\"-125.2\" font-family=\"Times,serif\" font-size=\"14.00\">a</text>\n",
       "<polyline fill=\"none\" stroke=\"black\" points=\"26.88,-112.25 26.88,-147.5\"/>\n",
       "<text text-anchor=\"middle\" x=\"77.62\" y=\"-125.2\" font-family=\"Times,serif\" font-size=\"14.00\">data 2.0000</text>\n",
       "<polyline fill=\"none\" stroke=\"black\" points=\"128.38,-112.25 128.38,-147.5\"/>\n",
       "<text text-anchor=\"middle\" x=\"179.88\" y=\"-125.2\" font-family=\"Times,serif\" font-size=\"14.00\">grad 0.0000</text>\n",
       "</g>\n",
       "<!-- 140646426259408* -->\n",
       "<g id=\"node10\" class=\"node\">\n",
       "<title>140646426259408*</title>\n",
       "<ellipse fill=\"none\" stroke=\"black\" cx=\"297\" cy=\"-101.5\" rx=\"27\" ry=\"18\"/>\n",
       "<text text-anchor=\"middle\" x=\"297\" y=\"-96.83\" font-family=\"Times,serif\" font-size=\"14.00\">*</text>\n",
       "</g>\n",
       "<!-- 140646426256912&#45;&gt;140646426259408* -->\n",
       "<g id=\"edge9\" class=\"edge\">\n",
       "<title>140646426256912&#45;&gt;140646426259408*</title>\n",
       "<path fill=\"none\" stroke=\"black\" d=\"M231.23,-111.69C241.34,-110.1 251,-108.58 259.62,-107.22\"/>\n",
       "<polygon fill=\"black\" stroke=\"black\" points=\"259.99,-110.55 269.32,-105.54 258.9,-103.64 259.99,-110.55\"/>\n",
       "</g>\n",
       "<!-- 140646426256480 -->\n",
       "<g id=\"node2\" class=\"node\">\n",
       "<title>140646426256480</title>\n",
       "<polygon fill=\"none\" stroke=\"black\" points=\"723.38,-55.5 723.38,-91.5 952.88,-91.5 952.88,-55.5 723.38,-55.5\"/>\n",
       "<text text-anchor=\"middle\" x=\"735.88\" y=\"-69.2\" font-family=\"Times,serif\" font-size=\"14.00\">d</text>\n",
       "<polyline fill=\"none\" stroke=\"black\" points=\"748.38,-56.25 748.38,-91.5\"/>\n",
       "<text text-anchor=\"middle\" x=\"799.12\" y=\"-69.2\" font-family=\"Times,serif\" font-size=\"14.00\">data 4.0000</text>\n",
       "<polyline fill=\"none\" stroke=\"black\" points=\"849.88,-56.25 849.88,-91.5\"/>\n",
       "<text text-anchor=\"middle\" x=\"901.38\" y=\"-69.2\" font-family=\"Times,serif\" font-size=\"14.00\">grad 0.0000</text>\n",
       "</g>\n",
       "<!-- 140646426259312* -->\n",
       "<g id=\"node6\" class=\"node\">\n",
       "<title>140646426259312*</title>\n",
       "<ellipse fill=\"none\" stroke=\"black\" cx=\"1016.25\" cy=\"-45.5\" rx=\"27\" ry=\"18\"/>\n",
       "<text text-anchor=\"middle\" x=\"1016.25\" y=\"-40.83\" font-family=\"Times,serif\" font-size=\"14.00\">*</text>\n",
       "</g>\n",
       "<!-- 140646426256480&#45;&gt;140646426259312* -->\n",
       "<g id=\"edge6\" class=\"edge\">\n",
       "<title>140646426256480&#45;&gt;140646426259312*</title>\n",
       "<path fill=\"none\" stroke=\"black\" d=\"M952.16,-55.53C961.63,-54.02 970.68,-52.59 978.82,-51.29\"/>\n",
       "<polygon fill=\"black\" stroke=\"black\" points=\"979.35,-54.59 988.68,-49.57 978.25,-47.68 979.35,-54.59\"/>\n",
       "</g>\n",
       "<!-- 140646426256480+ -->\n",
       "<g id=\"node3\" class=\"node\">\n",
       "<title>140646426256480+</title>\n",
       "<ellipse fill=\"none\" stroke=\"black\" cx=\"660\" cy=\"-73.5\" rx=\"27\" ry=\"18\"/>\n",
       "<text text-anchor=\"middle\" x=\"660\" y=\"-68.83\" font-family=\"Times,serif\" font-size=\"14.00\">+</text>\n",
       "</g>\n",
       "<!-- 140646426256480+&#45;&gt;140646426256480 -->\n",
       "<g id=\"edge1\" class=\"edge\">\n",
       "<title>140646426256480+&#45;&gt;140646426256480</title>\n",
       "<path fill=\"none\" stroke=\"black\" d=\"M687.37,-73.5C694.83,-73.5 703.48,-73.5 712.78,-73.5\"/>\n",
       "<polygon fill=\"black\" stroke=\"black\" points=\"712.53,-77 722.53,-73.5 712.53,-70 712.53,-77\"/>\n",
       "</g>\n",
       "<!-- 140646426255760 -->\n",
       "<g id=\"node4\" class=\"node\">\n",
       "<title>140646426255760</title>\n",
       "<polygon fill=\"none\" stroke=\"black\" points=\"0,-56.5 0,-92.5 234,-92.5 234,-56.5 0,-56.5\"/>\n",
       "<text text-anchor=\"middle\" x=\"12.5\" y=\"-70.2\" font-family=\"Times,serif\" font-size=\"14.00\">b</text>\n",
       "<polyline fill=\"none\" stroke=\"black\" points=\"25,-57.25 25,-92.5\"/>\n",
       "<text text-anchor=\"middle\" x=\"78\" y=\"-70.2\" font-family=\"Times,serif\" font-size=\"14.00\">data &#45;3.0000</text>\n",
       "<polyline fill=\"none\" stroke=\"black\" points=\"131,-57.25 131,-92.5\"/>\n",
       "<text text-anchor=\"middle\" x=\"182.5\" y=\"-70.2\" font-family=\"Times,serif\" font-size=\"14.00\">grad 0.0000</text>\n",
       "</g>\n",
       "<!-- 140646426255760&#45;&gt;140646426259408* -->\n",
       "<g id=\"edge4\" class=\"edge\">\n",
       "<title>140646426255760&#45;&gt;140646426259408*</title>\n",
       "<path fill=\"none\" stroke=\"black\" d=\"M233.74,-92.06C242.85,-93.44 251.54,-94.76 259.38,-95.95\"/>\n",
       "<polygon fill=\"black\" stroke=\"black\" points=\"258.81,-99.55 269.22,-97.59 259.86,-92.63 258.81,-99.55\"/>\n",
       "</g>\n",
       "<!-- 140646426259312 -->\n",
       "<g id=\"node5\" class=\"node\">\n",
       "<title>140646426259312</title>\n",
       "<polygon fill=\"none\" stroke=\"black\" points=\"1079.25,-27.5 1079.25,-63.5 1313.25,-63.5 1313.25,-27.5 1079.25,-27.5\"/>\n",
       "<text text-anchor=\"middle\" x=\"1091.75\" y=\"-41.2\" font-family=\"Times,serif\" font-size=\"14.00\">L</text>\n",
       "<polyline fill=\"none\" stroke=\"black\" points=\"1104.25,-28.25 1104.25,-63.5\"/>\n",
       "<text text-anchor=\"middle\" x=\"1157.25\" y=\"-41.2\" font-family=\"Times,serif\" font-size=\"14.00\">data &#45;8.0000</text>\n",
       "<polyline fill=\"none\" stroke=\"black\" points=\"1210.25,-28.25 1210.25,-63.5\"/>\n",
       "<text text-anchor=\"middle\" x=\"1261.75\" y=\"-41.2\" font-family=\"Times,serif\" font-size=\"14.00\">grad 0.0000</text>\n",
       "</g>\n",
       "<!-- 140646426259312*&#45;&gt;140646426259312 -->\n",
       "<g id=\"edge2\" class=\"edge\">\n",
       "<title>140646426259312*&#45;&gt;140646426259312</title>\n",
       "<path fill=\"none\" stroke=\"black\" d=\"M1043.51,-45.5C1050.81,-45.5 1059.26,-45.5 1068.35,-45.5\"/>\n",
       "<polygon fill=\"black\" stroke=\"black\" points=\"1068.29,-49 1078.29,-45.5 1068.29,-42 1068.29,-49\"/>\n",
       "</g>\n",
       "<!-- 140646426258832 -->\n",
       "<g id=\"node7\" class=\"node\">\n",
       "<title>140646426258832</title>\n",
       "<polygon fill=\"none\" stroke=\"black\" points=\"360,-28.5 360,-64.5 597,-64.5 597,-28.5 360,-28.5\"/>\n",
       "<text text-anchor=\"middle\" x=\"371.75\" y=\"-42.2\" font-family=\"Times,serif\" font-size=\"14.00\">c</text>\n",
       "<polyline fill=\"none\" stroke=\"black\" points=\"383.5,-29.25 383.5,-64.5\"/>\n",
       "<text text-anchor=\"middle\" x=\"438.75\" y=\"-42.2\" font-family=\"Times,serif\" font-size=\"14.00\">data 10.0000</text>\n",
       "<polyline fill=\"none\" stroke=\"black\" points=\"494,-29.25 494,-64.5\"/>\n",
       "<text text-anchor=\"middle\" x=\"545.5\" y=\"-42.2\" font-family=\"Times,serif\" font-size=\"14.00\">grad 0.0000</text>\n",
       "</g>\n",
       "<!-- 140646426258832&#45;&gt;140646426256480+ -->\n",
       "<g id=\"edge7\" class=\"edge\">\n",
       "<title>140646426258832&#45;&gt;140646426256480+</title>\n",
       "<path fill=\"none\" stroke=\"black\" d=\"M596.97,-64.17C606.06,-65.54 614.73,-66.84 622.55,-68.02\"/>\n",
       "<polygon fill=\"black\" stroke=\"black\" points=\"621.94,-71.62 632.35,-69.64 622.98,-64.69 621.94,-71.62\"/>\n",
       "</g>\n",
       "<!-- 140646426256288 -->\n",
       "<g id=\"node8\" class=\"node\">\n",
       "<title>140646426256288</title>\n",
       "<polygon fill=\"none\" stroke=\"black\" points=\"723,-0.5 723,-36.5 953.25,-36.5 953.25,-0.5 723,-0.5\"/>\n",
       "<text text-anchor=\"middle\" x=\"733.62\" y=\"-14.2\" font-family=\"Times,serif\" font-size=\"14.00\">f</text>\n",
       "<polyline fill=\"none\" stroke=\"black\" points=\"744.25,-1.25 744.25,-36.5\"/>\n",
       "<text text-anchor=\"middle\" x=\"797.25\" y=\"-14.2\" font-family=\"Times,serif\" font-size=\"14.00\">data &#45;2.0000</text>\n",
       "<polyline fill=\"none\" stroke=\"black\" points=\"850.25,-1.25 850.25,-36.5\"/>\n",
       "<text text-anchor=\"middle\" x=\"901.75\" y=\"-14.2\" font-family=\"Times,serif\" font-size=\"14.00\">grad 0.0000</text>\n",
       "</g>\n",
       "<!-- 140646426256288&#45;&gt;140646426259312* -->\n",
       "<g id=\"edge5\" class=\"edge\">\n",
       "<title>140646426256288&#45;&gt;140646426259312*</title>\n",
       "<path fill=\"none\" stroke=\"black\" d=\"M953.15,-35.98C962.22,-37.37 970.88,-38.7 978.7,-39.9\"/>\n",
       "<polygon fill=\"black\" stroke=\"black\" points=\"978.1,-43.5 988.52,-41.56 979.16,-36.58 978.1,-43.5\"/>\n",
       "</g>\n",
       "<!-- 140646426259408 -->\n",
       "<g id=\"node9\" class=\"node\">\n",
       "<title>140646426259408</title>\n",
       "<polygon fill=\"none\" stroke=\"black\" points=\"361.88,-83.5 361.88,-119.5 595.12,-119.5 595.12,-83.5 361.88,-83.5\"/>\n",
       "<text text-anchor=\"middle\" x=\"374\" y=\"-97.2\" font-family=\"Times,serif\" font-size=\"14.00\">e</text>\n",
       "<polyline fill=\"none\" stroke=\"black\" points=\"386.12,-84.25 386.12,-119.5\"/>\n",
       "<text text-anchor=\"middle\" x=\"439.12\" y=\"-97.2\" font-family=\"Times,serif\" font-size=\"14.00\">data &#45;6.0000</text>\n",
       "<polyline fill=\"none\" stroke=\"black\" points=\"492.12,-84.25 492.12,-119.5\"/>\n",
       "<text text-anchor=\"middle\" x=\"543.62\" y=\"-97.2\" font-family=\"Times,serif\" font-size=\"14.00\">grad 0.0000</text>\n",
       "</g>\n",
       "<!-- 140646426259408&#45;&gt;140646426256480+ -->\n",
       "<g id=\"edge8\" class=\"edge\">\n",
       "<title>140646426259408&#45;&gt;140646426256480+</title>\n",
       "<path fill=\"none\" stroke=\"black\" d=\"M594.7,-83.53C604.56,-81.99 613.97,-80.52 622.4,-79.21\"/>\n",
       "<polygon fill=\"black\" stroke=\"black\" points=\"622.9,-82.52 632.24,-77.52 621.82,-75.6 622.9,-82.52\"/>\n",
       "</g>\n",
       "<!-- 140646426259408*&#45;&gt;140646426259408 -->\n",
       "<g id=\"edge3\" class=\"edge\">\n",
       "<title>140646426259408*&#45;&gt;140646426259408</title>\n",
       "<path fill=\"none\" stroke=\"black\" d=\"M324.49,-101.5C332.29,-101.5 341.4,-101.5 351.21,-101.5\"/>\n",
       "<polygon fill=\"black\" stroke=\"black\" points=\"351.09,-105 361.09,-101.5 351.09,-98 351.09,-105\"/>\n",
       "</g>\n",
       "</g>\n",
       "</svg>\n"
      ],
      "text/plain": [
       "<graphviz.graphs.Digraph at 0x7feacc46ca30>"
      ]
     },
     "execution_count": 30,
     "metadata": {},
     "output_type": "execute_result"
    }
   ],
   "source": [
    "draw_dot(L)"
   ]
  },
  {
   "cell_type": "code",
   "execution_count": 31,
   "id": "97f6009c-8c25-4646-a01e-b362b66f76d5",
   "metadata": {},
   "outputs": [],
   "source": [
    "L.grad = 1.0\n",
    "\n",
    "f.grad = 4.0\n",
    "d.grad = -2.0\n",
    "\n",
    "c.grad = -2.0\n",
    "e.grad = -2.0\n",
    "\n",
    "a.grad = e.grad * b.data\n",
    "b.grad = e.grad * a.data\n",
    "\n"
   ]
  },
  {
   "cell_type": "code",
   "execution_count": 32,
   "id": "1f3a0904-2ac1-4915-b965-57b6fe6f6d02",
   "metadata": {},
   "outputs": [
    {
     "name": "stdout",
     "output_type": "stream",
     "text": [
      "-3.9999999999995595\n"
     ]
    }
   ],
   "source": [
    "def lol():\n",
    "    \n",
    "    h = 0.001\n",
    "    \n",
    "    a = Value(2.0, label='a')\n",
    "    b = Value(-3, label='b')\n",
    "    c = Value(10, label='c')\n",
    "    e = a*b ; e.label='e'\n",
    "    d = e + c ; d.label='d'\n",
    "    f = Value(-2.0, label='f')\n",
    "    L = d * f ; L.label = 'L'\n",
    "    L1 = L.data\n",
    "    \n",
    "    a = Value(2.0 , label='a')\n",
    "    b = Value(-3, label='b')\n",
    "    b.data += h\n",
    "    c = Value(10, label='c')\n",
    "    e = a*b ; e.label='e'\n",
    "    d = e + c ; d.label='d'\n",
    "    f = Value(-2.0, label='f')\n",
    "    L = d * f ; L.label = 'L'\n",
    "    L2 = L.data\n",
    "    \n",
    "    print((L2 - L1)/h)\n",
    "    \n",
    "lol()"
   ]
  },
  {
   "cell_type": "code",
   "execution_count": 33,
   "id": "a741f6e1-1e2b-4081-9cff-fa99ce5aad01",
   "metadata": {},
   "outputs": [],
   "source": [
    "lr = 0.01\n",
    "a.data += lr * a.grad\n",
    "b.data += lr * b.grad\n",
    "c.data += lr * c.grad\n",
    "f.data += lr * f.grad\n"
   ]
  },
  {
   "cell_type": "code",
   "execution_count": 34,
   "id": "e367b811-81a4-469e-b56c-53bb458c61ba",
   "metadata": {},
   "outputs": [
    {
     "data": {
      "image/png": "[encoded data removed]",
      "text/plain": [
       "<Figure size 640x480 with 1 Axes>"
      ]
     },
     "metadata": {},
     "output_type": "display_data"
    }
   ],
   "source": [
    "plt.plot(np.arange(-5,5,0.2), np.tanh(np.arange(-5,5,0.2)))\n",
    "plt.grid()"
   ]
  },
  {
   "cell_type": "code",
   "execution_count": 35,
   "id": "d027cd3b-c985-4073-a840-0d824e62175d",
   "metadata": {},
   "outputs": [],
   "source": [
    "def sigmoid(z):\n",
    "    return 1/(1 + np.exp(-z))"
   ]
  },
  {
   "cell_type": "code",
   "execution_count": 36,
   "id": "5e048338-fe32-42ec-a32d-7c83e4429a89",
   "metadata": {},
   "outputs": [
    {
     "data": {
      "image/png": "[encoded data removed]",
      "text/plain": [
       "<Figure size 640x480 with 1 Axes>"
      ]
     },
     "metadata": {},
     "output_type": "display_data"
    }
   ],
   "source": [
    "plt.plot(np.arange(-5,5,0.2), sigmoid(np.arange(-5,5,0.2)))\n",
    "plt.grid()"
   ]
  },
  {
   "cell_type": "code",
   "execution_count": 110,
   "id": "7ca8787e-d88c-4bb3-b289-afde4d885b2e",
   "metadata": {},
   "outputs": [],
   "source": [
    "# inputs x1, x2\n",
    "x1 = Value(2.0, label='x1')\n",
    "x2 = Value(0.0, label='x2')\n",
    "# weights w1, w2\n",
    "w1 = Value(-3.0, label='w1')\n",
    "w2 = Value(1.0, label='w2')\n",
    "# bias of the neuron\n",
    "b = Value(6.8813735870195432, label='b')\n",
    "x1w1 = x1*w1; x1w1.label='x1*w1'\n",
    "x2w2 = x2*w2; x2w2.label = 'x2*w2'\n",
    "x1w1x2w2 = x1w1 + x2w2 ; x1w1x2w2.label = 'x1*w1 + x2*w2'\n",
    "n = x1w1x2w2 + b ; n.label = 'n'\n",
    "o = n.tanh() ; o.label = '0'"
   ]
  },
  {
   "cell_type": "code",
   "execution_count": 47,
   "id": "c6710240-2d3f-484b-8fad-e345e32c18f2",
   "metadata": {},
   "outputs": [],
   "source": [
    "o.grad = 1.0"
   ]
  },
  {
   "cell_type": "code",
   "execution_count": null,
   "id": "c9a0a9b9-cb99-469f-bdbd-f2c1c8bcf21b",
   "metadata": {},
   "outputs": [],
   "source": [
    "n.grad = 0.5"
   ]
  },
  {
   "cell_type": "code",
   "execution_count": 51,
   "id": "0dc55d76-fc0f-4cce-a765-b54c2d8c4483",
   "metadata": {},
   "outputs": [],
   "source": [
    "x1w1x2w2.grad = 0.5\n",
    "b.grad = 0.5"
   ]
  },
  {
   "cell_type": "code",
   "execution_count": 53,
   "id": "0d337811-54ae-4f17-94c4-0899e0ee2611",
   "metadata": {},
   "outputs": [],
   "source": [
    "x1w1.grad = 0.5\n",
    "x2w2.grad = 0.5"
   ]
  },
  {
   "cell_type": "code",
   "execution_count": 55,
   "id": "fb4bea11-83de-4615-897d-a942d8b37dac",
   "metadata": {},
   "outputs": [],
   "source": [
    "x2.grad = w2.data * x2w2.grad\n",
    "w2.grad = x2.data * x2w2.grad"
   ]
  },
  {
   "cell_type": "code",
   "execution_count": 56,
   "id": "107c9f80-fb54-4a63-abad-50f8f6fff243",
   "metadata": {},
   "outputs": [],
   "source": [
    "x1.grad = w1.data * x1w1.grad\n",
    "w1.grad = x1.data * x1w1.grad"
   ]
  },
  {
   "cell_type": "code",
   "execution_count": 57,
   "id": "7a06e4ba-d8d4-4810-9d15-ad883af3c75f",
   "metadata": {},
   "outputs": [
    {
     "data": {
      "image/svg+xml": [
       "<?xml version=\"1.0\" encoding=\"UTF-8\" standalone=\"no\"?>\n",
       "<!DOCTYPE svg PUBLIC \"-//W3C//DTD SVG 1.1//EN\"\n",
       " \"http://www.w3.org/Graphics/SVG/1.1/DTD/svg11.dtd\">\n",
       "<!-- Generated by graphviz version 8.0.5 (20230506.1012)\n",
       " -->\n",
       "<!-- Pages: 1 -->\n",
       "<svg width=\"1837pt\" height=\"210pt\"\n",
       " viewBox=\"0.00 0.00 1836.69 210.00\" xmlns=\"http://www.w3.org/2000/svg\" xmlns:xlink=\"http://www.w3.org/1999/xlink\">\n",
       "<g id=\"graph0\" class=\"graph\" transform=\"scale(1 1) rotate(0) translate(4 206)\">\n",
       "<polygon fill=\"white\" stroke=\"none\" points=\"-4,4 -4,-206 1832.69,-206 1832.69,4 -4,4\"/>\n",
       "<!-- 140646429094480 -->\n",
       "<g id=\"node1\" class=\"node\">\n",
       "<title>140646429094480</title>\n",
       "<polygon fill=\"none\" stroke=\"black\" points=\"1230,-54.5 1230,-90.5 1459.5,-90.5 1459.5,-54.5 1230,-54.5\"/>\n",
       "<text text-anchor=\"middle\" x=\"1242.5\" y=\"-68.2\" font-family=\"Times,serif\" font-size=\"14.00\">n</text>\n",
       "<polyline fill=\"none\" stroke=\"black\" points=\"1255,-55.25 1255,-90.5\"/>\n",
       "<text text-anchor=\"middle\" x=\"1305.75\" y=\"-68.2\" font-family=\"Times,serif\" font-size=\"14.00\">data 0.8814</text>\n",
       "<polyline fill=\"none\" stroke=\"black\" points=\"1356.5,-55.25 1356.5,-90.5\"/>\n",
       "<text text-anchor=\"middle\" x=\"1408\" y=\"-68.2\" font-family=\"Times,serif\" font-size=\"14.00\">grad 0.5000</text>\n",
       "</g>\n",
       "<!-- 140646429095632tanh -->\n",
       "<g id=\"node9\" class=\"node\">\n",
       "<title>140646429095632tanh</title>\n",
       "<ellipse fill=\"none\" stroke=\"black\" cx=\"1529.35\" cy=\"-72.5\" rx=\"33.85\" ry=\"18\"/>\n",
       "<text text-anchor=\"middle\" x=\"1529.35\" y=\"-67.83\" font-family=\"Times,serif\" font-size=\"14.00\">tanh</text>\n",
       "</g>\n",
       "<!-- 140646429094480&#45;&gt;140646429095632tanh -->\n",
       "<g id=\"edge9\" class=\"edge\">\n",
       "<title>140646429094480&#45;&gt;140646429095632tanh</title>\n",
       "<path fill=\"none\" stroke=\"black\" d=\"M1459.31,-72.5C1467.99,-72.5 1476.38,-72.5 1484.14,-72.5\"/>\n",
       "<polygon fill=\"black\" stroke=\"black\" points=\"1484.02,-76 1494.02,-72.5 1484.02,-69 1484.02,-76\"/>\n",
       "</g>\n",
       "<!-- 140646429094480+ -->\n",
       "<g id=\"node2\" class=\"node\">\n",
       "<title>140646429094480+</title>\n",
       "<ellipse fill=\"none\" stroke=\"black\" cx=\"1167\" cy=\"-72.5\" rx=\"27\" ry=\"18\"/>\n",
       "<text text-anchor=\"middle\" x=\"1167\" y=\"-67.83\" font-family=\"Times,serif\" font-size=\"14.00\">+</text>\n",
       "</g>\n",
       "<!-- 140646429094480+&#45;&gt;140646429094480 -->\n",
       "<g id=\"edge1\" class=\"edge\">\n",
       "<title>140646429094480+&#45;&gt;140646429094480</title>\n",
       "<path fill=\"none\" stroke=\"black\" d=\"M1194.31,-72.5C1201.61,-72.5 1210.04,-72.5 1219.11,-72.5\"/>\n",
       "<polygon fill=\"black\" stroke=\"black\" points=\"1219.02,-76 1229.02,-72.5 1219.02,-69 1219.02,-76\"/>\n",
       "</g>\n",
       "<!-- 140646429030480 -->\n",
       "<g id=\"node3\" class=\"node\">\n",
       "<title>140646429030480</title>\n",
       "<polygon fill=\"none\" stroke=\"black\" points=\"372,-110.5 372,-146.5 642,-146.5 642,-110.5 372,-110.5\"/>\n",
       "<text text-anchor=\"middle\" x=\"402.5\" y=\"-124.2\" font-family=\"Times,serif\" font-size=\"14.00\">x1*w1</text>\n",
       "<polyline fill=\"none\" stroke=\"black\" points=\"433,-111.25 433,-146.5\"/>\n",
       "<text text-anchor=\"middle\" x=\"486\" y=\"-124.2\" font-family=\"Times,serif\" font-size=\"14.00\">data &#45;6.0000</text>\n",
       "<polyline fill=\"none\" stroke=\"black\" points=\"539,-111.25 539,-146.5\"/>\n",
       "<text text-anchor=\"middle\" x=\"590.5\" y=\"-124.2\" font-family=\"Times,serif\" font-size=\"14.00\">grad 0.5000</text>\n",
       "</g>\n",
       "<!-- 140646429095776+ -->\n",
       "<g id=\"node13\" class=\"node\">\n",
       "<title>140646429095776+</title>\n",
       "<ellipse fill=\"none\" stroke=\"black\" cx=\"705\" cy=\"-100.5\" rx=\"27\" ry=\"18\"/>\n",
       "<text text-anchor=\"middle\" x=\"705\" y=\"-95.83\" font-family=\"Times,serif\" font-size=\"14.00\">+</text>\n",
       "</g>\n",
       "<!-- 140646429030480&#45;&gt;140646429095776+ -->\n",
       "<g id=\"edge8\" class=\"edge\">\n",
       "<title>140646429030480&#45;&gt;140646429095776+</title>\n",
       "<path fill=\"none\" stroke=\"black\" d=\"M633.79,-110.53C645.93,-108.8 657.44,-107.15 667.5,-105.71\"/>\n",
       "<polygon fill=\"black\" stroke=\"black\" points=\"667.8,-109.06 677.2,-104.19 666.81,-102.14 667.8,-109.06\"/>\n",
       "</g>\n",
       "<!-- 140646429030480* -->\n",
       "<g id=\"node4\" class=\"node\">\n",
       "<title>140646429030480*</title>\n",
       "<ellipse fill=\"none\" stroke=\"black\" cx=\"309\" cy=\"-128.5\" rx=\"27\" ry=\"18\"/>\n",
       "<text text-anchor=\"middle\" x=\"309\" y=\"-123.83\" font-family=\"Times,serif\" font-size=\"14.00\">*</text>\n",
       "</g>\n",
       "<!-- 140646429030480*&#45;&gt;140646429030480 -->\n",
       "<g id=\"edge2\" class=\"edge\">\n",
       "<title>140646429030480*&#45;&gt;140646429030480</title>\n",
       "<path fill=\"none\" stroke=\"black\" d=\"M336.43,-128.5C343.8,-128.5 352.35,-128.5 361.62,-128.5\"/>\n",
       "<polygon fill=\"black\" stroke=\"black\" points=\"361.36,-132 371.36,-128.5 361.36,-125 361.36,-132\"/>\n",
       "</g>\n",
       "<!-- 140646429031056 -->\n",
       "<g id=\"node5\" class=\"node\">\n",
       "<title>140646429031056</title>\n",
       "<polygon fill=\"none\" stroke=\"black\" points=\"4.12,-55.5 4.12,-91.5 241.88,-91.5 241.88,-55.5 4.12,-55.5\"/>\n",
       "<text text-anchor=\"middle\" x=\"20.75\" y=\"-69.2\" font-family=\"Times,serif\" font-size=\"14.00\">x2</text>\n",
       "<polyline fill=\"none\" stroke=\"black\" points=\"37.38,-56.25 37.38,-91.5\"/>\n",
       "<text text-anchor=\"middle\" x=\"88.12\" y=\"-69.2\" font-family=\"Times,serif\" font-size=\"14.00\">data 0.0000</text>\n",
       "<polyline fill=\"none\" stroke=\"black\" points=\"138.88,-56.25 138.88,-91.5\"/>\n",
       "<text text-anchor=\"middle\" x=\"190.38\" y=\"-69.2\" font-family=\"Times,serif\" font-size=\"14.00\">grad 0.5000</text>\n",
       "</g>\n",
       "<!-- 140646429095584* -->\n",
       "<g id=\"node7\" class=\"node\">\n",
       "<title>140646429095584*</title>\n",
       "<ellipse fill=\"none\" stroke=\"black\" cx=\"309\" cy=\"-73.5\" rx=\"27\" ry=\"18\"/>\n",
       "<text text-anchor=\"middle\" x=\"309\" y=\"-68.83\" font-family=\"Times,serif\" font-size=\"14.00\">*</text>\n",
       "</g>\n",
       "<!-- 140646429031056&#45;&gt;140646429095584* -->\n",
       "<g id=\"edge12\" class=\"edge\">\n",
       "<title>140646429031056&#45;&gt;140646429095584*</title>\n",
       "<path fill=\"none\" stroke=\"black\" d=\"M241.83,-73.5C252.18,-73.5 262.06,-73.5 270.87,-73.5\"/>\n",
       "<polygon fill=\"black\" stroke=\"black\" points=\"270.8,-77 280.8,-73.5 270.8,-70 270.8,-77\"/>\n",
       "</g>\n",
       "<!-- 140646429095584 -->\n",
       "<g id=\"node6\" class=\"node\">\n",
       "<title>140646429095584</title>\n",
       "<polygon fill=\"none\" stroke=\"black\" points=\"374.25,-55.5 374.25,-91.5 639.75,-91.5 639.75,-55.5 374.25,-55.5\"/>\n",
       "<text text-anchor=\"middle\" x=\"404.75\" y=\"-69.2\" font-family=\"Times,serif\" font-size=\"14.00\">x2*w2</text>\n",
       "<polyline fill=\"none\" stroke=\"black\" points=\"435.25,-56.25 435.25,-91.5\"/>\n",
       "<text text-anchor=\"middle\" x=\"486\" y=\"-69.2\" font-family=\"Times,serif\" font-size=\"14.00\">data 0.0000</text>\n",
       "<polyline fill=\"none\" stroke=\"black\" points=\"536.75,-56.25 536.75,-91.5\"/>\n",
       "<text text-anchor=\"middle\" x=\"588.25\" y=\"-69.2\" font-family=\"Times,serif\" font-size=\"14.00\">grad 0.5000</text>\n",
       "</g>\n",
       "<!-- 140646429095584&#45;&gt;140646429095776+ -->\n",
       "<g id=\"edge10\" class=\"edge\">\n",
       "<title>140646429095584&#45;&gt;140646429095776+</title>\n",
       "<path fill=\"none\" stroke=\"black\" d=\"M638.46,-91.47C648.85,-92.9 658.69,-94.26 667.43,-95.46\"/>\n",
       "<polygon fill=\"black\" stroke=\"black\" points=\"666.87,-99.06 677.25,-96.95 667.82,-92.12 666.87,-99.06\"/>\n",
       "</g>\n",
       "<!-- 140646429095584*&#45;&gt;140646429095584 -->\n",
       "<g id=\"edge3\" class=\"edge\">\n",
       "<title>140646429095584*&#45;&gt;140646429095584</title>\n",
       "<path fill=\"none\" stroke=\"black\" d=\"M336.43,-73.5C344.34,-73.5 353.62,-73.5 363.69,-73.5\"/>\n",
       "<polygon fill=\"black\" stroke=\"black\" points=\"363.44,-77 373.44,-73.5 363.44,-70 363.44,-77\"/>\n",
       "</g>\n",
       "<!-- 140646429095632 -->\n",
       "<g id=\"node8\" class=\"node\">\n",
       "<title>140646429095632</title>\n",
       "<polygon fill=\"none\" stroke=\"black\" points=\"1599.19,-54.5 1599.19,-90.5 1828.69,-90.5 1828.69,-54.5 1599.19,-54.5\"/>\n",
       "<text text-anchor=\"middle\" x=\"1611.69\" y=\"-68.2\" font-family=\"Times,serif\" font-size=\"14.00\">0</text>\n",
       "<polyline fill=\"none\" stroke=\"black\" points=\"1624.19,-55.25 1624.19,-90.5\"/>\n",
       "<text text-anchor=\"middle\" x=\"1674.94\" y=\"-68.2\" font-family=\"Times,serif\" font-size=\"14.00\">data 0.7071</text>\n",
       "<polyline fill=\"none\" stroke=\"black\" points=\"1725.69,-55.25 1725.69,-90.5\"/>\n",
       "<text text-anchor=\"middle\" x=\"1777.19\" y=\"-68.2\" font-family=\"Times,serif\" font-size=\"14.00\">grad 1.0000</text>\n",
       "</g>\n",
       "<!-- 140646429095632tanh&#45;&gt;140646429095632 -->\n",
       "<g id=\"edge4\" class=\"edge\">\n",
       "<title>140646429095632tanh&#45;&gt;140646429095632</title>\n",
       "<path fill=\"none\" stroke=\"black\" d=\"M1563.41,-72.5C1571.02,-72.5 1579.56,-72.5 1588.59,-72.5\"/>\n",
       "<polygon fill=\"black\" stroke=\"black\" points=\"1588.4,-76 1598.4,-72.5 1588.4,-69 1588.4,-76\"/>\n",
       "</g>\n",
       "<!-- 140646429030192 -->\n",
       "<g id=\"node10\" class=\"node\">\n",
       "<title>140646429030192</title>\n",
       "<polygon fill=\"none\" stroke=\"black\" points=\"2.25,-0.5 2.25,-36.5 243.75,-36.5 243.75,-0.5 2.25,-0.5\"/>\n",
       "<text text-anchor=\"middle\" x=\"20.75\" y=\"-14.2\" font-family=\"Times,serif\" font-size=\"14.00\">w2</text>\n",
       "<polyline fill=\"none\" stroke=\"black\" points=\"39.25,-1.25 39.25,-36.5\"/>\n",
       "<text text-anchor=\"middle\" x=\"90\" y=\"-14.2\" font-family=\"Times,serif\" font-size=\"14.00\">data 1.0000</text>\n",
       "<polyline fill=\"none\" stroke=\"black\" points=\"140.75,-1.25 140.75,-36.5\"/>\n",
       "<text text-anchor=\"middle\" x=\"192.25\" y=\"-14.2\" font-family=\"Times,serif\" font-size=\"14.00\">grad 0.0000</text>\n",
       "</g>\n",
       "<!-- 140646429030192&#45;&gt;140646429095584* -->\n",
       "<g id=\"edge6\" class=\"edge\">\n",
       "<title>140646429030192&#45;&gt;140646429095584*</title>\n",
       "<path fill=\"none\" stroke=\"black\" d=\"M214.85,-36.42C225.44,-39.15 236.02,-42.18 246,-45.5 256.4,-48.96 267.4,-53.59 277.21,-58.08\"/>\n",
       "<polygon fill=\"black\" stroke=\"black\" points=\"275.38,-61.56 285.92,-62.67 278.37,-55.23 275.38,-61.56\"/>\n",
       "</g>\n",
       "<!-- 140646429031728 -->\n",
       "<g id=\"node11\" class=\"node\">\n",
       "<title>140646429031728</title>\n",
       "<polygon fill=\"none\" stroke=\"black\" points=\"1.88,-165.5 1.88,-201.5 244.12,-201.5 244.12,-165.5 1.88,-165.5\"/>\n",
       "<text text-anchor=\"middle\" x=\"18.5\" y=\"-179.2\" font-family=\"Times,serif\" font-size=\"14.00\">x1</text>\n",
       "<polyline fill=\"none\" stroke=\"black\" points=\"35.12,-166.25 35.12,-201.5\"/>\n",
       "<text text-anchor=\"middle\" x=\"85.88\" y=\"-179.2\" font-family=\"Times,serif\" font-size=\"14.00\">data 2.0000</text>\n",
       "<polyline fill=\"none\" stroke=\"black\" points=\"136.62,-166.25 136.62,-201.5\"/>\n",
       "<text text-anchor=\"middle\" x=\"190.38\" y=\"-179.2\" font-family=\"Times,serif\" font-size=\"14.00\">grad &#45;1.5000</text>\n",
       "</g>\n",
       "<!-- 140646429031728&#45;&gt;140646429030480* -->\n",
       "<g id=\"edge7\" class=\"edge\">\n",
       "<title>140646429031728&#45;&gt;140646429030480*</title>\n",
       "<path fill=\"none\" stroke=\"black\" d=\"M214.85,-165.58C225.44,-162.85 236.02,-159.82 246,-156.5 256.4,-153.04 267.4,-148.41 277.21,-143.92\"/>\n",
       "<polygon fill=\"black\" stroke=\"black\" points=\"278.37,-146.77 285.92,-139.33 275.38,-140.44 278.37,-146.77\"/>\n",
       "</g>\n",
       "<!-- 140646429095776 -->\n",
       "<g id=\"node12\" class=\"node\">\n",
       "<title>140646429095776</title>\n",
       "<polygon fill=\"none\" stroke=\"black\" points=\"768,-82.5 768,-118.5 1104,-118.5 1104,-82.5 768,-82.5\"/>\n",
       "<text text-anchor=\"middle\" x=\"831.5\" y=\"-96.2\" font-family=\"Times,serif\" font-size=\"14.00\">x1*w1 + x2*w2</text>\n",
       "<polyline fill=\"none\" stroke=\"black\" points=\"895,-83.25 895,-118.5\"/>\n",
       "<text text-anchor=\"middle\" x=\"948\" y=\"-96.2\" font-family=\"Times,serif\" font-size=\"14.00\">data &#45;6.0000</text>\n",
       "<polyline fill=\"none\" stroke=\"black\" points=\"1001,-83.25 1001,-118.5\"/>\n",
       "<text text-anchor=\"middle\" x=\"1052.5\" y=\"-96.2\" font-family=\"Times,serif\" font-size=\"14.00\">grad 0.5000</text>\n",
       "</g>\n",
       "<!-- 140646429095776&#45;&gt;140646429094480+ -->\n",
       "<g id=\"edge14\" class=\"edge\">\n",
       "<title>140646429095776&#45;&gt;140646429094480+</title>\n",
       "<path fill=\"none\" stroke=\"black\" d=\"M1083.97,-82.53C1100.55,-80.5 1116.13,-78.6 1129.17,-77\"/>\n",
       "<polygon fill=\"black\" stroke=\"black\" points=\"1129.43,-80.37 1138.93,-75.69 1128.58,-73.43 1129.43,-80.37\"/>\n",
       "</g>\n",
       "<!-- 140646429095776+&#45;&gt;140646429095776 -->\n",
       "<g id=\"edge5\" class=\"edge\">\n",
       "<title>140646429095776+&#45;&gt;140646429095776</title>\n",
       "<path fill=\"none\" stroke=\"black\" d=\"M732.27,-100.5C739.52,-100.5 747.98,-100.5 757.24,-100.5\"/>\n",
       "<polygon fill=\"black\" stroke=\"black\" points=\"757.01,-104 767.01,-100.5 757.01,-97 757.01,-104\"/>\n",
       "</g>\n",
       "<!-- 140646429032352 -->\n",
       "<g id=\"node14\" class=\"node\">\n",
       "<title>140646429032352</title>\n",
       "<polygon fill=\"none\" stroke=\"black\" points=\"0,-110.5 0,-146.5 246,-146.5 246,-110.5 0,-110.5\"/>\n",
       "<text text-anchor=\"middle\" x=\"18.5\" y=\"-124.2\" font-family=\"Times,serif\" font-size=\"14.00\">w1</text>\n",
       "<polyline fill=\"none\" stroke=\"black\" points=\"37,-111.25 37,-146.5\"/>\n",
       "<text text-anchor=\"middle\" x=\"90\" y=\"-124.2\" font-family=\"Times,serif\" font-size=\"14.00\">data &#45;3.0000</text>\n",
       "<polyline fill=\"none\" stroke=\"black\" points=\"143,-111.25 143,-146.5\"/>\n",
       "<text text-anchor=\"middle\" x=\"194.5\" y=\"-124.2\" font-family=\"Times,serif\" font-size=\"14.00\">grad 1.0000</text>\n",
       "</g>\n",
       "<!-- 140646429032352&#45;&gt;140646429030480* -->\n",
       "<g id=\"edge13\" class=\"edge\">\n",
       "<title>140646429032352&#45;&gt;140646429030480*</title>\n",
       "<path fill=\"none\" stroke=\"black\" d=\"M245.96,-128.5C254.72,-128.5 263.07,-128.5 270.65,-128.5\"/>\n",
       "<polygon fill=\"black\" stroke=\"black\" points=\"270.5,-132 280.5,-128.5 270.5,-125 270.5,-132\"/>\n",
       "</g>\n",
       "<!-- 140646429029856 -->\n",
       "<g id=\"node15\" class=\"node\">\n",
       "<title>140646429029856</title>\n",
       "<polygon fill=\"none\" stroke=\"black\" points=\"821.25,-27.5 821.25,-63.5 1050.75,-63.5 1050.75,-27.5 821.25,-27.5\"/>\n",
       "<text text-anchor=\"middle\" x=\"833.75\" y=\"-41.2\" font-family=\"Times,serif\" font-size=\"14.00\">b</text>\n",
       "<polyline fill=\"none\" stroke=\"black\" points=\"846.25,-28.25 846.25,-63.5\"/>\n",
       "<text text-anchor=\"middle\" x=\"897\" y=\"-41.2\" font-family=\"Times,serif\" font-size=\"14.00\">data 6.8814</text>\n",
       "<polyline fill=\"none\" stroke=\"black\" points=\"947.75,-28.25 947.75,-63.5\"/>\n",
       "<text text-anchor=\"middle\" x=\"999.25\" y=\"-41.2\" font-family=\"Times,serif\" font-size=\"14.00\">grad 0.5000</text>\n",
       "</g>\n",
       "<!-- 140646429029856&#45;&gt;140646429094480+ -->\n",
       "<g id=\"edge11\" class=\"edge\">\n",
       "<title>140646429029856&#45;&gt;140646429094480+</title>\n",
       "<path fill=\"none\" stroke=\"black\" d=\"M1050.49,-58.88C1078.9,-62.23 1107.4,-65.59 1128.97,-68.13\"/>\n",
       "<polygon fill=\"black\" stroke=\"black\" points=\"1128.56,-71.73 1138.9,-69.42 1129.38,-64.78 1128.56,-71.73\"/>\n",
       "</g>\n",
       "</g>\n",
       "</svg>\n"
      ],
      "text/plain": [
       "<graphviz.graphs.Digraph at 0x7feacd2fbee0>"
      ]
     },
     "execution_count": 57,
     "metadata": {},
     "output_type": "execute_result"
    }
   ],
   "source": [
    "draw_dot(o)"
   ]
  },
  {
   "cell_type": "code",
   "execution_count": 112,
   "id": "76569926-9724-4edf-b359-3f12ccc45cde",
   "metadata": {},
   "outputs": [
    {
     "data": {
      "image/svg+xml": [
       "<?xml version=\"1.0\" encoding=\"UTF-8\" standalone=\"no\"?>\n",
       "<!DOCTYPE svg PUBLIC \"-//W3C//DTD SVG 1.1//EN\"\n",
       " \"http://www.w3.org/Graphics/SVG/1.1/DTD/svg11.dtd\">\n",
       "<!-- Generated by graphviz version 8.0.5 (20230506.1012)\n",
       " -->\n",
       "<!-- Pages: 1 -->\n",
       "<svg width=\"1837pt\" height=\"210pt\"\n",
       " viewBox=\"0.00 0.00 1836.69 210.00\" xmlns=\"http://www.w3.org/2000/svg\" xmlns:xlink=\"http://www.w3.org/1999/xlink\">\n",
       "<g id=\"graph0\" class=\"graph\" transform=\"scale(1 1) rotate(0) translate(4 206)\">\n",
       "<polygon fill=\"white\" stroke=\"none\" points=\"-4,4 -4,-206 1832.69,-206 1832.69,4 -4,4\"/>\n",
       "<!-- 140648035385408 -->\n",
       "<g id=\"node1\" class=\"node\">\n",
       "<title>140648035385408</title>\n",
       "<polygon fill=\"none\" stroke=\"black\" points=\"768,-82.5 768,-118.5 1104,-118.5 1104,-82.5 768,-82.5\"/>\n",
       "<text text-anchor=\"middle\" x=\"831.5\" y=\"-96.2\" font-family=\"Times,serif\" font-size=\"14.00\">x1*w1 + x2*w2</text>\n",
       "<polyline fill=\"none\" stroke=\"black\" points=\"895,-83.25 895,-118.5\"/>\n",
       "<text text-anchor=\"middle\" x=\"948\" y=\"-96.2\" font-family=\"Times,serif\" font-size=\"14.00\">data &#45;6.0000</text>\n",
       "<polyline fill=\"none\" stroke=\"black\" points=\"1001,-83.25 1001,-118.5\"/>\n",
       "<text text-anchor=\"middle\" x=\"1052.5\" y=\"-96.2\" font-family=\"Times,serif\" font-size=\"14.00\">grad 0.5000</text>\n",
       "</g>\n",
       "<!-- 140648034586480+ -->\n",
       "<g id=\"node12\" class=\"node\">\n",
       "<title>140648034586480+</title>\n",
       "<ellipse fill=\"none\" stroke=\"black\" cx=\"1167\" cy=\"-127.5\" rx=\"27\" ry=\"18\"/>\n",
       "<text text-anchor=\"middle\" x=\"1167\" y=\"-122.83\" font-family=\"Times,serif\" font-size=\"14.00\">+</text>\n",
       "</g>\n",
       "<!-- 140648035385408&#45;&gt;140648034586480+ -->\n",
       "<g id=\"edge9\" class=\"edge\">\n",
       "<title>140648035385408&#45;&gt;140648034586480+</title>\n",
       "<path fill=\"none\" stroke=\"black\" d=\"M1089.43,-118.47C1104,-120.19 1117.65,-121.8 1129.27,-123.17\"/>\n",
       "<polygon fill=\"black\" stroke=\"black\" points=\"1128.83,-126.76 1139.17,-124.46 1129.65,-119.81 1128.83,-126.76\"/>\n",
       "</g>\n",
       "<!-- 140648035385408+ -->\n",
       "<g id=\"node2\" class=\"node\">\n",
       "<title>140648035385408+</title>\n",
       "<ellipse fill=\"none\" stroke=\"black\" cx=\"705\" cy=\"-100.5\" rx=\"27\" ry=\"18\"/>\n",
       "<text text-anchor=\"middle\" x=\"705\" y=\"-95.83\" font-family=\"Times,serif\" font-size=\"14.00\">+</text>\n",
       "</g>\n",
       "<!-- 140648035385408+&#45;&gt;140648035385408 -->\n",
       "<g id=\"edge1\" class=\"edge\">\n",
       "<title>140648035385408+&#45;&gt;140648035385408</title>\n",
       "<path fill=\"none\" stroke=\"black\" d=\"M732.27,-100.5C739.52,-100.5 747.98,-100.5 757.24,-100.5\"/>\n",
       "<polygon fill=\"black\" stroke=\"black\" points=\"757.01,-104 767.01,-100.5 757.01,-97 757.01,-104\"/>\n",
       "</g>\n",
       "<!-- 140646429867120 -->\n",
       "<g id=\"node3\" class=\"node\">\n",
       "<title>140646429867120</title>\n",
       "<polygon fill=\"none\" stroke=\"black\" points=\"2.25,-165.5 2.25,-201.5 243.75,-201.5 243.75,-165.5 2.25,-165.5\"/>\n",
       "<text text-anchor=\"middle\" x=\"20.75\" y=\"-179.2\" font-family=\"Times,serif\" font-size=\"14.00\">w2</text>\n",
       "<polyline fill=\"none\" stroke=\"black\" points=\"39.25,-166.25 39.25,-201.5\"/>\n",
       "<text text-anchor=\"middle\" x=\"90\" y=\"-179.2\" font-family=\"Times,serif\" font-size=\"14.00\">data 1.0000</text>\n",
       "<polyline fill=\"none\" stroke=\"black\" points=\"140.75,-166.25 140.75,-201.5\"/>\n",
       "<text text-anchor=\"middle\" x=\"192.25\" y=\"-179.2\" font-family=\"Times,serif\" font-size=\"14.00\">grad 0.0000</text>\n",
       "</g>\n",
       "<!-- 140648035387616* -->\n",
       "<g id=\"node6\" class=\"node\">\n",
       "<title>140648035387616*</title>\n",
       "<ellipse fill=\"none\" stroke=\"black\" cx=\"309\" cy=\"-128.5\" rx=\"27\" ry=\"18\"/>\n",
       "<text text-anchor=\"middle\" x=\"309\" y=\"-123.83\" font-family=\"Times,serif\" font-size=\"14.00\">*</text>\n",
       "</g>\n",
       "<!-- 140646429867120&#45;&gt;140648035387616* -->\n",
       "<g id=\"edge11\" class=\"edge\">\n",
       "<title>140646429867120&#45;&gt;140648035387616*</title>\n",
       "<path fill=\"none\" stroke=\"black\" d=\"M214.85,-165.58C225.44,-162.85 236.02,-159.82 246,-156.5 256.4,-153.04 267.4,-148.41 277.21,-143.92\"/>\n",
       "<polygon fill=\"black\" stroke=\"black\" points=\"278.37,-146.77 285.92,-139.33 275.38,-140.44 278.37,-146.77\"/>\n",
       "</g>\n",
       "<!-- 140646429866640 -->\n",
       "<g id=\"node4\" class=\"node\">\n",
       "<title>140646429866640</title>\n",
       "<polygon fill=\"none\" stroke=\"black\" points=\"1.88,-55.5 1.88,-91.5 244.12,-91.5 244.12,-55.5 1.88,-55.5\"/>\n",
       "<text text-anchor=\"middle\" x=\"18.5\" y=\"-69.2\" font-family=\"Times,serif\" font-size=\"14.00\">x1</text>\n",
       "<polyline fill=\"none\" stroke=\"black\" points=\"35.12,-56.25 35.12,-91.5\"/>\n",
       "<text text-anchor=\"middle\" x=\"85.88\" y=\"-69.2\" font-family=\"Times,serif\" font-size=\"14.00\">data 2.0000</text>\n",
       "<polyline fill=\"none\" stroke=\"black\" points=\"136.62,-56.25 136.62,-91.5\"/>\n",
       "<text text-anchor=\"middle\" x=\"190.38\" y=\"-69.2\" font-family=\"Times,serif\" font-size=\"14.00\">grad &#45;1.5000</text>\n",
       "</g>\n",
       "<!-- 140648035386320* -->\n",
       "<g id=\"node14\" class=\"node\">\n",
       "<title>140648035386320*</title>\n",
       "<ellipse fill=\"none\" stroke=\"black\" cx=\"309\" cy=\"-73.5\" rx=\"27\" ry=\"18\"/>\n",
       "<text text-anchor=\"middle\" x=\"309\" y=\"-68.83\" font-family=\"Times,serif\" font-size=\"14.00\">*</text>\n",
       "</g>\n",
       "<!-- 140646429866640&#45;&gt;140648035386320* -->\n",
       "<g id=\"edge10\" class=\"edge\">\n",
       "<title>140646429866640&#45;&gt;140648035386320*</title>\n",
       "<path fill=\"none\" stroke=\"black\" d=\"M243.9,-73.5C253.48,-73.5 262.62,-73.5 270.83,-73.5\"/>\n",
       "<polygon fill=\"black\" stroke=\"black\" points=\"270.78,-77 280.78,-73.5 270.78,-70 270.78,-77\"/>\n",
       "</g>\n",
       "<!-- 140648035387616 -->\n",
       "<g id=\"node5\" class=\"node\">\n",
       "<title>140648035387616</title>\n",
       "<polygon fill=\"none\" stroke=\"black\" points=\"374.25,-110.5 374.25,-146.5 639.75,-146.5 639.75,-110.5 374.25,-110.5\"/>\n",
       "<text text-anchor=\"middle\" x=\"404.75\" y=\"-124.2\" font-family=\"Times,serif\" font-size=\"14.00\">x2*w2</text>\n",
       "<polyline fill=\"none\" stroke=\"black\" points=\"435.25,-111.25 435.25,-146.5\"/>\n",
       "<text text-anchor=\"middle\" x=\"486\" y=\"-124.2\" font-family=\"Times,serif\" font-size=\"14.00\">data 0.0000</text>\n",
       "<polyline fill=\"none\" stroke=\"black\" points=\"536.75,-111.25 536.75,-146.5\"/>\n",
       "<text text-anchor=\"middle\" x=\"588.25\" y=\"-124.2\" font-family=\"Times,serif\" font-size=\"14.00\">grad 0.5000</text>\n",
       "</g>\n",
       "<!-- 140648035387616&#45;&gt;140648035385408+ -->\n",
       "<g id=\"edge7\" class=\"edge\">\n",
       "<title>140648035387616&#45;&gt;140648035385408+</title>\n",
       "<path fill=\"none\" stroke=\"black\" d=\"M633.79,-110.53C645.93,-108.8 657.44,-107.15 667.5,-105.71\"/>\n",
       "<polygon fill=\"black\" stroke=\"black\" points=\"667.8,-109.06 677.2,-104.19 666.81,-102.14 667.8,-109.06\"/>\n",
       "</g>\n",
       "<!-- 140648035387616*&#45;&gt;140648035387616 -->\n",
       "<g id=\"edge2\" class=\"edge\">\n",
       "<title>140648035387616*&#45;&gt;140648035387616</title>\n",
       "<path fill=\"none\" stroke=\"black\" d=\"M336.43,-128.5C344.34,-128.5 353.62,-128.5 363.69,-128.5\"/>\n",
       "<polygon fill=\"black\" stroke=\"black\" points=\"363.44,-132 373.44,-128.5 363.44,-125 363.44,-132\"/>\n",
       "</g>\n",
       "<!-- 140646429867840 -->\n",
       "<g id=\"node7\" class=\"node\">\n",
       "<title>140646429867840</title>\n",
       "<polygon fill=\"none\" stroke=\"black\" points=\"821.25,-137.5 821.25,-173.5 1050.75,-173.5 1050.75,-137.5 821.25,-137.5\"/>\n",
       "<text text-anchor=\"middle\" x=\"833.75\" y=\"-151.2\" font-family=\"Times,serif\" font-size=\"14.00\">b</text>\n",
       "<polyline fill=\"none\" stroke=\"black\" points=\"846.25,-138.25 846.25,-173.5\"/>\n",
       "<text text-anchor=\"middle\" x=\"897\" y=\"-151.2\" font-family=\"Times,serif\" font-size=\"14.00\">data 6.8814</text>\n",
       "<polyline fill=\"none\" stroke=\"black\" points=\"947.75,-138.25 947.75,-173.5\"/>\n",
       "<text text-anchor=\"middle\" x=\"999.25\" y=\"-151.2\" font-family=\"Times,serif\" font-size=\"14.00\">grad 0.5000</text>\n",
       "</g>\n",
       "<!-- 140646429867840&#45;&gt;140648034586480+ -->\n",
       "<g id=\"edge6\" class=\"edge\">\n",
       "<title>140646429867840&#45;&gt;140648034586480+</title>\n",
       "<path fill=\"none\" stroke=\"black\" d=\"M1050.49,-141.62C1079.23,-138.11 1108.04,-134.59 1129.71,-131.94\"/>\n",
       "<polygon fill=\"black\" stroke=\"black\" points=\"1129.84,-135.32 1139.34,-130.64 1128.99,-128.38 1129.84,-135.32\"/>\n",
       "</g>\n",
       "<!-- 140646426727232 -->\n",
       "<g id=\"node8\" class=\"node\">\n",
       "<title>140646426727232</title>\n",
       "<polygon fill=\"none\" stroke=\"black\" points=\"1599.19,-109.5 1599.19,-145.5 1828.69,-145.5 1828.69,-109.5 1599.19,-109.5\"/>\n",
       "<text text-anchor=\"middle\" x=\"1611.69\" y=\"-123.2\" font-family=\"Times,serif\" font-size=\"14.00\">0</text>\n",
       "<polyline fill=\"none\" stroke=\"black\" points=\"1624.19,-110.25 1624.19,-145.5\"/>\n",
       "<text text-anchor=\"middle\" x=\"1674.94\" y=\"-123.2\" font-family=\"Times,serif\" font-size=\"14.00\">data 0.7071</text>\n",
       "<polyline fill=\"none\" stroke=\"black\" points=\"1725.69,-110.25 1725.69,-145.5\"/>\n",
       "<text text-anchor=\"middle\" x=\"1777.19\" y=\"-123.2\" font-family=\"Times,serif\" font-size=\"14.00\">grad 1.0000</text>\n",
       "</g>\n",
       "<!-- 140646426727232tanh -->\n",
       "<g id=\"node9\" class=\"node\">\n",
       "<title>140646426727232tanh</title>\n",
       "<ellipse fill=\"none\" stroke=\"black\" cx=\"1529.35\" cy=\"-127.5\" rx=\"33.85\" ry=\"18\"/>\n",
       "<text text-anchor=\"middle\" x=\"1529.35\" y=\"-122.83\" font-family=\"Times,serif\" font-size=\"14.00\">tanh</text>\n",
       "</g>\n",
       "<!-- 140646426727232tanh&#45;&gt;140646426727232 -->\n",
       "<g id=\"edge3\" class=\"edge\">\n",
       "<title>140646426727232tanh&#45;&gt;140646426727232</title>\n",
       "<path fill=\"none\" stroke=\"black\" d=\"M1563.41,-127.5C1571.02,-127.5 1579.56,-127.5 1588.59,-127.5\"/>\n",
       "<polygon fill=\"black\" stroke=\"black\" points=\"1588.4,-131 1598.4,-127.5 1588.4,-124 1588.4,-131\"/>\n",
       "</g>\n",
       "<!-- 140646429867360 -->\n",
       "<g id=\"node10\" class=\"node\">\n",
       "<title>140646429867360</title>\n",
       "<polygon fill=\"none\" stroke=\"black\" points=\"0,-0.5 0,-36.5 246,-36.5 246,-0.5 0,-0.5\"/>\n",
       "<text text-anchor=\"middle\" x=\"18.5\" y=\"-14.2\" font-family=\"Times,serif\" font-size=\"14.00\">w1</text>\n",
       "<polyline fill=\"none\" stroke=\"black\" points=\"37,-1.25 37,-36.5\"/>\n",
       "<text text-anchor=\"middle\" x=\"90\" y=\"-14.2\" font-family=\"Times,serif\" font-size=\"14.00\">data &#45;3.0000</text>\n",
       "<polyline fill=\"none\" stroke=\"black\" points=\"143,-1.25 143,-36.5\"/>\n",
       "<text text-anchor=\"middle\" x=\"194.5\" y=\"-14.2\" font-family=\"Times,serif\" font-size=\"14.00\">grad 1.0000</text>\n",
       "</g>\n",
       "<!-- 140646429867360&#45;&gt;140648035386320* -->\n",
       "<g id=\"edge12\" class=\"edge\">\n",
       "<title>140646429867360&#45;&gt;140648035386320*</title>\n",
       "<path fill=\"none\" stroke=\"black\" d=\"M211.19,-36.43C222.98,-39.46 234.85,-42.83 246,-46.5 256.15,-49.84 266.93,-54.23 276.6,-58.48\"/>\n",
       "<polygon fill=\"black\" stroke=\"black\" points=\"275.02,-62.06 285.58,-63 277.91,-55.69 275.02,-62.06\"/>\n",
       "</g>\n",
       "<!-- 140648034586480 -->\n",
       "<g id=\"node11\" class=\"node\">\n",
       "<title>140648034586480</title>\n",
       "<polygon fill=\"none\" stroke=\"black\" points=\"1230,-109.5 1230,-145.5 1459.5,-145.5 1459.5,-109.5 1230,-109.5\"/>\n",
       "<text text-anchor=\"middle\" x=\"1242.5\" y=\"-123.2\" font-family=\"Times,serif\" font-size=\"14.00\">n</text>\n",
       "<polyline fill=\"none\" stroke=\"black\" points=\"1255,-110.25 1255,-145.5\"/>\n",
       "<text text-anchor=\"middle\" x=\"1305.75\" y=\"-123.2\" font-family=\"Times,serif\" font-size=\"14.00\">data 0.8814</text>\n",
       "<polyline fill=\"none\" stroke=\"black\" points=\"1356.5,-110.25 1356.5,-145.5\"/>\n",
       "<text text-anchor=\"middle\" x=\"1408\" y=\"-123.2\" font-family=\"Times,serif\" font-size=\"14.00\">grad 0.5000</text>\n",
       "</g>\n",
       "<!-- 140648034586480&#45;&gt;140646426727232tanh -->\n",
       "<g id=\"edge14\" class=\"edge\">\n",
       "<title>140648034586480&#45;&gt;140646426727232tanh</title>\n",
       "<path fill=\"none\" stroke=\"black\" d=\"M1459.31,-127.5C1467.99,-127.5 1476.38,-127.5 1484.14,-127.5\"/>\n",
       "<polygon fill=\"black\" stroke=\"black\" points=\"1484.02,-131 1494.02,-127.5 1484.02,-124 1484.02,-131\"/>\n",
       "</g>\n",
       "<!-- 140648034586480+&#45;&gt;140648034586480 -->\n",
       "<g id=\"edge4\" class=\"edge\">\n",
       "<title>140648034586480+&#45;&gt;140648034586480</title>\n",
       "<path fill=\"none\" stroke=\"black\" d=\"M1194.31,-127.5C1201.61,-127.5 1210.04,-127.5 1219.11,-127.5\"/>\n",
       "<polygon fill=\"black\" stroke=\"black\" points=\"1219.02,-131 1229.02,-127.5 1219.02,-124 1219.02,-131\"/>\n",
       "</g>\n",
       "<!-- 140648035386320 -->\n",
       "<g id=\"node13\" class=\"node\">\n",
       "<title>140648035386320</title>\n",
       "<polygon fill=\"none\" stroke=\"black\" points=\"372,-55.5 372,-91.5 642,-91.5 642,-55.5 372,-55.5\"/>\n",
       "<text text-anchor=\"middle\" x=\"402.5\" y=\"-69.2\" font-family=\"Times,serif\" font-size=\"14.00\">x1*w1</text>\n",
       "<polyline fill=\"none\" stroke=\"black\" points=\"433,-56.25 433,-91.5\"/>\n",
       "<text text-anchor=\"middle\" x=\"486\" y=\"-69.2\" font-family=\"Times,serif\" font-size=\"14.00\">data &#45;6.0000</text>\n",
       "<polyline fill=\"none\" stroke=\"black\" points=\"539,-56.25 539,-91.5\"/>\n",
       "<text text-anchor=\"middle\" x=\"590.5\" y=\"-69.2\" font-family=\"Times,serif\" font-size=\"14.00\">grad 0.5000</text>\n",
       "</g>\n",
       "<!-- 140648035386320&#45;&gt;140648035385408+ -->\n",
       "<g id=\"edge13\" class=\"edge\">\n",
       "<title>140648035386320&#45;&gt;140648035385408+</title>\n",
       "<path fill=\"none\" stroke=\"black\" d=\"M638.46,-91.47C648.85,-92.9 658.69,-94.26 667.43,-95.46\"/>\n",
       "<polygon fill=\"black\" stroke=\"black\" points=\"666.87,-99.06 677.25,-96.95 667.82,-92.12 666.87,-99.06\"/>\n",
       "</g>\n",
       "<!-- 140648035386320*&#45;&gt;140648035386320 -->\n",
       "<g id=\"edge5\" class=\"edge\">\n",
       "<title>140648035386320*&#45;&gt;140648035386320</title>\n",
       "<path fill=\"none\" stroke=\"black\" d=\"M336.43,-73.5C343.8,-73.5 352.35,-73.5 361.62,-73.5\"/>\n",
       "<polygon fill=\"black\" stroke=\"black\" points=\"361.36,-77 371.36,-73.5 361.36,-70 361.36,-77\"/>\n",
       "</g>\n",
       "<!-- 140648035576800 -->\n",
       "<g id=\"node15\" class=\"node\">\n",
       "<title>140648035576800</title>\n",
       "<polygon fill=\"none\" stroke=\"black\" points=\"4.12,-110.5 4.12,-146.5 241.88,-146.5 241.88,-110.5 4.12,-110.5\"/>\n",
       "<text text-anchor=\"middle\" x=\"20.75\" y=\"-124.2\" font-family=\"Times,serif\" font-size=\"14.00\">x2</text>\n",
       "<polyline fill=\"none\" stroke=\"black\" points=\"37.38,-111.25 37.38,-146.5\"/>\n",
       "<text text-anchor=\"middle\" x=\"88.12\" y=\"-124.2\" font-family=\"Times,serif\" font-size=\"14.00\">data 0.0000</text>\n",
       "<polyline fill=\"none\" stroke=\"black\" points=\"138.88,-111.25 138.88,-146.5\"/>\n",
       "<text text-anchor=\"middle\" x=\"190.38\" y=\"-124.2\" font-family=\"Times,serif\" font-size=\"14.00\">grad 0.5000</text>\n",
       "</g>\n",
       "<!-- 140648035576800&#45;&gt;140648035387616* -->\n",
       "<g id=\"edge8\" class=\"edge\">\n",
       "<title>140648035576800&#45;&gt;140648035387616*</title>\n",
       "<path fill=\"none\" stroke=\"black\" d=\"M241.83,-128.5C252.18,-128.5 262.06,-128.5 270.87,-128.5\"/>\n",
       "<polygon fill=\"black\" stroke=\"black\" points=\"270.8,-132 280.8,-128.5 270.8,-125 270.8,-132\"/>\n",
       "</g>\n",
       "</g>\n",
       "</svg>\n"
      ],
      "text/plain": [
       "<graphviz.graphs.Digraph at 0x7feb2c3000a0>"
      ]
     },
     "execution_count": 112,
     "metadata": {},
     "output_type": "execute_result"
    }
   ],
   "source": [
    "draw_dot(o)"
   ]
  },
  {
   "cell_type": "code",
   "execution_count": 102,
   "id": "603e0b41-66f3-49b2-ba94-14384f15cdae",
   "metadata": {},
   "outputs": [],
   "source": [
    "o.grad = 1.0"
   ]
  },
  {
   "cell_type": "code",
   "execution_count": 103,
   "id": "b226aafb-df9b-40ee-a1ae-230d4c9b4649",
   "metadata": {},
   "outputs": [],
   "source": [
    "o._backward()"
   ]
  },
  {
   "cell_type": "code",
   "execution_count": 104,
   "id": "2747cd50-589f-4db5-a159-1708d4bd4b0e",
   "metadata": {},
   "outputs": [],
   "source": [
    "n._backward()"
   ]
  },
  {
   "cell_type": "code",
   "execution_count": 105,
   "id": "10659fdc-537a-40d2-a151-092c21f9be80",
   "metadata": {},
   "outputs": [],
   "source": [
    "x1w1x2w2._backward()"
   ]
  },
  {
   "cell_type": "code",
   "execution_count": 106,
   "id": "fb807e56-b182-4647-a79e-ddbfdddcd155",
   "metadata": {},
   "outputs": [],
   "source": [
    "x1w1._backward()"
   ]
  },
  {
   "cell_type": "code",
   "execution_count": 107,
   "id": "ce86ba39-417f-439f-b77e-db977bbb19d7",
   "metadata": {},
   "outputs": [],
   "source": [
    "x2w2._backward()"
   ]
  },
  {
   "cell_type": "code",
   "execution_count": 111,
   "id": "e1b3fbe6-283d-4c1a-b518-db4fbd710df4",
   "metadata": {},
   "outputs": [],
   "source": [
    "o.backward()"
   ]
  },
  {
   "cell_type": "code",
   "execution_count": null,
   "id": "69bbb745-5280-4863-87b5-764ec094c4a6",
   "metadata": {},
   "outputs": [],
   "source": []
  }
 ],
 "metadata": {
  "kernelspec": {
   "display_name": "Python 3 (ipykernel)",
   "language": "python",
   "name": "python3"
  },
  "language_info": {
   "codemirror_mode": {
    "name": "ipython",
    "version": 3
   },
   "file_extension": ".py",
   "mimetype": "text/x-python",
   "name": "python",
   "nbconvert_exporter": "python",
   "pygments_lexer": "ipython3",
   "version": "3.9.16"
  }
 },
 "nbformat": 4,
 "nbformat_minor": 5
}
