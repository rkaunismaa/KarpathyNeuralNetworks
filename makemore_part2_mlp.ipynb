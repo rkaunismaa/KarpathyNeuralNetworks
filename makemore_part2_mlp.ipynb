{
 "cells": [
  {
   "cell_type": "markdown",
   "id": "9afaa92b-6d91-4bab-8597-eb9aaf438fed",
   "metadata": {},
   "source": [
    "[Building makemore Part 2: MLP](https://www.youtube.com/watch?v=TCH_1BHY58I)\n",
    "\n",
    "\n",
    "This notebook is about training word embeddings on the names.txt file, to come up with new names.\n",
    "\n",
    "It is based on the paper [A Neural Probabilistic Language Model](https://www.jmlr.org/papers/volume3/bengio03a/bengio03a.pdf) by Yoshua Bengio.\n",
    "\n"
   ]
  },
  {
   "cell_type": "markdown",
   "id": "9f3632bf-3e35-44ed-8617-cf2b245cb5d9",
   "metadata": {},
   "source": [
    "![Neural Architecture](images/NeuralArchitecture.png)"
   ]
  },
  {
   "cell_type": "code",
   "execution_count": 1,
   "id": "b32738b8-d629-42c7-bc3b-5a93a4076d97",
   "metadata": {},
   "outputs": [],
   "source": [
    "import torch\n",
    "import torch.nn.functional as F\n",
    "import matplotlib.pyplot as plt\n",
    "%matplotlib inline"
   ]
  },
  {
   "cell_type": "code",
   "execution_count": 2,
   "id": "62e4b8fc-6b29-4417-bbf7-f393876c98e9",
   "metadata": {},
   "outputs": [
    {
     "data": {
      "text/plain": [
       "['emma', 'olivia', 'ava', 'isabella', 'sophia', 'charlotte', 'mia', 'amelia']"
      ]
     },
     "execution_count": 2,
     "metadata": {},
     "output_type": "execute_result"
    }
   ],
   "source": [
    "# read in all the words\n",
    "words = open('names.txt', 'r').read().splitlines()\n",
    "words[:8]"
   ]
  },
  {
   "cell_type": "code",
   "execution_count": 3,
   "id": "9e0c6140-8874-49d1-bdbb-45bd3a47dcc5",
   "metadata": {},
   "outputs": [
    {
     "data": {
      "text/plain": [
       "32033"
      ]
     },
     "execution_count": 3,
     "metadata": {},
     "output_type": "execute_result"
    }
   ],
   "source": [
    "len(words)"
   ]
  },
  {
   "cell_type": "code",
   "execution_count": 4,
   "id": "000f7860-eade-4433-ba9a-ff07a36246f3",
   "metadata": {},
   "outputs": [
    {
     "data": {
      "text/plain": [
       "['a',\n",
       " 'b',\n",
       " 'c',\n",
       " 'd',\n",
       " 'e',\n",
       " 'f',\n",
       " 'g',\n",
       " 'h',\n",
       " 'i',\n",
       " 'j',\n",
       " 'k',\n",
       " 'l',\n",
       " 'm',\n",
       " 'n',\n",
       " 'o',\n",
       " 'p',\n",
       " 'q',\n",
       " 'r',\n",
       " 's',\n",
       " 't',\n",
       " 'u',\n",
       " 'v',\n",
       " 'w',\n",
       " 'x',\n",
       " 'y',\n",
       " 'z']"
      ]
     },
     "execution_count": 4,
     "metadata": {},
     "output_type": "execute_result"
    }
   ],
   "source": [
    "# build the vocabulary of characters and mappings to/from integers\n",
    "chars = sorted(list(set(''.join(words))))\n",
    "chars"
   ]
  },
  {
   "cell_type": "code",
   "execution_count": 5,
   "id": "8161ad4c-792e-4995-9f62-ff8f88ca8c75",
   "metadata": {},
   "outputs": [],
   "source": [
    "delimiter = '.'"
   ]
  },
  {
   "cell_type": "code",
   "execution_count": 6,
   "id": "9a0a5eef-9b1a-410b-9c0f-0893594e5093",
   "metadata": {},
   "outputs": [
    {
     "data": {
      "text/plain": [
       "{'a': 1,\n",
       " 'b': 2,\n",
       " 'c': 3,\n",
       " 'd': 4,\n",
       " 'e': 5,\n",
       " 'f': 6,\n",
       " 'g': 7,\n",
       " 'h': 8,\n",
       " 'i': 9,\n",
       " 'j': 10,\n",
       " 'k': 11,\n",
       " 'l': 12,\n",
       " 'm': 13,\n",
       " 'n': 14,\n",
       " 'o': 15,\n",
       " 'p': 16,\n",
       " 'q': 17,\n",
       " 'r': 18,\n",
       " 's': 19,\n",
       " 't': 20,\n",
       " 'u': 21,\n",
       " 'v': 22,\n",
       " 'w': 23,\n",
       " 'x': 24,\n",
       " 'y': 25,\n",
       " 'z': 26,\n",
       " '.': 0}"
      ]
     },
     "execution_count": 6,
     "metadata": {},
     "output_type": "execute_result"
    }
   ],
   "source": [
    "stoi = {s:i+1 for i,s in enumerate(chars)}\n",
    "stoi[delimiter]=0\n",
    "stoi"
   ]
  },
  {
   "cell_type": "code",
   "execution_count": 7,
   "id": "20e9925f-4afb-4f2c-85a1-b1c8ee3f9941",
   "metadata": {},
   "outputs": [
    {
     "data": {
      "text/plain": [
       "{1: 'a',\n",
       " 2: 'b',\n",
       " 3: 'c',\n",
       " 4: 'd',\n",
       " 5: 'e',\n",
       " 6: 'f',\n",
       " 7: 'g',\n",
       " 8: 'h',\n",
       " 9: 'i',\n",
       " 10: 'j',\n",
       " 11: 'k',\n",
       " 12: 'l',\n",
       " 13: 'm',\n",
       " 14: 'n',\n",
       " 15: 'o',\n",
       " 16: 'p',\n",
       " 17: 'q',\n",
       " 18: 'r',\n",
       " 19: 's',\n",
       " 20: 't',\n",
       " 21: 'u',\n",
       " 22: 'v',\n",
       " 23: 'w',\n",
       " 24: 'x',\n",
       " 25: 'y',\n",
       " 26: 'z',\n",
       " 0: '.'}"
      ]
     },
     "execution_count": 7,
     "metadata": {},
     "output_type": "execute_result"
    }
   ],
   "source": [
    "itos = {i:s for s,i in stoi.items()}\n",
    "itos"
   ]
  },
  {
   "cell_type": "code",
   "execution_count": 8,
   "id": "dae492d2-cd6d-4e40-827b-aac14c25cf08",
   "metadata": {},
   "outputs": [],
   "source": [
    "# build the dataset\n",
    "block_size = 3 # aka context length: how many characters do we take to predict the next one?"
   ]
  },
  {
   "cell_type": "code",
   "execution_count": 9,
   "id": "e112bee1-768b-4902-b5eb-afef09e9e04b",
   "metadata": {},
   "outputs": [],
   "source": [
    "# X is the input to the neural network\n",
    "# Y are the labels\n",
    "X, Y = [], []"
   ]
  },
  {
   "cell_type": "code",
   "execution_count": 10,
   "id": "1371a14c-c25e-4dac-b430-a26aae11f606",
   "metadata": {},
   "outputs": [
    {
     "data": {
      "text/plain": [
       "[0, 0, 0]"
      ]
     },
     "execution_count": 10,
     "metadata": {},
     "output_type": "execute_result"
    }
   ],
   "source": [
    "[0]*block_size"
   ]
  },
  {
   "cell_type": "code",
   "execution_count": 11,
   "id": "de089ef4-1891-4277-8df4-20599e321083",
   "metadata": {},
   "outputs": [
    {
     "name": "stdout",
     "output_type": "stream",
     "text": [
      "emma\n",
      "... ---> e\n",
      "..e ---> m\n",
      ".em ---> m\n",
      "emm ---> a\n",
      "mma ---> .\n",
      "\n",
      "olivia\n",
      "... ---> o\n",
      "..o ---> l\n",
      ".ol ---> i\n",
      "oli ---> v\n",
      "liv ---> i\n",
      "ivi ---> a\n",
      "via ---> .\n",
      "\n",
      "ava\n",
      "... ---> a\n",
      "..a ---> v\n",
      ".av ---> a\n",
      "ava ---> .\n",
      "\n",
      "isabella\n",
      "... ---> i\n",
      "..i ---> s\n",
      ".is ---> a\n",
      "isa ---> b\n",
      "sab ---> e\n",
      "abe ---> l\n",
      "bel ---> l\n",
      "ell ---> a\n",
      "lla ---> .\n",
      "\n",
      "sophia\n",
      "... ---> s\n",
      "..s ---> o\n",
      ".so ---> p\n",
      "sop ---> h\n",
      "oph ---> i\n",
      "phi ---> a\n",
      "hia ---> .\n",
      "\n"
     ]
    }
   ],
   "source": [
    "for w in words[:5]:\n",
    "    \n",
    "    print(w)\n",
    "    # [0] is the index for the delimiter we set above ... \n",
    "    # hence [0,0,0] run throught itos becomes ['.','.','.']\n",
    "    context = [0]*block_size\n",
    "    for ch in w + delimiter :\n",
    "        ix = stoi[ch]\n",
    "        X.append(context)\n",
    "        Y.append(ix)\n",
    "        print(''.join(itos[i] for i in context), '--->', itos[ix])\n",
    "        context = context[1:] + [ix] # crop and append\n",
    "    print('')"
   ]
  },
  {
   "cell_type": "code",
   "execution_count": 12,
   "id": "49902d93-7aa6-43c4-b8c9-f6faa2d1acd3",
   "metadata": {},
   "outputs": [
    {
     "name": "stdout",
     "output_type": "stream",
     "text": [
      "emma\n",
      ".......... ---> e\n",
      ".........e ---> m\n",
      "........em ---> m\n",
      ".......emm ---> a\n",
      "......emma ---> .\n",
      "\n",
      "olivia\n",
      ".......... ---> o\n",
      ".........o ---> l\n",
      "........ol ---> i\n",
      ".......oli ---> v\n",
      "......oliv ---> i\n",
      ".....olivi ---> a\n",
      "....olivia ---> .\n",
      "\n",
      "ava\n",
      ".......... ---> a\n",
      ".........a ---> v\n",
      "........av ---> a\n",
      ".......ava ---> .\n",
      "\n",
      "isabella\n",
      ".......... ---> i\n",
      ".........i ---> s\n",
      "........is ---> a\n",
      ".......isa ---> b\n",
      "......isab ---> e\n",
      ".....isabe ---> l\n",
      "....isabel ---> l\n",
      "...isabell ---> a\n",
      "..isabella ---> .\n",
      "\n",
      "sophia\n",
      ".......... ---> s\n",
      ".........s ---> o\n",
      "........so ---> p\n",
      ".......sop ---> h\n",
      "......soph ---> i\n",
      ".....sophi ---> a\n",
      "....sophia ---> .\n",
      "\n"
     ]
    }
   ],
   "source": [
    "# repeat the above, but with a larger block_size, just to show the differenct\n",
    "block_size = 10\n",
    "X, Y = [], []\n",
    "for w in words[:5]:\n",
    "    \n",
    "    print(w)\n",
    "    context = [0]*block_size\n",
    "    for ch in w + delimiter :\n",
    "        ix = stoi[ch]\n",
    "        X.append(context)\n",
    "        Y.append(ix)\n",
    "        print(''.join(itos[i] for i in context), '--->', itos[ix])\n",
    "        context = context[1:] + [ix] # crop and append\n",
    "    print('')"
   ]
  },
  {
   "cell_type": "code",
   "execution_count": 13,
   "id": "be5c2a9e-68d5-49c8-8af8-64985baee752",
   "metadata": {},
   "outputs": [],
   "source": [
    "# now do everything for realz this time ... \n",
    "# which is to build out X and Y\n",
    "# from all the names in words.\n",
    "block_size = 3\n",
    "X, Y = [], []\n",
    "for w in words:\n",
    "    \n",
    "    # print(w)\n",
    "    context = [0]*block_size\n",
    "    for ch in w + delimiter :\n",
    "        ix = stoi[ch]\n",
    "        X.append(context)\n",
    "        Y.append(ix)\n",
    "        # print(''.join(itos[i] for i in context), '--->', itos[ix])\n",
    "        context = context[1:] + [ix] # crop and append"
   ]
  },
  {
   "cell_type": "code",
   "execution_count": 14,
   "id": "3facb2bd-2bcb-49bf-9a8a-07f96adfdaec",
   "metadata": {},
   "outputs": [
    {
     "data": {
      "text/plain": [
       "[[0, 0, 0], [0, 0, 5], [0, 5, 13], [5, 13, 13], [13, 13, 1]]"
      ]
     },
     "execution_count": 14,
     "metadata": {},
     "output_type": "execute_result"
    }
   ],
   "source": [
    "X[:5]"
   ]
  },
  {
   "cell_type": "code",
   "execution_count": 15,
   "id": "3d6dd06d-fd25-41e1-b1d8-61dcda1032a8",
   "metadata": {},
   "outputs": [
    {
     "data": {
      "text/plain": [
       "[5, 13, 13, 1, 0]"
      ]
     },
     "execution_count": 15,
     "metadata": {},
     "output_type": "execute_result"
    }
   ],
   "source": [
    "Y[:5]"
   ]
  },
  {
   "cell_type": "code",
   "execution_count": 16,
   "id": "70e2d6ae-d417-4227-afcd-081142fea2dc",
   "metadata": {},
   "outputs": [],
   "source": [
    "X = torch.tensor(X)\n",
    "Y = torch.tensor(Y)"
   ]
  },
  {
   "cell_type": "code",
   "execution_count": 17,
   "id": "722c18ca-4413-47ad-9100-c67a59293ca9",
   "metadata": {},
   "outputs": [
    {
     "data": {
      "text/plain": [
       "(torch.Size([228146, 3]), torch.int64, torch.Size([228146]), torch.int64)"
      ]
     },
     "execution_count": 17,
     "metadata": {},
     "output_type": "execute_result"
    }
   ],
   "source": [
    "X.shape, X.dtype, Y.shape, Y.dtype"
   ]
  },
  {
   "cell_type": "code",
   "execution_count": 18,
   "id": "53da277b-157e-4207-97eb-64edc813f969",
   "metadata": {},
   "outputs": [],
   "source": [
    "noOfRecordsInTheInputDataSet = X.shape[0]"
   ]
  },
  {
   "cell_type": "markdown",
   "id": "c96cee0b-ea6d-4895-897b-c1e426b3010d",
   "metadata": {},
   "source": [
    "Now lets build the embedding lookup C which has a total of 27 characters."
   ]
  },
  {
   "cell_type": "code",
   "execution_count": 19,
   "id": "5b93a03a-ec43-4917-ac35-32f127a38c7d",
   "metadata": {},
   "outputs": [
    {
     "data": {
      "text/plain": [
       "tensor([[0.4266, 0.4864],\n",
       "        [0.3033, 0.7050],\n",
       "        [0.1491, 0.5737],\n",
       "        [0.7269, 0.7454],\n",
       "        [0.2242, 0.5432],\n",
       "        [0.3949, 0.7267],\n",
       "        [0.1113, 0.2295],\n",
       "        [0.4279, 0.6805],\n",
       "        [0.9437, 0.6347],\n",
       "        [0.8067, 0.6421],\n",
       "        [0.1760, 0.0288],\n",
       "        [0.3569, 0.0677],\n",
       "        [0.4661, 0.4917],\n",
       "        [0.4380, 0.1753],\n",
       "        [0.6494, 0.6280],\n",
       "        [0.4802, 0.0409],\n",
       "        [0.5291, 0.3240],\n",
       "        [0.7259, 0.3355],\n",
       "        [0.1791, 0.3198],\n",
       "        [0.1940, 0.0066],\n",
       "        [0.6894, 0.0691],\n",
       "        [0.1521, 0.8494],\n",
       "        [0.9518, 0.8915],\n",
       "        [0.3079, 0.4905],\n",
       "        [0.7564, 0.6948],\n",
       "        [0.6412, 0.7911],\n",
       "        [0.0935, 0.9229]])"
      ]
     },
     "execution_count": 19,
     "metadata": {},
     "output_type": "execute_result"
    }
   ],
   "source": [
    "# we will use a 2 dimensional embedding for every one of the 27 characters\n",
    "embeddingWidth = 2\n",
    "totalCharacters = len(stoi)\n",
    "C = torch.rand((totalCharacters,embeddingWidth))\n",
    "C"
   ]
  },
  {
   "cell_type": "code",
   "execution_count": 20,
   "id": "048bfcfb-4e15-42b1-b238-311e29be9f11",
   "metadata": {},
   "outputs": [
    {
     "data": {
      "text/plain": [
       "tensor([0, 0, 0, 0, 0, 1, 0, 0, 0, 0, 0, 0, 0, 0, 0, 0, 0, 0, 0, 0, 0, 0, 0, 0,\n",
       "        0, 0, 0])"
      ]
     },
     "execution_count": 20,
     "metadata": {},
     "output_type": "execute_result"
    }
   ],
   "source": [
    "F.one_hot(torch.tensor(5), num_classes=totalCharacters)"
   ]
  },
  {
   "cell_type": "code",
   "execution_count": 21,
   "id": "55426cd3-860f-42ff-82ab-dd34f9ffa0fd",
   "metadata": {},
   "outputs": [],
   "source": [
    "# this fails ... \n",
    "# F.one_hot(torch.tensor(5), num_classes=27) @ C"
   ]
  },
  {
   "cell_type": "code",
   "execution_count": 22,
   "id": "3cdee7fa-ebb7-483f-a573-3263c9d590ea",
   "metadata": {},
   "outputs": [
    {
     "data": {
      "text/plain": [
       "torch.int64"
      ]
     },
     "execution_count": 22,
     "metadata": {},
     "output_type": "execute_result"
    }
   ],
   "source": [
    "F.one_hot(torch.tensor(5), num_classes=totalCharacters).dtype"
   ]
  },
  {
   "cell_type": "code",
   "execution_count": 23,
   "id": "ea20eb6f-445f-4f2d-92e1-3845f8ddaca4",
   "metadata": {},
   "outputs": [
    {
     "data": {
      "text/plain": [
       "torch.float32"
      ]
     },
     "execution_count": 23,
     "metadata": {},
     "output_type": "execute_result"
    }
   ],
   "source": [
    "C.dtype"
   ]
  },
  {
   "cell_type": "code",
   "execution_count": 24,
   "id": "1c564d4a-052b-4519-ae6b-777965d2d054",
   "metadata": {},
   "outputs": [
    {
     "data": {
      "text/plain": [
       "tensor([0.3949, 0.7267])"
      ]
     },
     "execution_count": 24,
     "metadata": {},
     "output_type": "execute_result"
    }
   ],
   "source": [
    "F.one_hot(torch.tensor(5), num_classes=totalCharacters).float() @ C"
   ]
  },
  {
   "cell_type": "code",
   "execution_count": 25,
   "id": "9ba3e89d-78e9-4419-88ba-23be4aa0c729",
   "metadata": {},
   "outputs": [
    {
     "data": {
      "text/plain": [
       "tensor([0.3949, 0.7267])"
      ]
     },
     "execution_count": 25,
     "metadata": {},
     "output_type": "execute_result"
    }
   ],
   "source": [
    "# the above operation is the same as ...\n",
    "C[5]"
   ]
  },
  {
   "cell_type": "code",
   "execution_count": 26,
   "id": "cb67337c-5a99-4fe9-b777-50e4faafb68f",
   "metadata": {},
   "outputs": [
    {
     "data": {
      "text/plain": [
       "tensor([[0.3949, 0.7267],\n",
       "        [0.1113, 0.2295],\n",
       "        [0.4279, 0.6805]])"
      ]
     },
     "execution_count": 26,
     "metadata": {},
     "output_type": "execute_result"
    }
   ],
   "source": [
    "C[[5, 6, 7]]"
   ]
  },
  {
   "cell_type": "code",
   "execution_count": 27,
   "id": "2547929e-d9d2-406a-ac51-4e6424cf51ab",
   "metadata": {},
   "outputs": [
    {
     "data": {
      "text/plain": [
       "tensor([[0.3949, 0.7267],\n",
       "        [0.1113, 0.2295],\n",
       "        [0.4279, 0.6805]])"
      ]
     },
     "execution_count": 27,
     "metadata": {},
     "output_type": "execute_result"
    }
   ],
   "source": [
    "C[torch.tensor([5, 6, 7])]"
   ]
  },
  {
   "cell_type": "code",
   "execution_count": 28,
   "id": "f8d66db3-a48d-4aa7-aac8-c13e0debf3c0",
   "metadata": {},
   "outputs": [
    {
     "data": {
      "text/plain": [
       "tensor([[0.4266, 0.4864],\n",
       "        [0.3033, 0.7050],\n",
       "        [0.1491, 0.5737],\n",
       "        [0.7269, 0.7454],\n",
       "        [0.2242, 0.5432],\n",
       "        [0.3949, 0.7267]])"
      ]
     },
     "execution_count": 28,
     "metadata": {},
     "output_type": "execute_result"
    }
   ],
   "source": [
    "C[:6]"
   ]
  },
  {
   "cell_type": "code",
   "execution_count": 29,
   "id": "d4965730-d33b-4192-8c1e-ff21b1698b63",
   "metadata": {},
   "outputs": [
    {
     "data": {
      "text/plain": [
       "tensor([[0.4266, 0.4864],\n",
       "        [0.3033, 0.7050],\n",
       "        [0.3949, 0.7267],\n",
       "        [0.4380, 0.1753]])"
      ]
     },
     "execution_count": 29,
     "metadata": {},
     "output_type": "execute_result"
    }
   ],
   "source": [
    "C[[0, 1, 5, 13]]"
   ]
  },
  {
   "cell_type": "code",
   "execution_count": 30,
   "id": "1bf7d0ff-4b13-4ca6-bc33-d496791092e0",
   "metadata": {},
   "outputs": [
    {
     "data": {
      "text/plain": [
       "tensor([[ 0,  0,  0],\n",
       "        [ 0,  0,  5],\n",
       "        [ 0,  5, 13],\n",
       "        [ 5, 13, 13],\n",
       "        [13, 13,  1]])"
      ]
     },
     "execution_count": 30,
     "metadata": {},
     "output_type": "execute_result"
    }
   ],
   "source": [
    "X[:5]"
   ]
  },
  {
   "cell_type": "code",
   "execution_count": 31,
   "id": "71e859f8-5b15-4cb2-a797-84d41b87a8c7",
   "metadata": {},
   "outputs": [
    {
     "data": {
      "text/plain": [
       "tensor([[[0.4266, 0.4864],\n",
       "         [0.4266, 0.4864],\n",
       "         [0.4266, 0.4864]],\n",
       "\n",
       "        [[0.4266, 0.4864],\n",
       "         [0.4266, 0.4864],\n",
       "         [0.3949, 0.7267]],\n",
       "\n",
       "        [[0.4266, 0.4864],\n",
       "         [0.3949, 0.7267],\n",
       "         [0.4380, 0.1753]],\n",
       "\n",
       "        [[0.3949, 0.7267],\n",
       "         [0.4380, 0.1753],\n",
       "         [0.4380, 0.1753]],\n",
       "\n",
       "        [[0.4380, 0.1753],\n",
       "         [0.4380, 0.1753],\n",
       "         [0.3033, 0.7050]]])"
      ]
     },
     "execution_count": 31,
     "metadata": {},
     "output_type": "execute_result"
    }
   ],
   "source": [
    "# so notice how we use X to index into C ...\n",
    "C[X][:5]"
   ]
  },
  {
   "cell_type": "code",
   "execution_count": 32,
   "id": "176ec777-c969-483d-9239-2f0336630470",
   "metadata": {},
   "outputs": [
    {
     "data": {
      "text/plain": [
       "torch.Size([228146, 3, 2])"
      ]
     },
     "execution_count": 32,
     "metadata": {},
     "output_type": "execute_result"
    }
   ],
   "source": [
    "emb = C[X]\n",
    "emb.shape"
   ]
  },
  {
   "cell_type": "code",
   "execution_count": 33,
   "id": "40146f1e-4e19-4904-9011-0de8892177fb",
   "metadata": {},
   "outputs": [
    {
     "data": {
      "text/plain": [
       "tensor([[0.4266, 0.4864],\n",
       "        [0.4266, 0.4864],\n",
       "        [0.4266, 0.4864]])"
      ]
     },
     "execution_count": 33,
     "metadata": {},
     "output_type": "execute_result"
    }
   ],
   "source": [
    "emb[0]"
   ]
  },
  {
   "cell_type": "markdown",
   "id": "dffe11ad-5cfa-436e-9a02-d0fa834db2a9",
   "metadata": {},
   "source": [
    "Now let's construct the hidden layer, which is the first layer after the input layer in Figure 1. (the tanh layer)"
   ]
  },
  {
   "cell_type": "markdown",
   "id": "9631b6c1-6871-40e0-9b76-f985f8d70764",
   "metadata": {},
   "source": [
    "W1 are the weights and the number of inputs into this layer will be 3x2=6, which is the product of the blocksize X embedding width."
   ]
  },
  {
   "cell_type": "code",
   "execution_count": 34,
   "id": "7dcfec32-bbcc-4114-9a81-f10ac58649cb",
   "metadata": {},
   "outputs": [
    {
     "data": {
      "text/plain": [
       "torch.Size([6, 100])"
      ]
     },
     "execution_count": 34,
     "metadata": {},
     "output_type": "execute_result"
    }
   ],
   "source": [
    "noOfInputs = block_size * embeddingWidth\n",
    "noOfNeurons = 100\n",
    "W1 = torch.randn((noOfInputs, noOfNeurons))\n",
    "W1.shape"
   ]
  },
  {
   "cell_type": "code",
   "execution_count": 35,
   "id": "17c849aa-a5c3-4185-8ef1-3f0a75d09bf3",
   "metadata": {},
   "outputs": [
    {
     "data": {
      "text/plain": [
       "torch.Size([100])"
      ]
     },
     "execution_count": 35,
     "metadata": {},
     "output_type": "execute_result"
    }
   ],
   "source": [
    "b1 = torch.randn(noOfNeurons)\n",
    "b1.shape"
   ]
  },
  {
   "cell_type": "markdown",
   "id": "043f6f69-39c6-4f27-ac03-44f1eba923a2",
   "metadata": {},
   "source": [
    "Now remember we would like to multiply the inputs (the embeddings) by W1 and add b1, but the problem is the embeddings are stacked up in the tensor, so we can't simply multiply one by the other. We need to somehow concatonate the 3 embeddings for each input into a tensor of size 6.\n",
    "\n",
    "h = emb @ W1 + b1"
   ]
  },
  {
   "cell_type": "markdown",
   "id": "9529f437-7cd6-4f4b-8e63-182692833b20",
   "metadata": {},
   "source": [
    "A brief look at the best way to reshape a tensor with a PyTorch [view](https://pytorch.org/docs/stable/generated/torch.Tensor.view.html), which `returns a new tensor with the same data as the self tensor but of a different shape.`\n",
    "\n",
    "(The page [PyTorch interals](http://blog.ezyang.com/2019/05/pytorch-internals/) provides insights into what a view does with a tensor)\n",
    "\n"
   ]
  },
  {
   "cell_type": "code",
   "execution_count": 36,
   "id": "7d94d38f-da91-47fc-a2c8-e3b9c3c67015",
   "metadata": {},
   "outputs": [
    {
     "data": {
      "text/plain": [
       "tensor([ 0,  1,  2,  3,  4,  5,  6,  7,  8,  9, 10, 11, 12, 13, 14, 15, 16, 17])"
      ]
     },
     "execution_count": 36,
     "metadata": {},
     "output_type": "execute_result"
    }
   ],
   "source": [
    "a = torch.arange(18)\n",
    "a"
   ]
  },
  {
   "cell_type": "code",
   "execution_count": 37,
   "id": "f9744627-ed93-4b81-a050-9eaa7fb54606",
   "metadata": {},
   "outputs": [
    {
     "data": {
      "text/plain": [
       "tensor([[ 0,  1,  2,  3,  4,  5,  6,  7,  8],\n",
       "        [ 9, 10, 11, 12, 13, 14, 15, 16, 17]])"
      ]
     },
     "execution_count": 37,
     "metadata": {},
     "output_type": "execute_result"
    }
   ],
   "source": [
    "a.view(2,9)"
   ]
  },
  {
   "cell_type": "code",
   "execution_count": 38,
   "id": "fab663df-b0d8-4bed-bc42-9276e9477ef4",
   "metadata": {},
   "outputs": [
    {
     "data": {
      "text/plain": [
       "tensor([[ 0,  1],\n",
       "        [ 2,  3],\n",
       "        [ 4,  5],\n",
       "        [ 6,  7],\n",
       "        [ 8,  9],\n",
       "        [10, 11],\n",
       "        [12, 13],\n",
       "        [14, 15],\n",
       "        [16, 17]])"
      ]
     },
     "execution_count": 38,
     "metadata": {},
     "output_type": "execute_result"
    }
   ],
   "source": [
    "a.view(9,2)"
   ]
  },
  {
   "cell_type": "code",
   "execution_count": 39,
   "id": "85ea1e7f-3eff-4f5d-a2f1-881796a79d8d",
   "metadata": {},
   "outputs": [
    {
     "data": {
      "text/plain": [
       "tensor([[[ 0,  1],\n",
       "         [ 2,  3],\n",
       "         [ 4,  5]],\n",
       "\n",
       "        [[ 6,  7],\n",
       "         [ 8,  9],\n",
       "         [10, 11]],\n",
       "\n",
       "        [[12, 13],\n",
       "         [14, 15],\n",
       "         [16, 17]]])"
      ]
     },
     "execution_count": 39,
     "metadata": {},
     "output_type": "execute_result"
    }
   ],
   "source": [
    "a.view(3, 3, 2)"
   ]
  },
  {
   "cell_type": "markdown",
   "id": "039391f7-11b8-4b58-b7fe-d122bf64f4c3",
   "metadata": {},
   "source": [
    "So let's reshape the emb tensor to the desired shape."
   ]
  },
  {
   "cell_type": "code",
   "execution_count": 40,
   "id": "b7930ba0-ed1b-4cb5-81c4-4168ed0d776a",
   "metadata": {},
   "outputs": [
    {
     "data": {
      "text/plain": [
       "torch.Size([228146, 3, 2])"
      ]
     },
     "execution_count": 40,
     "metadata": {},
     "output_type": "execute_result"
    }
   ],
   "source": [
    "emb.shape"
   ]
  },
  {
   "cell_type": "code",
   "execution_count": 41,
   "id": "aa4fdbf4-8447-43be-a76b-66bde942a66e",
   "metadata": {},
   "outputs": [
    {
     "data": {
      "text/plain": [
       "228146"
      ]
     },
     "execution_count": 41,
     "metadata": {},
     "output_type": "execute_result"
    }
   ],
   "source": [
    "emb.shape[0]"
   ]
  },
  {
   "cell_type": "code",
   "execution_count": 42,
   "id": "8e7f76a4-63af-400c-8432-19757ece9150",
   "metadata": {},
   "outputs": [
    {
     "data": {
      "text/plain": [
       "torch.Size([228146, 6])"
      ]
     },
     "execution_count": 42,
     "metadata": {},
     "output_type": "execute_result"
    }
   ],
   "source": [
    "emb.view(emb.shape[0], 6).shape"
   ]
  },
  {
   "cell_type": "code",
   "execution_count": 43,
   "id": "39c7ce1b-755c-4be6-8d61-5d96bf7f2ca3",
   "metadata": {},
   "outputs": [
    {
     "data": {
      "text/plain": [
       "torch.Size([228146, 6])"
      ]
     },
     "execution_count": 43,
     "metadata": {},
     "output_type": "execute_result"
    }
   ],
   "source": [
    "emb.view(-1, 6).shape"
   ]
  },
  {
   "cell_type": "code",
   "execution_count": 44,
   "id": "f95ac389-104b-49d8-b696-e5c25a2752d6",
   "metadata": {},
   "outputs": [
    {
     "data": {
      "text/plain": [
       "torch.Size([228146, 6])"
      ]
     },
     "execution_count": 44,
     "metadata": {},
     "output_type": "execute_result"
    }
   ],
   "source": [
    "emb.view(emb.shape[0], noOfInputs).shape"
   ]
  },
  {
   "cell_type": "markdown",
   "id": "7875facf-02dd-4491-a4fc-a506bef0efd7",
   "metadata": {},
   "source": [
    "So now let's calculate h, the output for the hidden layer."
   ]
  },
  {
   "cell_type": "code",
   "execution_count": 45,
   "id": "23fb0f9a-b636-4c22-b4e7-d5d4bf7a4463",
   "metadata": {},
   "outputs": [
    {
     "data": {
      "text/plain": [
       "torch.Size([228146, 100])"
      ]
     },
     "execution_count": 45,
     "metadata": {},
     "output_type": "execute_result"
    }
   ],
   "source": [
    "h = (emb.view(-1, noOfInputs) @ W1) + b1\n",
    "h.shape"
   ]
  },
  {
   "cell_type": "code",
   "execution_count": 46,
   "id": "ac748ce6-d4ce-4324-8077-fa7edc9ebde4",
   "metadata": {},
   "outputs": [
    {
     "data": {
      "text/plain": [
       "torch.Size([228146, 100])"
      ]
     },
     "execution_count": 46,
     "metadata": {},
     "output_type": "execute_result"
    }
   ],
   "source": [
    "# right ... don't forget tanh ...\n",
    "h = torch.tanh((emb.view(-1, noOfInputs) @ W1) + b1)\n",
    "h.shape"
   ]
  },
  {
   "cell_type": "markdown",
   "id": "82a2f1d4-8e4c-49e5-9879-3d921c1ef69c",
   "metadata": {},
   "source": [
    "Now let's look at the final layer, where we do the softmax.\n",
    "\n",
    "The input width will be 100, as seen above, and the output width will be the total number of characters, which is 27."
   ]
  },
  {
   "cell_type": "code",
   "execution_count": 47,
   "id": "2e0730a4-96c9-45cf-aa21-e162c2b5aae6",
   "metadata": {},
   "outputs": [
    {
     "data": {
      "text/plain": [
       "27"
      ]
     },
     "execution_count": 47,
     "metadata": {},
     "output_type": "execute_result"
    }
   ],
   "source": [
    "totalCharacters"
   ]
  },
  {
   "cell_type": "code",
   "execution_count": 48,
   "id": "0bb77809-f44f-4d2a-bd1a-76a83bbb8f50",
   "metadata": {},
   "outputs": [
    {
     "data": {
      "text/plain": [
       "100"
      ]
     },
     "execution_count": 48,
     "metadata": {},
     "output_type": "execute_result"
    }
   ],
   "source": [
    "hiddenLayerOutputWidth = h.shape[-1]\n",
    "hiddenLayerOutputWidth"
   ]
  },
  {
   "cell_type": "code",
   "execution_count": 49,
   "id": "ecc1f2f2-06c7-44ce-bee6-e7b981c01001",
   "metadata": {},
   "outputs": [
    {
     "data": {
      "text/plain": [
       "torch.Size([100, 27])"
      ]
     },
     "execution_count": 49,
     "metadata": {},
     "output_type": "execute_result"
    }
   ],
   "source": [
    "W2 = torch.randn((hiddenLayerOutputWidth, totalCharacters))\n",
    "W2.shape"
   ]
  },
  {
   "cell_type": "code",
   "execution_count": 50,
   "id": "857ff06a-9b02-43de-8779-0a4bf9678bd7",
   "metadata": {},
   "outputs": [
    {
     "data": {
      "text/plain": [
       "torch.Size([27])"
      ]
     },
     "execution_count": 50,
     "metadata": {},
     "output_type": "execute_result"
    }
   ],
   "source": [
    "b2 = torch.randn(totalCharacters)\n",
    "b2.shape"
   ]
  },
  {
   "cell_type": "code",
   "execution_count": 51,
   "id": "7b3156f7-4c9c-42d2-af22-02d1db39b86b",
   "metadata": {},
   "outputs": [
    {
     "data": {
      "text/plain": [
       "torch.Size([228146, 100])"
      ]
     },
     "execution_count": 51,
     "metadata": {},
     "output_type": "execute_result"
    }
   ],
   "source": [
    "h.shape"
   ]
  },
  {
   "cell_type": "code",
   "execution_count": 52,
   "id": "d6ea56c0-6951-4a7e-a3b5-265322837173",
   "metadata": {},
   "outputs": [
    {
     "data": {
      "text/plain": [
       "tensor([[ 1.5388, -5.3954,  5.7815,  ...,  2.9326, -1.5650,  1.5349],\n",
       "        [-1.4596, -3.2930,  7.0729,  ...,  5.6892, -0.3108, -0.4498],\n",
       "        [ 4.5028, -7.1518,  2.9927,  ..., -1.4355, -2.1846,  3.0447],\n",
       "        ...,\n",
       "        [-1.2034, -5.0388,  4.8278,  ..., -3.4210, -3.8964, -3.5441],\n",
       "        [-3.0732, -1.4260,  3.9774,  ...,  3.1140,  3.4828, -4.4593],\n",
       "        [ 3.0808, -2.8925,  6.9911,  ...,  0.0500, -3.3427, -1.3403]])"
      ]
     },
     "execution_count": 52,
     "metadata": {},
     "output_type": "execute_result"
    }
   ],
   "source": [
    "h @ W2"
   ]
  },
  {
   "cell_type": "code",
   "execution_count": 53,
   "id": "385ce585-4ce2-44e0-8a02-2f70eb96fa7c",
   "metadata": {},
   "outputs": [
    {
     "data": {
      "text/plain": [
       "tensor([[ 1.7029, -5.0424,  5.7389,  ...,  3.2889, -2.5870,  0.7999],\n",
       "        [-1.2955, -2.9400,  7.0303,  ...,  6.0455, -1.3329, -1.1848],\n",
       "        [ 4.6669, -6.7988,  2.9501,  ..., -1.0792, -3.2066,  2.3097],\n",
       "        ...,\n",
       "        [-1.0393, -4.6858,  4.7852,  ..., -3.0648, -4.9184, -4.2791],\n",
       "        [-2.9091, -1.0730,  3.9348,  ...,  3.4703,  2.4608, -5.1943],\n",
       "        [ 3.2449, -2.5395,  6.9485,  ...,  0.4062, -4.3647, -2.0753]])"
      ]
     },
     "execution_count": 53,
     "metadata": {},
     "output_type": "execute_result"
    }
   ],
   "source": [
    "h @ W2 + b2"
   ]
  },
  {
   "cell_type": "code",
   "execution_count": 54,
   "id": "6e2fe3f8-4a84-4eeb-a5b2-048236c37831",
   "metadata": {},
   "outputs": [
    {
     "data": {
      "text/plain": [
       "torch.Size([228146, 27])"
      ]
     },
     "execution_count": 54,
     "metadata": {},
     "output_type": "execute_result"
    }
   ],
   "source": [
    "logits = h @ W2 + b2\n",
    "logits.shape"
   ]
  },
  {
   "cell_type": "code",
   "execution_count": 55,
   "id": "06033ed4-6b5d-4f61-90ba-bd4a5f68eef7",
   "metadata": {},
   "outputs": [
    {
     "data": {
      "text/plain": [
       "torch.Size([228146, 27])"
      ]
     },
     "execution_count": 55,
     "metadata": {},
     "output_type": "execute_result"
    }
   ],
   "source": [
    "counts = logits.exp()\n",
    "counts.shape"
   ]
  },
  {
   "cell_type": "code",
   "execution_count": 56,
   "id": "e9a751b7-f443-42aa-8b19-3d260b891d17",
   "metadata": {},
   "outputs": [
    {
     "data": {
      "text/plain": [
       "torch.Size([228146, 27])"
      ]
     },
     "execution_count": 56,
     "metadata": {},
     "output_type": "execute_result"
    }
   ],
   "source": [
    "prob = counts / counts.sum(1, keepdims=True)\n",
    "prob.shape"
   ]
  },
  {
   "cell_type": "markdown",
   "id": "0c76746c-ab0a-40b8-9b1f-e44d25e442bf",
   "metadata": {},
   "source": [
    "Notice how every row of prob will sum to 1."
   ]
  },
  {
   "cell_type": "code",
   "execution_count": 57,
   "id": "d575d513-3a64-4477-ae56-30cbb1a6ff48",
   "metadata": {},
   "outputs": [
    {
     "data": {
      "text/plain": [
       "tensor(1.0000)"
      ]
     },
     "execution_count": 57,
     "metadata": {},
     "output_type": "execute_result"
    }
   ],
   "source": [
    "prob[0].sum()"
   ]
  },
  {
   "cell_type": "code",
   "execution_count": 58,
   "id": "5b713847-93e2-4caa-aea2-1915fbafa0c2",
   "metadata": {},
   "outputs": [
    {
     "data": {
      "text/plain": [
       "tensor(1.0000)"
      ]
     },
     "execution_count": 58,
     "metadata": {},
     "output_type": "execute_result"
    }
   ],
   "source": [
    "prob[234].sum()"
   ]
  },
  {
   "cell_type": "code",
   "execution_count": 59,
   "id": "79868985-41e7-4280-919e-6c6b43c8d454",
   "metadata": {},
   "outputs": [
    {
     "data": {
      "text/plain": [
       "torch.Size([228146])"
      ]
     },
     "execution_count": 59,
     "metadata": {},
     "output_type": "execute_result"
    }
   ],
   "source": [
    "Y.shape"
   ]
  },
  {
   "cell_type": "code",
   "execution_count": 60,
   "id": "59d84395-95fd-449a-b625-dfde37c3af91",
   "metadata": {},
   "outputs": [
    {
     "data": {
      "text/plain": [
       "tensor([ 5, 13, 13,  1,  0, 15, 12,  9, 22,  9,  1,  0,  1, 22,  1,  0])"
      ]
     },
     "execution_count": 60,
     "metadata": {},
     "output_type": "execute_result"
    }
   ],
   "source": [
    "Y[:16]"
   ]
  },
  {
   "cell_type": "code",
   "execution_count": 61,
   "id": "5ba1f5f5-0fa1-4ec2-a716-d607f985811a",
   "metadata": {},
   "outputs": [
    {
     "data": {
      "text/plain": [
       "tensor([0, 1, 2, 3, 4, 5, 6, 7, 8, 9])"
      ]
     },
     "execution_count": 61,
     "metadata": {},
     "output_type": "execute_result"
    }
   ],
   "source": [
    "torch.arange(10)"
   ]
  },
  {
   "cell_type": "code",
   "execution_count": 62,
   "id": "75ff6de8-1489-4fdf-9962-f86652ff8682",
   "metadata": {},
   "outputs": [
    {
     "data": {
      "text/plain": [
       "torch.Size([228146, 27])"
      ]
     },
     "execution_count": 62,
     "metadata": {},
     "output_type": "execute_result"
    }
   ],
   "source": [
    "prob.shape"
   ]
  },
  {
   "cell_type": "code",
   "execution_count": 63,
   "id": "f5d871b4-b0b0-407a-a42b-4336d2f2b21d",
   "metadata": {},
   "outputs": [
    {
     "data": {
      "text/plain": [
       "228146"
      ]
     },
     "execution_count": 63,
     "metadata": {},
     "output_type": "execute_result"
    }
   ],
   "source": [
    "noOfRecordsInTheInputDataSet"
   ]
  },
  {
   "cell_type": "code",
   "execution_count": 64,
   "id": "bb78189f-dfa2-4ff4-97c9-54cfb959ce1c",
   "metadata": {},
   "outputs": [
    {
     "data": {
      "text/plain": [
       "tensor([3.0752e-08, 3.4438e-02, 8.4825e-03,  ..., 2.3885e-07, 1.7276e-03,\n",
       "        2.4506e-05])"
      ]
     },
     "execution_count": 64,
     "metadata": {},
     "output_type": "execute_result"
    }
   ],
   "source": [
    "prob[torch.arange(noOfRecordsInTheInputDataSet), Y]"
   ]
  },
  {
   "cell_type": "code",
   "execution_count": 65,
   "id": "448bdfd1-591a-4d28-94e8-a621153dd627",
   "metadata": {},
   "outputs": [
    {
     "data": {
      "text/plain": [
       "tensor(13.9977)"
      ]
     },
     "execution_count": 65,
     "metadata": {},
     "output_type": "execute_result"
    }
   ],
   "source": [
    "loss = -prob[torch.arange(noOfRecordsInTheInputDataSet), Y].log().mean()\n",
    "loss"
   ]
  },
  {
   "cell_type": "code",
   "execution_count": 66,
   "id": "ddf48e86-d688-4408-98cf-0eb90730767c",
   "metadata": {},
   "outputs": [],
   "source": [
    "# ------------ now made respectable :) ---------------"
   ]
  },
  {
   "cell_type": "markdown",
   "id": "5e08374e-6217-496c-aa5e-387e8e8c1675",
   "metadata": {},
   "source": [
    "Summary of a full network ..."
   ]
  },
  {
   "cell_type": "code",
   "execution_count": 67,
   "id": "67627598-c205-40db-92f9-deb77b63b0e3",
   "metadata": {},
   "outputs": [
    {
     "data": {
      "text/plain": [
       "(torch.Size([228146, 3]), torch.Size([228146]))"
      ]
     },
     "execution_count": 67,
     "metadata": {},
     "output_type": "execute_result"
    }
   ],
   "source": [
    "X.shape, Y.shape"
   ]
  },
  {
   "cell_type": "code",
   "execution_count": 68,
   "id": "d6fff96c-37ec-484f-bcc5-492329c2f340",
   "metadata": {},
   "outputs": [
    {
     "name": "stdout",
     "output_type": "stream",
     "text": [
      "noOfRecordsInTheInputDataSet => 228146\n",
      "totalCharacters => 27\n",
      "\n",
      "block_size => 3\n",
      "embeddingWidth => 2\n",
      "noOfInputs => (block_size * embeddingWidth) = 6\n",
      "\n",
      "noOfNeurons (in the hidden layer)=> 100\n"
     ]
    }
   ],
   "source": [
    "print(f'noOfRecordsInTheInputDataSet => {noOfRecordsInTheInputDataSet}')\n",
    "print(f'totalCharacters => {totalCharacters}')\n",
    "print('')\n",
    "print(f'block_size => {block_size}')\n",
    "print(f'embeddingWidth => {embeddingWidth}')\n",
    "print(f'noOfInputs => (block_size * embeddingWidth) = {noOfInputs}')\n",
    "print('')\n",
    "print(f'noOfNeurons (in the hidden layer)=> {noOfNeurons}')\n",
    "\n",
    "\n",
    "\n"
   ]
  },
  {
   "cell_type": "code",
   "execution_count": 69,
   "id": "07657cc0-a942-482c-8076-1fe1784bd42c",
   "metadata": {},
   "outputs": [],
   "source": [
    "g = torch.Generator().manual_seed(2147483647) # for reproducibility\n",
    "\n",
    "# The video hard codes these values, but I will use the 'live' numbers from above ...\n",
    "# ... which actually are the same numbers!\n",
    "\n",
    "# C = torch.randn((27, 10), generator=g)\n",
    "# W1 = torch.randn((30, 200), generator=g)\n",
    "# b1 = torch.randn(200, generator=g)\n",
    "# W2 = torch.randn((200, 27), generator=g)\n",
    "# b2 = torch.randn(27, generator=g)\n",
    "# parameters = [C, W1, b1, W2, b2]\n",
    "\n",
    "\n",
    "# C = torch.randn((27, 10), generator=g)\n",
    "C = torch.randn((totalCharacters, embeddingWidth), generator=g)\n",
    "\n",
    "W1 = torch.randn((noOfInputs, noOfNeurons), generator=g)\n",
    "b1 = torch.randn(noOfNeurons, generator=g)\n",
    "\n",
    "W2 = torch.randn((noOfNeurons, totalCharacters), generator=g)\n",
    "b2 = torch.randn(totalCharacters, generator=g)\n",
    "\n",
    "parameters = [C, W1, b1, W2, b2]"
   ]
  },
  {
   "cell_type": "code",
   "execution_count": 70,
   "id": "0cff0a47-b578-44e2-bd3a-e7c89bfcb03c",
   "metadata": {},
   "outputs": [
    {
     "data": {
      "text/plain": [
       "3481"
      ]
     },
     "execution_count": 70,
     "metadata": {},
     "output_type": "execute_result"
    }
   ],
   "source": [
    "# this is the same as in the video\n",
    "sum(p.nelement() for p in parameters) # number of parameters in total"
   ]
  },
  {
   "cell_type": "code",
   "execution_count": 71,
   "id": "f739acb2-90eb-4741-9786-8fc712daa597",
   "metadata": {},
   "outputs": [
    {
     "name": "stdout",
     "output_type": "stream",
     "text": [
      "emb.shape => torch.Size([228146, 3, 2])\n",
      "noOfRecordsInTheInputDataSet => 228146\n"
     ]
    },
    {
     "data": {
      "text/plain": [
       "tensor(19.5052)"
      ]
     },
     "execution_count": 71,
     "metadata": {},
     "output_type": "execute_result"
    }
   ],
   "source": [
    "emb = C[X]\n",
    "print(f'emb.shape => {emb.shape}')\n",
    "h = torch.tanh(emb.view(-1, noOfInputs) @ W1 + b1)\n",
    "logits = h @ W2 + b2\n",
    "\n",
    "# the next 3 calculations can be replaced with the PyTorch\n",
    "# cross_entropy function which is way more efficient \n",
    "# than doing it manually like we show here ...\n",
    "counts = logits.exp()\n",
    "prob = counts / counts.sum(1, keepdims=True)\n",
    "print(f'noOfRecordsInTheInputDataSet => {noOfRecordsInTheInputDataSet}')\n",
    "loss = -prob[torch.arange(noOfRecordsInTheInputDataSet), Y].log().mean()\n",
    "\n",
    "loss\n",
    "# run this any number of times, and you will get the same result\n",
    "# tensor(19.5052)"
   ]
  },
  {
   "cell_type": "code",
   "execution_count": 72,
   "id": "f9e2576b-e72a-423b-9950-9df0a4e945d8",
   "metadata": {},
   "outputs": [
    {
     "data": {
      "text/plain": [
       "tensor(19.5052)"
      ]
     },
     "execution_count": 72,
     "metadata": {},
     "output_type": "execute_result"
    }
   ],
   "source": [
    "# replace with PyTorch cross_entropy\n",
    "F.cross_entropy(logits, Y)"
   ]
  },
  {
   "cell_type": "markdown",
   "id": "b6a4a9e5-001a-49bb-8561-9d4a116f2c39",
   "metadata": {},
   "source": [
    "Summarize the above into a training loop ..."
   ]
  },
  {
   "cell_type": "code",
   "execution_count": 73,
   "id": "da51adda-c410-4536-a222-bb45afdcfd16",
   "metadata": {},
   "outputs": [],
   "source": [
    "# ... right ... we forgot to do this \n",
    "for p in parameters:\n",
    "    p.requires_grad = True"
   ]
  },
  {
   "cell_type": "code",
   "execution_count": 74,
   "id": "509b0e34-8431-42c8-8761-65572a4f544b",
   "metadata": {},
   "outputs": [
    {
     "name": "stdout",
     "output_type": "stream",
     "text": [
      "Training loss => 19.505229949951172\n",
      "Training loss => 17.084491729736328\n",
      "Training loss => 15.776532173156738\n",
      "Training loss => 14.833340644836426\n",
      "Training loss => 14.002603530883789\n",
      "Training loss => 13.253260612487793\n",
      "Training loss => 12.579917907714844\n",
      "Training loss => 11.983101844787598\n",
      "Training loss => 11.470492362976074\n",
      "Training loss => 11.05185604095459\n"
     ]
    }
   ],
   "source": [
    "# Running this takes up 100% of all 8 cpus!\n",
    "epochs = 10\n",
    "\n",
    "for _ in range(epochs):\n",
    "    \n",
    "    # 1) forward pass\n",
    "    emb = C[X]\n",
    "    h = torch.tanh(emb.view(-1, noOfInputs) @ W1 + b1)\n",
    "    logits = h @ W2 + b2\n",
    "    loss = F.cross_entropy(logits, Y)\n",
    "    print(f'Training loss => {loss.item()}')\n",
    "\n",
    "    # 2) backward pass\n",
    "    # first set the gradients to zero ...\n",
    "    for p in parameters:\n",
    "        p.grad = None\n",
    "    # then populate those gradients ...\n",
    "    loss.backward()\n",
    "\n",
    "    # 3) update\n",
    "    lr = 0.1\n",
    "    for p in parameters:\n",
    "        p.data += -lr * p.grad\n",
    "    \n",
    "# everytime we run this, the loss keeps going down "
   ]
  },
  {
   "cell_type": "markdown",
   "id": "05255e1a-b831-459e-b176-78ba27ae3d6e",
   "metadata": {},
   "source": [
    "Now let's work on training in batches, instead of using the entire input dataset on each epoch."
   ]
  },
  {
   "cell_type": "code",
   "execution_count": 75,
   "id": "d7139ccd-113a-4336-ab39-5d18451f16a6",
   "metadata": {},
   "outputs": [
    {
     "data": {
      "text/plain": [
       "torch.Size([228146, 3])"
      ]
     },
     "execution_count": 75,
     "metadata": {},
     "output_type": "execute_result"
    }
   ],
   "source": [
    "X.shape"
   ]
  },
  {
   "cell_type": "code",
   "execution_count": 76,
   "id": "6b31f29c-9a8e-4750-ac64-1a8f34af2219",
   "metadata": {},
   "outputs": [
    {
     "name": "stdout",
     "output_type": "stream",
     "text": [
      "Training loss => 12.899186134338379\n",
      "Training loss => 12.697417259216309\n",
      "Training loss => 10.12153148651123\n",
      "Training loss => 8.672821044921875\n",
      "Training loss => 9.264366149902344\n",
      "Training loss => 9.221867561340332\n",
      "Training loss => 9.007769584655762\n",
      "Training loss => 9.939391136169434\n",
      "Training loss => 6.691223621368408\n",
      "Training loss => 10.081808090209961\n"
     ]
    }
   ],
   "source": [
    "# replicate the code from above, but add ...\n",
    "\n",
    "epochs = 10\n",
    "\n",
    "for _ in range(epochs):\n",
    "    \n",
    "    # minibatch construct ...\n",
    "    # generate batchSize array of ints between 0 and noOfRecordsInTheInputDataSet ...\n",
    "    # Notice there is nothing to prevent us picking the same record more than once ...\n",
    "    batchSize = 32\n",
    "    ix = torch.randint(0,  noOfRecordsInTheInputDataSet, (batchSize,))\n",
    "    \n",
    "    # 1) forward pass\n",
    "    emb = C[X[ix]] # Changed!\n",
    "    h = torch.tanh(emb.view(-1, noOfInputs) @ W1 + b1)\n",
    "    logits = h @ W2 + b2\n",
    "    loss = F.cross_entropy(logits, Y[ix]) # Changed!\n",
    "    print(f'Training loss => {loss.item()}')\n",
    "\n",
    "    # 2) backward pass\n",
    "    # first set the gradients to zero ...\n",
    "    for p in parameters:\n",
    "        p.grad = None\n",
    "    # then populate those gradients ...\n",
    "    loss.backward()\n",
    "\n",
    "    # 3) update\n",
    "    lr = 0.1\n",
    "    for p in parameters:\n",
    "        p.data += -lr * p.grad"
   ]
  },
  {
   "cell_type": "markdown",
   "id": "100154d8-16af-4a26-95da-a3997ab6f1e2",
   "metadata": {},
   "source": [
    "We want to have a changing learning rate instead of a fixed learning rate ..."
   ]
  },
  {
   "cell_type": "code",
   "execution_count": 80,
   "id": "3858d849-acd3-4e04-a499-7b814913fab7",
   "metadata": {},
   "outputs": [
    {
     "data": {
      "text/plain": [
       "tensor([ 0.0000, 10.6667, 21.3333, 32.0000])"
      ]
     },
     "execution_count": 80,
     "metadata": {},
     "output_type": "execute_result"
    }
   ],
   "source": [
    "torch.linspace(0, 32, 4)"
   ]
  },
  {
   "cell_type": "code",
   "execution_count": 81,
   "id": "ee275efe-81f6-41f8-97af-cefe398dc728",
   "metadata": {},
   "outputs": [
    {
     "data": {
      "text/plain": [
       "tensor([ 0.0000,  4.5714,  9.1429, 13.7143, 18.2857, 22.8571, 27.4286, 32.0000])"
      ]
     },
     "execution_count": 81,
     "metadata": {},
     "output_type": "execute_result"
    }
   ],
   "source": [
    "torch.linspace(0, 32, 8)"
   ]
  },
  {
   "cell_type": "code",
   "execution_count": 83,
   "id": "bf5290ca-8e91-4585-8d5c-cde864dc8463",
   "metadata": {},
   "outputs": [
    {
     "data": {
      "text/plain": [
       "tensor([ 0.0000,  3.5556,  7.1111, 10.6667, 14.2222, 17.7778, 21.3333, 24.8889,\n",
       "        28.4444, 32.0000])"
      ]
     },
     "execution_count": 83,
     "metadata": {},
     "output_type": "execute_result"
    }
   ],
   "source": [
    "torch.linspace(0, 32, 10)"
   ]
  },
  {
   "cell_type": "code",
   "execution_count": 86,
   "id": "e8641125-0f9e-4148-900c-3dc1bbc5a245",
   "metadata": {},
   "outputs": [
    {
     "data": {
      "text/plain": [
       "tensor([-3.0000, -2.6667, -2.3333, -2.0000, -1.6667, -1.3333, -1.0000, -0.6667,\n",
       "        -0.3333,  0.0000])"
      ]
     },
     "execution_count": 86,
     "metadata": {},
     "output_type": "execute_result"
    }
   ],
   "source": [
    "torch.linspace(-3, 0, 10)"
   ]
  },
  {
   "cell_type": "code",
   "execution_count": 109,
   "id": "35050f3a-1efa-4c04-bf1f-12096c0925b4",
   "metadata": {},
   "outputs": [],
   "source": [
    "# this code resets stuff so that we can re-run stuff fresh\n",
    "\n",
    "epochs = 10000 # Changed!\n",
    "\n",
    "g = torch.Generator().manual_seed(2147483647) # for reproducibility\n",
    "C = torch.randn((totalCharacters, embeddingWidth), generator=g)\n",
    "W1 = torch.randn((noOfInputs, noOfNeurons), generator=g)\n",
    "b1 = torch.randn(noOfNeurons, generator=g)\n",
    "W2 = torch.randn((noOfNeurons, totalCharacters), generator=g)\n",
    "b2 = torch.randn(totalCharacters, generator=g)\n",
    "parameters = [C, W1, b1, W2, b2]\n",
    "\n",
    "for p in parameters:\n",
    "    p.requires_grad = True"
   ]
  },
  {
   "cell_type": "code",
   "execution_count": 110,
   "id": "4f7c8143-5e9d-47cd-a667-14c5120d0c7d",
   "metadata": {},
   "outputs": [],
   "source": [
    "lre = torch.linspace(-3, 0, epochs)\n",
    "lrs = 10**lre"
   ]
  },
  {
   "cell_type": "code",
   "execution_count": 111,
   "id": "cd2531cd-3bfc-42d7-a2e7-418a3a9efef1",
   "metadata": {},
   "outputs": [
    {
     "name": "stdout",
     "output_type": "stream",
     "text": [
      "Training loss => 3.848151683807373\n"
     ]
    }
   ],
   "source": [
    "# replicate the code from above, but add learning rate stuff ...\n",
    "\n",
    "# Changed!\n",
    "lri = []\n",
    "lossi = []\n",
    "\n",
    "for i in range(epochs):  # Changed!\n",
    "    \n",
    "    # minibatch construct ...\n",
    "    # generate batchSize array of ints between 0 and noOfRecordsInTheInputDataSet ...\n",
    "    # Notice there is nothing to prevent us picking the same record more than once ...\n",
    "    batchSize = 32\n",
    "    ix = torch.randint(0,  noOfRecordsInTheInputDataSet, (batchSize,))\n",
    "    \n",
    "    # 1) forward pass\n",
    "    emb = C[X[ix]] \n",
    "    h = torch.tanh(emb.view(-1, noOfInputs) @ W1 + b1)\n",
    "    logits = h @ W2 + b2\n",
    "    loss = F.cross_entropy(logits, Y[ix]) \n",
    "   # print(f'Training loss => {loss.item()}')  # Changed!\n",
    "\n",
    "    # 2) backward pass\n",
    "    # first set the gradients to zero ...\n",
    "    for p in parameters:\n",
    "        p.grad = None\n",
    "    # then populate those gradients ...\n",
    "    loss.backward()\n",
    "\n",
    "    # 3) update\n",
    "    lr = lrs[i]  # Changed!\n",
    "    for p in parameters:\n",
    "        p.data += -lr * p.grad\n",
    "        \n",
    "    # Changed!\n",
    "    # track stats\n",
    "    lri.append(lre[i])\n",
    "    lossi.append(loss.item())\n",
    "        \n",
    "print(f'Training loss => {loss.item()}')  # Changed!"
   ]
  },
  {
   "cell_type": "code",
   "execution_count": 112,
   "id": "e401f79f-7180-4532-bf2c-c9ee087ba920",
   "metadata": {},
   "outputs": [
    {
     "data": {
      "text/plain": [
       "[<matplotlib.lines.Line2D at 0x7fe40e150820>]"
      ]
     },
     "execution_count": 112,
     "metadata": {},
     "output_type": "execute_result"
    },
    {
     "data": {
      "image/png": "[encoded data removed]",
      "text/plain": [
       "<Figure size 640x480 with 1 Axes>"
      ]
     },
     "metadata": {},
     "output_type": "display_data"
    }
   ],
   "source": [
    "plt.plot(lri, lossi)"
   ]
  },
  {
   "cell_type": "code",
   "execution_count": null,
   "id": "dba06944-5d27-4a23-97bc-9ce51fff10e0",
   "metadata": {},
   "outputs": [],
   "source": []
  }
 ],
 "metadata": {
  "kernelspec": {
   "display_name": "Python 3 (ipykernel)",
   "language": "python",
   "name": "python3"
  },
  "language_info": {
   "codemirror_mode": {
    "name": "ipython",
    "version": 3
   },
   "file_extension": ".py",
   "mimetype": "text/x-python",
   "name": "python",
   "nbconvert_exporter": "python",
   "pygments_lexer": "ipython3",
   "version": "3.9.16"
  }
 },
 "nbformat": 4,
 "nbformat_minor": 5
}
