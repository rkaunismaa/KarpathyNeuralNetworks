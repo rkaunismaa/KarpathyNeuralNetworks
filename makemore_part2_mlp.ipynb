{
 "cells": [
  {
   "cell_type": "code",
   "execution_count": 1,
   "id": "b32738b8-d629-42c7-bc3b-5a93a4076d97",
   "metadata": {},
   "outputs": [],
   "source": [
    "import torch\n",
    "import torch.nn.functional as F\n",
    "import matplotlib.pyplot as plt\n",
    "%matplotlib inline"
   ]
  },
  {
   "cell_type": "code",
   "execution_count": 2,
   "id": "62e4b8fc-6b29-4417-bbf7-f393876c98e9",
   "metadata": {},
   "outputs": [
    {
     "data": {
      "text/plain": [
       "['emma', 'olivia', 'ava', 'isabella', 'sophia', 'charlotte', 'mia', 'amelia']"
      ]
     },
     "execution_count": 2,
     "metadata": {},
     "output_type": "execute_result"
    }
   ],
   "source": [
    "# read in all the words\n",
    "words = open('names.txt', 'r').read().splitlines()\n",
    "words[:8]"
   ]
  },
  {
   "cell_type": "code",
   "execution_count": 3,
   "id": "9e0c6140-8874-49d1-bdbb-45bd3a47dcc5",
   "metadata": {},
   "outputs": [
    {
     "data": {
      "text/plain": [
       "32033"
      ]
     },
     "execution_count": 3,
     "metadata": {},
     "output_type": "execute_result"
    }
   ],
   "source": [
    "len(words)"
   ]
  },
  {
   "cell_type": "code",
   "execution_count": 4,
   "id": "000f7860-eade-4433-ba9a-ff07a36246f3",
   "metadata": {},
   "outputs": [
    {
     "data": {
      "text/plain": [
       "['a',\n",
       " 'b',\n",
       " 'c',\n",
       " 'd',\n",
       " 'e',\n",
       " 'f',\n",
       " 'g',\n",
       " 'h',\n",
       " 'i',\n",
       " 'j',\n",
       " 'k',\n",
       " 'l',\n",
       " 'm',\n",
       " 'n',\n",
       " 'o',\n",
       " 'p',\n",
       " 'q',\n",
       " 'r',\n",
       " 's',\n",
       " 't',\n",
       " 'u',\n",
       " 'v',\n",
       " 'w',\n",
       " 'x',\n",
       " 'y',\n",
       " 'z']"
      ]
     },
     "execution_count": 4,
     "metadata": {},
     "output_type": "execute_result"
    }
   ],
   "source": [
    "# build the vocabulary of characters and mappings to/from integers\n",
    "chars = sorted(list(set(''.join(words))))\n",
    "chars"
   ]
  },
  {
   "cell_type": "code",
   "execution_count": 5,
   "id": "8161ad4c-792e-4995-9f62-ff8f88ca8c75",
   "metadata": {},
   "outputs": [],
   "source": [
    "delimiter = '.'"
   ]
  },
  {
   "cell_type": "code",
   "execution_count": 6,
   "id": "9a0a5eef-9b1a-410b-9c0f-0893594e5093",
   "metadata": {},
   "outputs": [
    {
     "data": {
      "text/plain": [
       "{'a': 1,\n",
       " 'b': 2,\n",
       " 'c': 3,\n",
       " 'd': 4,\n",
       " 'e': 5,\n",
       " 'f': 6,\n",
       " 'g': 7,\n",
       " 'h': 8,\n",
       " 'i': 9,\n",
       " 'j': 10,\n",
       " 'k': 11,\n",
       " 'l': 12,\n",
       " 'm': 13,\n",
       " 'n': 14,\n",
       " 'o': 15,\n",
       " 'p': 16,\n",
       " 'q': 17,\n",
       " 'r': 18,\n",
       " 's': 19,\n",
       " 't': 20,\n",
       " 'u': 21,\n",
       " 'v': 22,\n",
       " 'w': 23,\n",
       " 'x': 24,\n",
       " 'y': 25,\n",
       " 'z': 26,\n",
       " '.': 0}"
      ]
     },
     "execution_count": 6,
     "metadata": {},
     "output_type": "execute_result"
    }
   ],
   "source": [
    "stoi = {s:i+1 for i,s in enumerate(chars)}\n",
    "stoi[delimiter]=0\n",
    "stoi"
   ]
  },
  {
   "cell_type": "code",
   "execution_count": 7,
   "id": "20e9925f-4afb-4f2c-85a1-b1c8ee3f9941",
   "metadata": {},
   "outputs": [
    {
     "data": {
      "text/plain": [
       "{1: 'a',\n",
       " 2: 'b',\n",
       " 3: 'c',\n",
       " 4: 'd',\n",
       " 5: 'e',\n",
       " 6: 'f',\n",
       " 7: 'g',\n",
       " 8: 'h',\n",
       " 9: 'i',\n",
       " 10: 'j',\n",
       " 11: 'k',\n",
       " 12: 'l',\n",
       " 13: 'm',\n",
       " 14: 'n',\n",
       " 15: 'o',\n",
       " 16: 'p',\n",
       " 17: 'q',\n",
       " 18: 'r',\n",
       " 19: 's',\n",
       " 20: 't',\n",
       " 21: 'u',\n",
       " 22: 'v',\n",
       " 23: 'w',\n",
       " 24: 'x',\n",
       " 25: 'y',\n",
       " 26: 'z',\n",
       " 0: '.'}"
      ]
     },
     "execution_count": 7,
     "metadata": {},
     "output_type": "execute_result"
    }
   ],
   "source": [
    "itos = {i:s for s,i in stoi.items()}\n",
    "itos"
   ]
  },
  {
   "cell_type": "code",
   "execution_count": 8,
   "id": "dae492d2-cd6d-4e40-827b-aac14c25cf08",
   "metadata": {},
   "outputs": [],
   "source": [
    "# build the dataset\n",
    "block_size = 3 # aka context length: how many characters do we take to predict the next one?"
   ]
  },
  {
   "cell_type": "code",
   "execution_count": 9,
   "id": "e112bee1-768b-4902-b5eb-afef09e9e04b",
   "metadata": {},
   "outputs": [],
   "source": [
    "# X is the input to the neural network\n",
    "# Y are the labels\n",
    "X, Y = [], []"
   ]
  },
  {
   "cell_type": "code",
   "execution_count": 10,
   "id": "1371a14c-c25e-4dac-b430-a26aae11f606",
   "metadata": {},
   "outputs": [
    {
     "data": {
      "text/plain": [
       "[0, 0, 0]"
      ]
     },
     "execution_count": 10,
     "metadata": {},
     "output_type": "execute_result"
    }
   ],
   "source": [
    "[0]*block_size"
   ]
  },
  {
   "cell_type": "code",
   "execution_count": 11,
   "id": "1b43be5f-cc64-4d74-b75a-d53165744abf",
   "metadata": {},
   "outputs": [
    {
     "name": "stdout",
     "output_type": "stream",
     "text": [
      "emma\n",
      "... ---> e\n",
      "..e ---> m\n",
      ".em ---> m\n",
      "emm ---> a\n",
      "mma ---> .\n",
      "\n",
      "olivia\n",
      "... ---> o\n",
      "..o ---> l\n",
      ".ol ---> i\n",
      "oli ---> v\n",
      "liv ---> i\n",
      "ivi ---> a\n",
      "via ---> .\n",
      "\n",
      "ava\n",
      "... ---> a\n",
      "..a ---> v\n",
      ".av ---> a\n",
      "ava ---> .\n",
      "\n",
      "isabella\n",
      "... ---> i\n",
      "..i ---> s\n",
      ".is ---> a\n",
      "isa ---> b\n",
      "sab ---> e\n",
      "abe ---> l\n",
      "bel ---> l\n",
      "ell ---> a\n",
      "lla ---> .\n",
      "\n",
      "sophia\n",
      "... ---> s\n",
      "..s ---> o\n",
      ".so ---> p\n",
      "sop ---> h\n",
      "oph ---> i\n",
      "phi ---> a\n",
      "hia ---> .\n",
      "\n"
     ]
    }
   ],
   "source": [
    "for w in words[:5]:\n",
    "    \n",
    "    print(w)\n",
    "    context = [0]*block_size\n",
    "    for ch in w + delimiter :\n",
    "        ix = stoi[ch]\n",
    "        X.append(context)\n",
    "        Y.append(ix)\n",
    "        print(''.join(itos[i] for i in context), '--->', itos[ix])\n",
    "        context = context[1:] + [ix] # crop and append\n",
    "    print('')"
   ]
  },
  {
   "cell_type": "code",
   "execution_count": 12,
   "id": "49902d93-7aa6-43c4-b8c9-f6faa2d1acd3",
   "metadata": {},
   "outputs": [
    {
     "name": "stdout",
     "output_type": "stream",
     "text": [
      "emma\n",
      ".......... ---> e\n",
      ".........e ---> m\n",
      "........em ---> m\n",
      ".......emm ---> a\n",
      "......emma ---> .\n",
      "\n",
      "olivia\n",
      ".......... ---> o\n",
      ".........o ---> l\n",
      "........ol ---> i\n",
      ".......oli ---> v\n",
      "......oliv ---> i\n",
      ".....olivi ---> a\n",
      "....olivia ---> .\n",
      "\n",
      "ava\n",
      ".......... ---> a\n",
      ".........a ---> v\n",
      "........av ---> a\n",
      ".......ava ---> .\n",
      "\n",
      "isabella\n",
      ".......... ---> i\n",
      ".........i ---> s\n",
      "........is ---> a\n",
      ".......isa ---> b\n",
      "......isab ---> e\n",
      ".....isabe ---> l\n",
      "....isabel ---> l\n",
      "...isabell ---> a\n",
      "..isabella ---> .\n",
      "\n",
      "sophia\n",
      ".......... ---> s\n",
      ".........s ---> o\n",
      "........so ---> p\n",
      ".......sop ---> h\n",
      "......soph ---> i\n",
      ".....sophi ---> a\n",
      "....sophia ---> .\n",
      "\n"
     ]
    }
   ],
   "source": [
    "# repeat the above, but with a larger block_size, just to show the differenct\n",
    "block_size = 10\n",
    "X, Y = [], []\n",
    "for w in words[:5]:\n",
    "    \n",
    "    print(w)\n",
    "    context = [0]*block_size\n",
    "    for ch in w + delimiter :\n",
    "        ix = stoi[ch]\n",
    "        X.append(context)\n",
    "        Y.append(ix)\n",
    "        print(''.join(itos[i] for i in context), '--->', itos[ix])\n",
    "        context = context[1:] + [ix] # crop and append\n",
    "    print('')"
   ]
  },
  {
   "cell_type": "code",
   "execution_count": 13,
   "id": "be5c2a9e-68d5-49c8-8af8-64985baee752",
   "metadata": {},
   "outputs": [],
   "source": [
    "# now do everything for realz this time ... \n",
    "# which is to build out X and Y\n",
    "block_size = 3\n",
    "X, Y = [], []\n",
    "for w in words:\n",
    "    \n",
    "    # print(w)\n",
    "    context = [0]*block_size\n",
    "    for ch in w + delimiter :\n",
    "        ix = stoi[ch]\n",
    "        X.append(context)\n",
    "        Y.append(ix)\n",
    "        # print(''.join(itos[i] for i in context), '--->', itos[ix])\n",
    "        context = context[1:] + [ix] # crop and append"
   ]
  },
  {
   "cell_type": "code",
   "execution_count": 14,
   "id": "3facb2bd-2bcb-49bf-9a8a-07f96adfdaec",
   "metadata": {},
   "outputs": [
    {
     "data": {
      "text/plain": [
       "[[0, 0, 0], [0, 0, 5], [0, 5, 13], [5, 13, 13], [13, 13, 1]]"
      ]
     },
     "execution_count": 14,
     "metadata": {},
     "output_type": "execute_result"
    }
   ],
   "source": [
    "X[:5]"
   ]
  },
  {
   "cell_type": "code",
   "execution_count": 15,
   "id": "3d6dd06d-fd25-41e1-b1d8-61dcda1032a8",
   "metadata": {},
   "outputs": [
    {
     "data": {
      "text/plain": [
       "[5, 13, 13, 1, 0]"
      ]
     },
     "execution_count": 15,
     "metadata": {},
     "output_type": "execute_result"
    }
   ],
   "source": [
    "Y[:5]"
   ]
  },
  {
   "cell_type": "code",
   "execution_count": 16,
   "id": "70e2d6ae-d417-4227-afcd-081142fea2dc",
   "metadata": {},
   "outputs": [],
   "source": [
    "X = torch.tensor(X)\n",
    "Y = torch.tensor(Y)"
   ]
  },
  {
   "cell_type": "code",
   "execution_count": 17,
   "id": "722c18ca-4413-47ad-9100-c67a59293ca9",
   "metadata": {},
   "outputs": [
    {
     "data": {
      "text/plain": [
       "(torch.Size([228146, 3]), torch.int64, torch.Size([228146]), torch.int64)"
      ]
     },
     "execution_count": 17,
     "metadata": {},
     "output_type": "execute_result"
    }
   ],
   "source": [
    "X.shape, X.dtype, Y.shape, Y.dtype"
   ]
  },
  {
   "cell_type": "markdown",
   "id": "c96cee0b-ea6d-4895-897b-c1e426b3010d",
   "metadata": {},
   "source": [
    "Now lets build the embedding lookup C which has a total of 27 characters."
   ]
  },
  {
   "cell_type": "code",
   "execution_count": 18,
   "id": "5b93a03a-ec43-4917-ac35-32f127a38c7d",
   "metadata": {},
   "outputs": [
    {
     "data": {
      "text/plain": [
       "tensor([[0.6680, 0.0588],\n",
       "        [0.3202, 0.4285],\n",
       "        [0.7693, 0.3721],\n",
       "        [0.1076, 0.0988],\n",
       "        [0.3423, 0.3139],\n",
       "        [0.0417, 0.6157],\n",
       "        [0.7270, 0.4423],\n",
       "        [0.5763, 0.2202],\n",
       "        [0.2090, 0.1185],\n",
       "        [0.5960, 0.6598],\n",
       "        [0.9786, 0.9839],\n",
       "        [0.3047, 0.3107],\n",
       "        [0.9500, 0.1429],\n",
       "        [0.7184, 0.6512],\n",
       "        [0.0538, 0.0610],\n",
       "        [0.3708, 0.7827],\n",
       "        [0.2297, 0.7037],\n",
       "        [0.2417, 0.3192],\n",
       "        [0.2914, 0.1133],\n",
       "        [0.2321, 0.9429],\n",
       "        [0.3807, 0.8386],\n",
       "        [0.7142, 0.6058],\n",
       "        [0.1093, 0.7004],\n",
       "        [0.4850, 0.3159],\n",
       "        [0.3795, 0.4560],\n",
       "        [0.9520, 0.3830],\n",
       "        [0.7886, 0.3862]])"
      ]
     },
     "execution_count": 18,
     "metadata": {},
     "output_type": "execute_result"
    }
   ],
   "source": [
    "# we will use a 2 dimensional embedding for every one of the 27 characters\n",
    "C = torch.rand((27,2))\n",
    "C"
   ]
  },
  {
   "cell_type": "code",
   "execution_count": 19,
   "id": "048bfcfb-4e15-42b1-b238-311e29be9f11",
   "metadata": {},
   "outputs": [
    {
     "data": {
      "text/plain": [
       "tensor([0, 0, 0, 0, 0, 1, 0, 0, 0, 0, 0, 0, 0, 0, 0, 0, 0, 0, 0, 0, 0, 0, 0, 0,\n",
       "        0, 0, 0])"
      ]
     },
     "execution_count": 19,
     "metadata": {},
     "output_type": "execute_result"
    }
   ],
   "source": [
    "F.one_hot(torch.tensor(5), num_classes=27)"
   ]
  },
  {
   "cell_type": "code",
   "execution_count": 20,
   "id": "55426cd3-860f-42ff-82ab-dd34f9ffa0fd",
   "metadata": {},
   "outputs": [
    {
     "ename": "RuntimeError",
     "evalue": "expected scalar type Long but found Float",
     "output_type": "error",
     "traceback": [
      "\u001b[0;31m---------------------------------------------------------------------------\u001b[0m",
      "\u001b[0;31mRuntimeError\u001b[0m                              Traceback (most recent call last)",
      "Cell \u001b[0;32mIn[20], line 2\u001b[0m\n\u001b[1;32m      1\u001b[0m \u001b[38;5;66;03m# this fails ... \u001b[39;00m\n\u001b[0;32m----> 2\u001b[0m \u001b[43mF\u001b[49m\u001b[38;5;241;43m.\u001b[39;49m\u001b[43mone_hot\u001b[49m\u001b[43m(\u001b[49m\u001b[43mtorch\u001b[49m\u001b[38;5;241;43m.\u001b[39;49m\u001b[43mtensor\u001b[49m\u001b[43m(\u001b[49m\u001b[38;5;241;43m5\u001b[39;49m\u001b[43m)\u001b[49m\u001b[43m,\u001b[49m\u001b[43m \u001b[49m\u001b[43mnum_classes\u001b[49m\u001b[38;5;241;43m=\u001b[39;49m\u001b[38;5;241;43m27\u001b[39;49m\u001b[43m)\u001b[49m\u001b[43m \u001b[49m\u001b[38;5;241;43m@\u001b[39;49m\u001b[43m \u001b[49m\u001b[43mC\u001b[49m\n",
      "\u001b[0;31mRuntimeError\u001b[0m: expected scalar type Long but found Float"
     ]
    }
   ],
   "source": [
    "# this fails ... \n",
    "F.one_hot(torch.tensor(5), num_classes=27) @ C"
   ]
  },
  {
   "cell_type": "code",
   "execution_count": 21,
   "id": "3cdee7fa-ebb7-483f-a573-3263c9d590ea",
   "metadata": {},
   "outputs": [
    {
     "data": {
      "text/plain": [
       "torch.int64"
      ]
     },
     "execution_count": 21,
     "metadata": {},
     "output_type": "execute_result"
    }
   ],
   "source": [
    "F.one_hot(torch.tensor(5), num_classes=27).dtype"
   ]
  },
  {
   "cell_type": "code",
   "execution_count": 22,
   "id": "ea20eb6f-445f-4f2d-92e1-3845f8ddaca4",
   "metadata": {},
   "outputs": [
    {
     "data": {
      "text/plain": [
       "torch.float32"
      ]
     },
     "execution_count": 22,
     "metadata": {},
     "output_type": "execute_result"
    }
   ],
   "source": [
    "C.dtype"
   ]
  },
  {
   "cell_type": "code",
   "execution_count": 23,
   "id": "1c564d4a-052b-4519-ae6b-777965d2d054",
   "metadata": {},
   "outputs": [
    {
     "data": {
      "text/plain": [
       "tensor([0.0417, 0.6157])"
      ]
     },
     "execution_count": 23,
     "metadata": {},
     "output_type": "execute_result"
    }
   ],
   "source": [
    "F.one_hot(torch.tensor(5), num_classes=27).float() @ C"
   ]
  },
  {
   "cell_type": "code",
   "execution_count": 24,
   "id": "9ba3e89d-78e9-4419-88ba-23be4aa0c729",
   "metadata": {},
   "outputs": [
    {
     "data": {
      "text/plain": [
       "tensor([0.0417, 0.6157])"
      ]
     },
     "execution_count": 24,
     "metadata": {},
     "output_type": "execute_result"
    }
   ],
   "source": [
    "# the above operation pulls out ... \n",
    "C[5]"
   ]
  },
  {
   "cell_type": "code",
   "execution_count": 25,
   "id": "cb67337c-5a99-4fe9-b777-50e4faafb68f",
   "metadata": {},
   "outputs": [
    {
     "data": {
      "text/plain": [
       "tensor([[0.0417, 0.6157],\n",
       "        [0.7270, 0.4423],\n",
       "        [0.5763, 0.2202]])"
      ]
     },
     "execution_count": 25,
     "metadata": {},
     "output_type": "execute_result"
    }
   ],
   "source": [
    "C[[5, 6, 7]]"
   ]
  },
  {
   "cell_type": "code",
   "execution_count": 26,
   "id": "2547929e-d9d2-406a-ac51-4e6424cf51ab",
   "metadata": {},
   "outputs": [
    {
     "data": {
      "text/plain": [
       "tensor([[0.0417, 0.6157],\n",
       "        [0.7270, 0.4423],\n",
       "        [0.5763, 0.2202]])"
      ]
     },
     "execution_count": 26,
     "metadata": {},
     "output_type": "execute_result"
    }
   ],
   "source": [
    "C[torch.tensor([5, 6, 7])]"
   ]
  },
  {
   "cell_type": "code",
   "execution_count": 27,
   "id": "f8d66db3-a48d-4aa7-aac8-c13e0debf3c0",
   "metadata": {},
   "outputs": [
    {
     "data": {
      "text/plain": [
       "tensor([[0.6680, 0.0588],\n",
       "        [0.3202, 0.4285],\n",
       "        [0.7693, 0.3721],\n",
       "        [0.1076, 0.0988],\n",
       "        [0.3423, 0.3139],\n",
       "        [0.0417, 0.6157]])"
      ]
     },
     "execution_count": 27,
     "metadata": {},
     "output_type": "execute_result"
    }
   ],
   "source": [
    "C[:6]"
   ]
  },
  {
   "cell_type": "code",
   "execution_count": 28,
   "id": "d4965730-d33b-4192-8c1e-ff21b1698b63",
   "metadata": {},
   "outputs": [
    {
     "data": {
      "text/plain": [
       "tensor([[0.6680, 0.0588],\n",
       "        [0.3202, 0.4285],\n",
       "        [0.0417, 0.6157],\n",
       "        [0.7184, 0.6512]])"
      ]
     },
     "execution_count": 28,
     "metadata": {},
     "output_type": "execute_result"
    }
   ],
   "source": [
    "C[[0, 1, 5, 13]]"
   ]
  },
  {
   "cell_type": "code",
   "execution_count": 29,
   "id": "1bf7d0ff-4b13-4ca6-bc33-d496791092e0",
   "metadata": {},
   "outputs": [
    {
     "data": {
      "text/plain": [
       "tensor([[ 0,  0,  0],\n",
       "        [ 0,  0,  5],\n",
       "        [ 0,  5, 13],\n",
       "        [ 5, 13, 13],\n",
       "        [13, 13,  1]])"
      ]
     },
     "execution_count": 29,
     "metadata": {},
     "output_type": "execute_result"
    }
   ],
   "source": [
    "X[:5]"
   ]
  },
  {
   "cell_type": "code",
   "execution_count": 30,
   "id": "71e859f8-5b15-4cb2-a797-84d41b87a8c7",
   "metadata": {},
   "outputs": [
    {
     "data": {
      "text/plain": [
       "tensor([[[0.6680, 0.0588],\n",
       "         [0.6680, 0.0588],\n",
       "         [0.6680, 0.0588]],\n",
       "\n",
       "        [[0.6680, 0.0588],\n",
       "         [0.6680, 0.0588],\n",
       "         [0.0417, 0.6157]],\n",
       "\n",
       "        [[0.6680, 0.0588],\n",
       "         [0.0417, 0.6157],\n",
       "         [0.7184, 0.6512]],\n",
       "\n",
       "        [[0.0417, 0.6157],\n",
       "         [0.7184, 0.6512],\n",
       "         [0.7184, 0.6512]],\n",
       "\n",
       "        [[0.7184, 0.6512],\n",
       "         [0.7184, 0.6512],\n",
       "         [0.3202, 0.4285]]])"
      ]
     },
     "execution_count": 30,
     "metadata": {},
     "output_type": "execute_result"
    }
   ],
   "source": [
    "# so notice how we use X to index into C ...\n",
    "C[X][:5]"
   ]
  },
  {
   "cell_type": "code",
   "execution_count": 31,
   "id": "d057821f-4c66-40e6-ab0a-f21fd71a15c0",
   "metadata": {},
   "outputs": [
    {
     "data": {
      "text/plain": [
       "torch.Size([228146, 3, 2])"
      ]
     },
     "execution_count": 31,
     "metadata": {},
     "output_type": "execute_result"
    }
   ],
   "source": [
    "C[X].shape"
   ]
  },
  {
   "cell_type": "code",
   "execution_count": 32,
   "id": "176ec777-c969-483d-9239-2f0336630470",
   "metadata": {},
   "outputs": [
    {
     "data": {
      "text/plain": [
       "torch.Size([228146, 3, 2])"
      ]
     },
     "execution_count": 32,
     "metadata": {},
     "output_type": "execute_result"
    }
   ],
   "source": [
    "emb = C[X]\n",
    "emb.shape"
   ]
  },
  {
   "cell_type": "code",
   "execution_count": null,
   "id": "40146f1e-4e19-4904-9011-0de8892177fb",
   "metadata": {},
   "outputs": [],
   "source": []
  }
 ],
 "metadata": {
  "kernelspec": {
   "display_name": "Python 3 (ipykernel)",
   "language": "python",
   "name": "python3"
  },
  "language_info": {
   "codemirror_mode": {
    "name": "ipython",
    "version": 3
   },
   "file_extension": ".py",
   "mimetype": "text/x-python",
   "name": "python",
   "nbconvert_exporter": "python",
   "pygments_lexer": "ipython3",
   "version": "3.9.16"
  }
 },
 "nbformat": 4,
 "nbformat_minor": 5
}
