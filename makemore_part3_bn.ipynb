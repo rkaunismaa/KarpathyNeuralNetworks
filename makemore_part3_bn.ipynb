{
 "cells": [
  {
   "cell_type": "markdown",
   "id": "df44ebc0-0339-46d1-80f2-45832bc2df2b",
   "metadata": {},
   "source": [
    "Thursday, June 8, 2023\n",
    "\n",
    "I was running this in the conda environment nlpwt, but then realized it does not have the gpu version of PyTorch ... wtf!?\n",
    "\n",
    "I am now running this in docker container sad_nightingale."
   ]
  },
  {
   "cell_type": "code",
   "execution_count": 1,
   "id": "3966ab24-18a5-4c35-a25d-3101b8fbbfd7",
   "metadata": {
    "tags": []
   },
   "outputs": [],
   "source": [
    "import torch\n",
    "import torch.nn.functional as F\n",
    "import matplotlib.pyplot as plt # for making figures\n",
    "%matplotlib inline"
   ]
  },
  {
   "cell_type": "code",
   "execution_count": 2,
   "id": "5b6c9ad8-f2df-4594-b4d2-a1828e845e57",
   "metadata": {
    "tags": []
   },
   "outputs": [
    {
     "data": {
      "text/plain": [
       "'1.13.1'"
      ]
     },
     "execution_count": 2,
     "metadata": {},
     "output_type": "execute_result"
    }
   ],
   "source": [
    "torch.__version__"
   ]
  },
  {
   "cell_type": "code",
   "execution_count": 3,
   "id": "95e249b7-42d0-438e-98a3-89061efa0d1f",
   "metadata": {
    "tags": []
   },
   "outputs": [
    {
     "data": {
      "text/plain": [
       "['emma', 'olivia', 'ava', 'isabella', 'sophia', 'charlotte', 'mia', 'amelia']"
      ]
     },
     "execution_count": 3,
     "metadata": {},
     "output_type": "execute_result"
    }
   ],
   "source": [
    "# read in all the words\n",
    "words = open('names.txt', 'r').read().splitlines()\n",
    "words[:8]"
   ]
  },
  {
   "cell_type": "code",
   "execution_count": 4,
   "id": "82936707-d3c4-460b-8c3a-3fea852051a3",
   "metadata": {
    "tags": []
   },
   "outputs": [
    {
     "data": {
      "text/plain": [
       "32033"
      ]
     },
     "execution_count": 4,
     "metadata": {},
     "output_type": "execute_result"
    }
   ],
   "source": [
    "len(words)"
   ]
  },
  {
   "cell_type": "code",
   "execution_count": 5,
   "id": "d65afa12-4f64-4817-b73e-fda42e716aa8",
   "metadata": {
    "tags": []
   },
   "outputs": [],
   "source": [
    "delimiter = '.'"
   ]
  },
  {
   "cell_type": "code",
   "execution_count": 6,
   "id": "b2ff1343-3743-4304-bfa6-662cb2fa8d9c",
   "metadata": {
    "tags": []
   },
   "outputs": [
    {
     "name": "stdout",
     "output_type": "stream",
     "text": [
      "{1: 'a', 2: 'b', 3: 'c', 4: 'd', 5: 'e', 6: 'f', 7: 'g', 8: 'h', 9: 'i', 10: 'j', 11: 'k', 12: 'l', 13: 'm', 14: 'n', 15: 'o', 16: 'p', 17: 'q', 18: 'r', 19: 's', 20: 't', 21: 'u', 22: 'v', 23: 'w', 24: 'x', 25: 'y', 26: 'z', 0: '.'}\n",
      "27\n"
     ]
    }
   ],
   "source": [
    "# build the vocabulary of characters and mappings to/from integers\n",
    "chars = sorted(list(set(''.join(words))))\n",
    "stoi = {s:i+1 for i,s in enumerate(chars)}\n",
    "stoi[delimiter] = 0\n",
    "itos = {i:s for s,i in stoi.items()}\n",
    "vocab_size = len(itos)\n",
    "print(itos)\n",
    "print(vocab_size)"
   ]
  },
  {
   "cell_type": "markdown",
   "id": "a8b0de64-792c-46b4-97bc-4626c777264b",
   "metadata": {},
   "source": [
    "Since we have a GPU, let's use it, shall we ... "
   ]
  },
  {
   "cell_type": "code",
   "execution_count": 7,
   "id": "05f95f3c-38a2-4bf9-a848-50889472f8a8",
   "metadata": {
    "tags": []
   },
   "outputs": [
    {
     "data": {
      "text/plain": [
       "device(type='cpu')"
      ]
     },
     "execution_count": 7,
     "metadata": {},
     "output_type": "execute_result"
    }
   ],
   "source": [
    "if torch.cuda.is_available():\n",
    "    device = torch.device(\"cuda\")  # Use GPU\n",
    "else:\n",
    "    device = torch.device(\"cpu\")  # Fallback to CPU if GPU is not available\n",
    "device"
   ]
  },
  {
   "cell_type": "code",
   "execution_count": 8,
   "id": "bd33e588-f0af-4557-a031-32c85003325c",
   "metadata": {},
   "outputs": [],
   "source": [
    "# override the above ... cuz I want to test something ...\n",
    "device = torch.device(\"cpu\")  "
   ]
  },
  {
   "cell_type": "code",
   "execution_count": 9,
   "id": "7490aee5-a154-4a27-aa7c-96188c6f80c8",
   "metadata": {},
   "outputs": [
    {
     "name": "stdout",
     "output_type": "stream",
     "text": [
      "torch.Size([182625, 3]) torch.Size([182625])\n",
      "torch.Size([22655, 3]) torch.Size([22655])\n",
      "torch.Size([22866, 3]) torch.Size([22866])\n"
     ]
    }
   ],
   "source": [
    "# build the dataset\n",
    "block_size = 3 # context length: how many characters do we take to predict the next one?\n",
    "\n",
    "def build_dataset(words):  \n",
    "    X, Y = [], []\n",
    "\n",
    "    for w in words:\n",
    "        context = [0] * block_size\n",
    "        for ch in w + '.':\n",
    "            ix = stoi[ch]\n",
    "            X.append(context)\n",
    "            Y.append(ix)\n",
    "            context = context[1:] + [ix] # crop and append\n",
    "\n",
    "    X = torch.tensor(X).to(device)\n",
    "    Y = torch.tensor(Y).to(device)\n",
    "    print(X.shape, Y.shape)\n",
    "    return X, Y\n",
    "\n",
    "import random\n",
    "random.seed(42)\n",
    "random.shuffle(words)\n",
    "n1 = int(0.8*len(words))\n",
    "n2 = int(0.9*len(words))\n",
    "\n",
    "Xtr,  Ytr  = build_dataset(words[:n1])     # 80%\n",
    "Xdev, Ydev = build_dataset(words[n1:n2])   # 10%\n",
    "Xte,  Yte  = build_dataset(words[n2:])     # 10%"
   ]
  },
  {
   "cell_type": "code",
   "execution_count": 10,
   "id": "5357c9da-8ce4-48f7-b6ba-cc4286add309",
   "metadata": {},
   "outputs": [],
   "source": [
    "manualSeed = 2147483647"
   ]
  },
  {
   "cell_type": "markdown",
   "id": "257c0cb7-afc3-4a60-a44d-018d33febe3a",
   "metadata": {
    "tags": []
   },
   "source": [
    "## Model Initialization 1"
   ]
  },
  {
   "cell_type": "code",
   "execution_count": 11,
   "id": "bbc60e51-56f6-4728-b960-85990480ab19",
   "metadata": {},
   "outputs": [
    {
     "name": "stdout",
     "output_type": "stream",
     "text": [
      "11897\n"
     ]
    }
   ],
   "source": [
    "# MLP revisited\n",
    "n_embd = 10 # the dimensionality of the character embedding vectors\n",
    "n_hidden = 200 # the number of neurons in the hidden layer of the MLP\n",
    "\n",
    "g = torch.Generator().manual_seed(manualSeed) # for reproducibility\n",
    "C  = torch.randn((vocab_size, n_embd),            generator=g).to(device)\n",
    "W1 = torch.randn((n_embd * block_size, n_hidden), generator=g).to(device)\n",
    "b1 = torch.randn(n_hidden,                        generator=g).to(device)\n",
    "W2 = torch.randn((n_hidden, vocab_size),          generator=g).to(device)\n",
    "b2 = torch.randn(vocab_size,                      generator=g).to(device)\n",
    "\n",
    "parameters = [C, W1, b1, W2, b2]\n",
    "print(sum(p.nelement() for p in parameters)) # number of parameters in total\n",
    "for p in parameters:\n",
    "    p.requires_grad = True"
   ]
  },
  {
   "cell_type": "markdown",
   "id": "92c47805-8a76-4cd4-9dad-d8831c9169eb",
   "metadata": {},
   "source": [
    "## Training Loop 1"
   ]
  },
  {
   "cell_type": "code",
   "execution_count": 12,
   "id": "9c5da8f6-81c4-46ac-bf37-ec7290066693",
   "metadata": {},
   "outputs": [
    {
     "name": "stdout",
     "output_type": "stream",
     "text": [
      "      0/ 200000: 27.8817\n",
      "  10000/ 200000: 2.8331\n",
      "  20000/ 200000: 2.4988\n",
      "  30000/ 200000: 2.6304\n",
      "  40000/ 200000: 2.0544\n",
      "  50000/ 200000: 2.4894\n",
      "  60000/ 200000: 2.4372\n",
      "  70000/ 200000: 2.1040\n",
      "  80000/ 200000: 2.3070\n",
      "  90000/ 200000: 2.1245\n",
      " 100000/ 200000: 1.9729\n",
      " 110000/ 200000: 2.5353\n",
      " 120000/ 200000: 2.1414\n",
      " 130000/ 200000: 2.5304\n",
      " 140000/ 200000: 2.3557\n",
      " 150000/ 200000: 2.2075\n",
      " 160000/ 200000: 2.3027\n",
      " 170000/ 200000: 1.8006\n",
      " 180000/ 200000: 2.3113\n",
      " 190000/ 200000: 2.0539\n",
      "CPU times: user 8min 34s, sys: 1.2 s, total: 8min 35s\n",
      "Wall time: 1min 7s\n"
     ]
    }
   ],
   "source": [
    "%%time\n",
    "# same optimization as last time\n",
    "max_steps = 200000\n",
    "batch_size = 32\n",
    "lossi = []\n",
    "\n",
    "for i in range(max_steps):\n",
    "    \n",
    "    # minibatch construct\n",
    "    ix = torch.randint(0, Xtr.shape[0], (batch_size,), generator=g)\n",
    "    Xb, Yb = Xtr[ix], Ytr[ix] # batch X,Y\n",
    "    \n",
    "    # 1) Forward Pass\n",
    "    # embed the characters into vectors\n",
    "    emb = C[Xb]\n",
    "    # concatenate the vectors\n",
    "    embcat = emb.view(emb.shape[0], -1)\n",
    "    # hidden layer pre-activation\n",
    "    hpreact = embcat @ W1 + b1\n",
    "    # hidden layer\n",
    "    h = torch.tanh(hpreact)\n",
    "    # output layer\n",
    "    logits = h @ W2 + b2\n",
    "    # loss function\n",
    "    loss = F.cross_entropy(logits, Yb)\n",
    "    \n",
    "    # 2) Backward Pass\n",
    "    for p in parameters:\n",
    "        p.grad = None\n",
    "    loss.backward()\n",
    "    \n",
    "    # 3) update\n",
    "    # step learning rate decay\n",
    "    lr = 0.1 if i < 10000 else 0.01\n",
    "    for p in parameters:\n",
    "        p.data += -lr * p.grad\n",
    "    \n",
    "    # 4) track stats\n",
    "    if i % 10000 == 0:\n",
    "        print(f'{i:7d}/{max_steps:7d}: {loss.item():.4f}')\n",
    "    lossi.append(loss.log10().item())\n",
    "    \n",
    "    \n",
    "# back to the conda nlpwt environment ...\n",
    "# CPU times: user 8min 24s, sys: 7.84 s, total: 8min 32s\n",
    "# Wall time: 1min 6s\n",
    "    \n",
    "# docker container start sad_nightingale\n",
    "# No .todevice(device) code\n",
    "# CPU times: user 9min 24s, sys: 1.2 s, total: 9min 26s\n",
    "# Wall time: 1min 13s\n",
    "    \n",
    "# docker container start sad_nightingale\n",
    "# This is where we set device to cpu ... device = torch.device(\"cpu\")\n",
    "# CPU times: user 9min 37s, sys: 1.22 s, total: 9min 38s\n",
    "# Wall time: 1min 15s\n",
    "      \n",
    "# docker container start sad_nightingale\n",
    "# This is back to adding .to(device) ... where device is cuda.\n",
    "# CPU times: user 1min 40s, sys: 1.82 s, total: 1min 42s\n",
    "# Wall time: 1min 53s\n",
    "    \n",
    "# docker container start sad_nightingale\n",
    "# This shows the time after I removed all those .to(device) statements.\n",
    "# CPU times: user 9min 32s, sys: 1.03 s, total: 9min 33s\n",
    "# Wall time: 1min 14s\n",
    " \n",
    "# docker container start sad_nightingale    \n",
    "# Why is this now slower on the GPU?!   \n",
    "# This is the time when I specify .to(device) when creating each tensor.\n",
    "# CPU times: user 1min 44s, sys: 1.26 s, total: 1min 45s\n",
    "# Wall time: 1min 56s\n",
    "    \n",
    "# docker container start sad_nightingale\n",
    "# CPU times: user 9min 18s, sys: 1.04 s, total: 9min 19s\n",
    "# Wall time: 1min 12s\n",
    "    \n",
    "# running on all 8 cpus ... conda nlpwt\n",
    "# CPU times: user 6min 42s, sys: 5.67 s, total: 6min 48s\n",
    "# Wall time: 51.6 s\n",
    "    "
   ]
  },
  {
   "cell_type": "code",
   "execution_count": 13,
   "id": "351debc6-7934-4fe1-a850-4a22c06af9a8",
   "metadata": {
    "tags": []
   },
   "outputs": [
    {
     "data": {
      "text/plain": [
       "[<matplotlib.lines.Line2D at 0x7f4798192500>]"
      ]
     },
     "execution_count": 13,
     "metadata": {},
     "output_type": "execute_result"
    },
    {
     "data": {
      "image/png": "[encoded data removed]",
      "text/plain": [
       "<Figure size 640x480 with 1 Axes>"
      ]
     },
     "metadata": {},
     "output_type": "display_data"
    }
   ],
   "source": [
    "plt.plot(lossi)"
   ]
  },
  {
   "cell_type": "markdown",
   "id": "47a4dae2-96cf-4581-8ad7-b09a7f8e00dd",
   "metadata": {},
   "source": [
    "## Split Loss 1"
   ]
  },
  {
   "cell_type": "code",
   "execution_count": 14,
   "id": "a48029c0-79ed-4014-a936-acd114addae8",
   "metadata": {
    "tags": []
   },
   "outputs": [],
   "source": [
    "@torch.no_grad() # this decorator disables gradient tracking\n",
    "def split_loss(split):\n",
    "    x, y = { 'train' : [Xtr, Ytr],\n",
    "             'val' : [Xdev, Ydev],\n",
    "             'test' : [Xte, Yte]\n",
    "           }[split]\n",
    "    # (N, block_size, n_embed)\n",
    "    emb = C[x]\n",
    "    # concat into a (N, block_size * n_embed)\n",
    "    embcat = emb.view(emb.shape[0], -1)\n",
    "    hpreact = embcat @ W1 + b1\n",
    "    # (N, n_hidden)\n",
    "    h = torch.tanh(hpreact)\n",
    "    # (N, vocab_size)\n",
    "    logits = h @ W2 + b2\n",
    "    loss = F.cross_entropy(logits, y)\n",
    "    print(split, loss.item())"
   ]
  },
  {
   "cell_type": "code",
   "execution_count": 15,
   "id": "b2dc24c2-0f86-4dcc-b6d1-277b123f31a3",
   "metadata": {
    "tags": []
   },
   "outputs": [
    {
     "name": "stdout",
     "output_type": "stream",
     "text": [
      "train 2.2306289672851562\n"
     ]
    }
   ],
   "source": [
    "split_loss('train')"
   ]
  },
  {
   "cell_type": "code",
   "execution_count": 16,
   "id": "b79d5be9-ac54-4771-8aaf-2033b0da58e6",
   "metadata": {
    "tags": []
   },
   "outputs": [
    {
     "name": "stdout",
     "output_type": "stream",
     "text": [
      "val 2.2506215572357178\n"
     ]
    }
   ],
   "source": [
    "split_loss('val')"
   ]
  },
  {
   "cell_type": "code",
   "execution_count": 17,
   "id": "a98c1684-8a75-4bb1-bbf2-ba6ce945d8b2",
   "metadata": {
    "tags": []
   },
   "outputs": [
    {
     "name": "stdout",
     "output_type": "stream",
     "text": [
      "carlah.\n",
      "amorilli.\n",
      "kemri.\n",
      "rehty.\n",
      "sacessaeja.\n",
      "huen.\n",
      "amerync.\n",
      "kaqui.\n",
      "nellara.\n",
      "chaiir.\n",
      "kaleig.\n",
      "dham.\n",
      "jorn.\n",
      "quinn.\n",
      "srockon.\n",
      "jadii.\n",
      "wazelo.\n",
      "dearynixfiaun.\n",
      "durabee.\n",
      "deai.\n"
     ]
    }
   ],
   "source": [
    "# sample from the model\n",
    "g = torch.Generator().manual_seed(manualSeed + 10)\n",
    "\n",
    "for _ in range(20):\n",
    "    \n",
    "    out = []\n",
    "    context = [0] * block_size # initialize with all ...\n",
    "    while True:\n",
    "        # forward pass the neural net\n",
    "        ttc = torch.tensor([context]).to(device)\n",
    "        emb = C[ttc] # (1, block_size, n_embed)\n",
    "        embcat = emb.view(1, -1)\n",
    "        h = torch.tanh(embcat @ W1 + b1)\n",
    "        logits = h @ W2 + b2\n",
    "        probs = F.softmax(logits, dim=1).to(device)\n",
    "        # sample from distribution\n",
    "        ix = torch.multinomial(probs, num_samples=1, generator=g) # this blows up here if we use the gpu ... !\n",
    "        ix = ix.item()\n",
    "        # shift the context window and track the samples\n",
    "        context = context[1:] + [ix]\n",
    "        out.append(ix)\n",
    "        # if we sample the special '.' token, then break\n",
    "        if ix == 0:\n",
    "            break\n",
    "            \n",
    "    # decode and print the generated word\n",
    "    print(''.join(itos[i] for i in out))\n",
    "        "
   ]
  },
  {
   "cell_type": "markdown",
   "id": "8268e2be-7d3f-40a1-a90a-89cc15627175",
   "metadata": {},
   "source": [
    "## A) Fixing the initial loss"
   ]
  },
  {
   "cell_type": "markdown",
   "id": "09996fce-d965-4f60-9ce7-c9989f7d1b9b",
   "metadata": {},
   "source": [
    "The first thing we are going to scrutinize is the initialization. The first iteration of the training loop reveals a loss of almost 28, followed by the second iteration going down to 2.8. We should have expected something a lot lower for the first iteration, something closer to the second iteration. \n",
    "\n",
    "We should expect something closer to a probability distribution of something even for all 27 characters, meaning the model should predict an equal likelihood for any of the 27 characters. (1/27 = 0.037)"
   ]
  },
  {
   "cell_type": "code",
   "execution_count": 18,
   "id": "ab5c4464-975d-45c3-920e-51cfb40d651b",
   "metadata": {},
   "outputs": [
    {
     "data": {
      "text/plain": [
       "tensor(3.2958)"
      ]
     },
     "execution_count": 18,
     "metadata": {},
     "output_type": "execute_result"
    }
   ],
   "source": [
    "-torch.tensor(1/27.0).log()"
   ]
  },
  {
   "cell_type": "code",
   "execution_count": 19,
   "id": "cef5feb9-ccb9-4601-82d3-2cda4a194b8c",
   "metadata": {
    "tags": []
   },
   "outputs": [
    {
     "data": {
      "text/plain": [
       "(tensor([0., 0., 0., 0.]),\n",
       " tensor([0.2500, 0.2500, 0.2500, 0.2500]),\n",
       " tensor(1.3863))"
      ]
     },
     "execution_count": 19,
     "metadata": {},
     "output_type": "execute_result"
    }
   ],
   "source": [
    "# a 4-dimensional example of the issue ... so we only have 4 characters.\n",
    "logits = torch.tensor([0.0, 0.0, 0.0, 0.0])\n",
    "probs = torch.softmax(logits, dim=0)\n",
    "# so if the Y label is 2, then ... \n",
    "loss = -probs[2].log()\n",
    "logits, probs, loss"
   ]
  },
  {
   "cell_type": "code",
   "execution_count": 20,
   "id": "3fcfc50d-853f-4701-850d-42dac9ed87db",
   "metadata": {
    "tags": []
   },
   "outputs": [
    {
     "data": {
      "text/plain": [
       "tensor(1.)"
      ]
     },
     "execution_count": 20,
     "metadata": {},
     "output_type": "execute_result"
    }
   ],
   "source": [
    "probs.sum()"
   ]
  },
  {
   "cell_type": "markdown",
   "id": "e43c9586-97b4-4f18-870b-91c5198c93a3",
   "metadata": {},
   "source": [
    "But what if the 2nd example was very high, like 5 ... then we will have a very low loss, 0.02 ..."
   ]
  },
  {
   "cell_type": "code",
   "execution_count": 21,
   "id": "e249a70a-f312-4aba-aa70-a26c7d769dcb",
   "metadata": {
    "tags": []
   },
   "outputs": [
    {
     "data": {
      "text/plain": [
       "(tensor([0., 0., 5., 0.]),\n",
       " tensor([0.0066, 0.0066, 0.9802, 0.0066]),\n",
       " tensor(0.0200))"
      ]
     },
     "execution_count": 21,
     "metadata": {},
     "output_type": "execute_result"
    }
   ],
   "source": [
    "# a 4-dimensional example of the issue ... so we only have 4 characters.\n",
    "logits = torch.tensor([0.0, 0.0, 5.0, 0.0])\n",
    "probs = torch.softmax(logits, dim=0)\n",
    "loss = -probs[2].log()\n",
    "logits, probs, loss"
   ]
  },
  {
   "cell_type": "markdown",
   "id": "af2dff53-93a2-4726-af70-60bfaf8e2c11",
   "metadata": {},
   "source": [
    "But its more likely that some other example will have a high value, and then we wil have a higher loss ..."
   ]
  },
  {
   "cell_type": "code",
   "execution_count": 22,
   "id": "ac61ffb6-445d-4fa3-ac5b-3277855c29e9",
   "metadata": {
    "tags": []
   },
   "outputs": [
    {
     "data": {
      "text/plain": [
       "(tensor([0., 5., 0., 0.]),\n",
       " tensor([0.0066, 0.9802, 0.0066, 0.0066]),\n",
       " tensor(5.0200))"
      ]
     },
     "execution_count": 22,
     "metadata": {},
     "output_type": "execute_result"
    }
   ],
   "source": [
    "logits = torch.tensor([0.0, 5.0, 0.0, 0.0])\n",
    "probs = torch.softmax(logits, dim=0)\n",
    "loss = -probs[2].log()\n",
    "logits, probs, loss"
   ]
  },
  {
   "cell_type": "code",
   "execution_count": 23,
   "id": "024ff988-53f0-4761-a44a-2d13ad83117d",
   "metadata": {
    "tags": []
   },
   "outputs": [
    {
     "data": {
      "text/plain": [
       "(tensor([-3.,  5.,  0.,  2.]),\n",
       " tensor([3.1741e-04, 9.4620e-01, 6.3754e-03, 4.7108e-02]),\n",
       " tensor(5.0553))"
      ]
     },
     "execution_count": 23,
     "metadata": {},
     "output_type": "execute_result"
    }
   ],
   "source": [
    "logits = torch.tensor([-3.0, 5.0, 0.0, 2.0])\n",
    "probs = torch.softmax(logits, dim=0)\n",
    "loss = -probs[2].log()\n",
    "logits, probs, loss"
   ]
  },
  {
   "cell_type": "markdown",
   "id": "1d58e589-bf69-4864-83c8-cbfeed3b543e",
   "metadata": {},
   "source": [
    "What we want is for the logits to be rougly zero when it's initialized, or they just have to be the same value .."
   ]
  },
  {
   "cell_type": "code",
   "execution_count": 24,
   "id": "86d36d67-aabb-4fd4-8c59-605b50d5b961",
   "metadata": {
    "tags": []
   },
   "outputs": [
    {
     "data": {
      "text/plain": [
       "(tensor([3.5000, 3.5000, 3.5000, 3.5000]),\n",
       " tensor([0.2500, 0.2500, 0.2500, 0.2500]),\n",
       " tensor(1.3863))"
      ]
     },
     "execution_count": 24,
     "metadata": {},
     "output_type": "execute_result"
    }
   ],
   "source": [
    "logits = torch.tensor([3.5, 3.5, 3.5, 3.5])\n",
    "probs = torch.softmax(logits, dim=0)\n",
    "loss = -probs[2].log()\n",
    "logits, probs, loss"
   ]
  },
  {
   "cell_type": "markdown",
   "id": "11167290-6fc8-4b64-aa51-b01d3d4d16c7",
   "metadata": {},
   "source": [
    "So if we take the code from Training Loop 1 and replicate it to Training Loop 2 below, re-run the Model Initialization 1 code, then tweak it to break on the first iteration ..."
   ]
  },
  {
   "cell_type": "markdown",
   "id": "749d7f3b-2e29-4269-94c3-b316dac3243f",
   "metadata": {},
   "source": [
    "## Model Initialization 1 (copied from a previous cell)"
   ]
  },
  {
   "cell_type": "code",
   "execution_count": 25,
   "id": "4da344ad-0c39-457e-ba44-886d81edd13a",
   "metadata": {},
   "outputs": [
    {
     "name": "stdout",
     "output_type": "stream",
     "text": [
      "11897\n"
     ]
    }
   ],
   "source": [
    "# MLP revisited\n",
    "n_embd = 10 # the dimensionality of the character embedding vectors\n",
    "n_hidden = 200 # the number of neurons in the hidden layer of the MLP\n",
    "\n",
    "g = torch.Generator().manual_seed(manualSeed) # for reproducibility\n",
    "C  = torch.randn((vocab_size, n_embd),            generator=g).to(device)\n",
    "W1 = torch.randn((n_embd * block_size, n_hidden), generator=g).to(device)\n",
    "b1 = torch.randn(n_hidden,                        generator=g).to(device)\n",
    "W2 = torch.randn((n_hidden, vocab_size),          generator=g).to(device)\n",
    "b2 = torch.randn(vocab_size,                      generator=g).to(device)\n",
    "\n",
    "parameters = [C, W1, b1, W2, b2]\n",
    "print(sum(p.nelement() for p in parameters)) # number of parameters in total\n",
    "for p in parameters:\n",
    "    p.requires_grad = True"
   ]
  },
  {
   "cell_type": "markdown",
   "id": "2741746d-e3fb-45ba-94b1-659541b86de4",
   "metadata": {},
   "source": [
    "## Training Loop 2"
   ]
  },
  {
   "cell_type": "code",
   "execution_count": 26,
   "id": "d65e99c4-d75b-43c3-bbad-ff1857f0316d",
   "metadata": {
    "tags": []
   },
   "outputs": [
    {
     "name": "stdout",
     "output_type": "stream",
     "text": [
      "      0/ 200000: 27.8817\n",
      "CPU times: user 71.3 ms, sys: 0 ns, total: 71.3 ms\n",
      "Wall time: 14.7 ms\n"
     ]
    }
   ],
   "source": [
    "%%time\n",
    "# same optimization as last time\n",
    "max_steps = 200000\n",
    "batch_size = 32\n",
    "lossi = []\n",
    "\n",
    "for i in range(max_steps):\n",
    "    \n",
    "    # minibatch construct\n",
    "    ix = torch.randint(0, Xtr.shape[0], (batch_size,), generator=g)\n",
    "    Xb, Yb = Xtr[ix], Ytr[ix] # batch X,Y\n",
    "    \n",
    "    # 1) Forward Pass\n",
    "    # embed the characters into vectors\n",
    "    emb = C[Xb]\n",
    "    # concatenate the vectors\n",
    "    embcat = emb.view(emb.shape[0], -1)\n",
    "    # hidden layer pre-activation\n",
    "    hpreact = embcat @ W1 + b1\n",
    "    # hidden layer\n",
    "    h = torch.tanh(hpreact)\n",
    "    # output layer\n",
    "    logits = h @ W2 + b2\n",
    "    # loss function\n",
    "    loss = F.cross_entropy(logits, Yb)\n",
    "    \n",
    "    # 2) Backward Pass\n",
    "    for p in parameters:\n",
    "        p.grad = None\n",
    "    loss.backward()\n",
    "    \n",
    "    # 3) update\n",
    "    # step learning rate decay\n",
    "    lr = 0.1 if i < 10000 else 0.01\n",
    "    for p in parameters:\n",
    "        p.data += -lr * p.grad\n",
    "    \n",
    "    # 4) track stats\n",
    "    if i % 10000 == 0:\n",
    "        print(f'{i:7d}/{max_steps:7d}: {loss.item():.4f}')\n",
    "    lossi.append(loss.log10().item())\n",
    "    \n",
    "    # The only change from Training Loop 1\n",
    "    break"
   ]
  },
  {
   "cell_type": "markdown",
   "id": "ef1d8ca5-6aed-4d73-b281-a8e85a841b13",
   "metadata": {},
   "source": [
    "And now we take a look at the logits from the first row of the output layer ..."
   ]
  },
  {
   "cell_type": "code",
   "execution_count": 27,
   "id": "a3877127-641d-460c-aef0-4a47c72e9f35",
   "metadata": {
    "tags": []
   },
   "outputs": [
    {
     "data": {
      "text/plain": [
       "tensor([ -2.3527,  36.4366, -10.7306,   5.7165,  18.6409, -11.6998,  -2.1991,\n",
       "          1.8535,  10.9996,  10.6730,  12.3507, -10.3809,   4.7243, -24.4257,\n",
       "         -8.5909,   1.9024, -12.2744, -12.4751, -23.2778,  -2.0163,  25.8767,\n",
       "         14.2108,  17.7691, -10.9204, -20.7335,   6.4560,  11.1615],\n",
       "       grad_fn=<SelectBackward0>)"
      ]
     },
     "execution_count": 27,
     "metadata": {},
     "output_type": "execute_result"
    }
   ],
   "source": [
    "logits[0]"
   ]
  },
  {
   "cell_type": "markdown",
   "id": "2f202673-1ae3-4468-a7b5-6ddedd3ce568",
   "metadata": {},
   "source": [
    "... you can see the logits can take on some extreme values. They vary a lot. \n",
    "\n",
    "`This is what is creating the fake confidence and incorrect answers and makes the loss get very high!`\n",
    "\n",
    "So these logits should all be much closer to zero. \n",
    "\n",
    "So how do we do this?"
   ]
  },
  {
   "cell_type": "markdown",
   "id": "ddf60426-7892-49a2-babb-3e8c8c4df42d",
   "metadata": {},
   "source": [
    "Well if we look at the code in the training loop, we can see the logits are calculated as\n",
    "\n",
    "logits = h @ W2 + b2\n",
    "\n",
    "\n",
    "The first thing we can so is modify how we initialize b2. Currently we initialize b2 with randn \n",
    "\n",
    "b2 = torch.randn(vocab_size,                      generator=g).to(device)\n",
    "\n",
    "but we want those numbers to all be zero or close to zero. This can be done by multiplying by 0:\n",
    "\n",
    "b2 = torch.randn(vocab_size,                      generator=g).to(device) * 0.0"
   ]
  },
  {
   "cell_type": "markdown",
   "id": "3c8ca21f-f076-4107-8649-7a8099879ced",
   "metadata": {},
   "source": [
    "The second thing we can do is also scale down how we initialize W2. Currently we initialize W2 with randn\n",
    "\n",
    "W2 = torch.randn((n_hidden, vocab_size), generator=g).to(device)\n",
    "\n",
    "Let's scale down all those numbers by multiplying by 0.1\n",
    "\n",
    "W2 = torch.randn((n_hidden, vocab_size), generator=g).to(device) * 0.1"
   ]
  },
  {
   "cell_type": "markdown",
   "id": "f02ac097-f85e-4953-8b23-2dea7ead9dc8",
   "metadata": {},
   "source": [
    "## Model Initialization 2"
   ]
  },
  {
   "cell_type": "code",
   "execution_count": 28,
   "id": "fd2f4d88-d7e6-4721-b417-f4f920ae33ba",
   "metadata": {
    "tags": []
   },
   "outputs": [
    {
     "name": "stdout",
     "output_type": "stream",
     "text": [
      "11897\n"
     ]
    }
   ],
   "source": [
    "# MLP revisited\n",
    "n_embd = 10 # the dimensionality of the character embedding vectors\n",
    "n_hidden = 200 # the number of neurons in the hidden layer of the MLP\n",
    "\n",
    "g = torch.Generator().manual_seed(manualSeed) # for reproducibility\n",
    "C  = torch.randn((vocab_size, n_embd),            generator=g).to(device)\n",
    "W1 = torch.randn((n_embd * block_size, n_hidden), generator=g).to(device)\n",
    "b1 = torch.randn(n_hidden,                        generator=g).to(device)\n",
    "W2 = torch.randn((n_hidden, vocab_size),          generator=g).to(device) * 0.1 # change 2\n",
    "b2 = torch.randn(vocab_size,                      generator=g).to(device) * 0.0 # change 1\n",
    "\n",
    "parameters = [C, W1, b1, W2, b2]\n",
    "print(sum(p.nelement() for p in parameters)) # number of parameters in total\n",
    "for p in parameters:\n",
    "    p.requires_grad = True"
   ]
  },
  {
   "cell_type": "markdown",
   "id": "e729e287-56ce-4fdf-8c65-f57139123397",
   "metadata": {},
   "source": [
    "## Training Loop 2 (copied from a previous cell)"
   ]
  },
  {
   "cell_type": "code",
   "execution_count": 29,
   "id": "2861d3cc-3c39-4fd3-94ff-f25caaf6780f",
   "metadata": {},
   "outputs": [
    {
     "name": "stdout",
     "output_type": "stream",
     "text": [
      "      0/ 200000: 4.2326\n",
      "CPU times: user 40.2 ms, sys: 0 ns, total: 40.2 ms\n",
      "Wall time: 8.52 ms\n"
     ]
    }
   ],
   "source": [
    "%%time\n",
    "# same optimization as last time\n",
    "max_steps = 200000\n",
    "batch_size = 32\n",
    "lossi = []\n",
    "\n",
    "for i in range(max_steps):\n",
    "    \n",
    "    # minibatch construct\n",
    "    ix = torch.randint(0, Xtr.shape[0], (batch_size,), generator=g)\n",
    "    Xb, Yb = Xtr[ix], Ytr[ix] # batch X,Y\n",
    "    \n",
    "    # 1) Forward Pass\n",
    "    # embed the characters into vectors\n",
    "    emb = C[Xb]\n",
    "    # concatenate the vectors\n",
    "    embcat = emb.view(emb.shape[0], -1)\n",
    "    # hidden layer pre-activation\n",
    "    hpreact = embcat @ W1 + b1\n",
    "    # hidden layer\n",
    "    h = torch.tanh(hpreact)\n",
    "    # output layer\n",
    "    logits = h @ W2 + b2\n",
    "    # loss function\n",
    "    loss = F.cross_entropy(logits, Yb)\n",
    "    \n",
    "    # 2) Backward Pass\n",
    "    for p in parameters:\n",
    "        p.grad = None\n",
    "    loss.backward()\n",
    "    \n",
    "    # 3) update\n",
    "    # step learning rate decay\n",
    "    lr = 0.1 if i < 10000 else 0.01\n",
    "    for p in parameters:\n",
    "        p.data += -lr * p.grad\n",
    "    \n",
    "    # 4) track stats\n",
    "    if i % 10000 == 0:\n",
    "        print(f'{i:7d}/{max_steps:7d}: {loss.item():.4f}')\n",
    "    lossi.append(loss.log10().item())\n",
    "    \n",
    "    # The only change from Training Loop 1\n",
    "    break"
   ]
  },
  {
   "cell_type": "markdown",
   "id": "a8d25aae-28cd-41cd-a8c1-70a2eeaac54a",
   "metadata": {},
   "source": [
    "So now let's run the model initialization 2 code above, re-run the code from training loop 2, then display the logits from row 1."
   ]
  },
  {
   "cell_type": "code",
   "execution_count": 30,
   "id": "593dc38d-1882-404c-b7a2-189b46c4d39f",
   "metadata": {
    "tags": []
   },
   "outputs": [
    {
     "data": {
      "text/plain": [
       "tensor([-0.2490,  3.5232, -1.2675,  0.5407,  1.6622, -1.1708, -0.1398,  0.1242,\n",
       "         0.9210,  1.1347,  1.3624, -0.9252,  0.4438, -2.4594, -0.9714,  0.1247,\n",
       "        -0.9572, -1.3763, -2.3287, -0.1374,  2.4522,  1.6165,  1.6649, -1.0944,\n",
       "        -2.1544,  0.7255,  1.1413], grad_fn=<SelectBackward0>)"
      ]
     },
     "execution_count": 30,
     "metadata": {},
     "output_type": "execute_result"
    }
   ],
   "source": [
    "logits[0]"
   ]
  },
  {
   "cell_type": "markdown",
   "id": "868d9b0f-933a-4521-b264-5131b01fe0a5",
   "metadata": {},
   "source": [
    "We can now see the training loss on the first iteration is much lower, at 4.2326, and that the logits from the first iteration are all closer to 0."
   ]
  },
  {
   "cell_type": "markdown",
   "id": "2c5c9a14-e966-4cbc-991a-9cd958590799",
   "metadata": {},
   "source": [
    "Ok. That's a good start. But why don't we just multiply W2 by 0.0 to initialize all the weights in W2 to be 0.0?\n",
    "\n",
    "Let's find out! Replicate the code in Model Initialization 2 into Model Initialization 3, then multiply W2 by zero, display logits[0]"
   ]
  },
  {
   "cell_type": "markdown",
   "id": "11583a0c-c497-4c80-9398-75c1b06fde8b",
   "metadata": {},
   "source": [
    "### Model Initialization 3"
   ]
  },
  {
   "cell_type": "code",
   "execution_count": 31,
   "id": "71362d1d-cc5d-4ff1-b53a-779596faca68",
   "metadata": {
    "tags": []
   },
   "outputs": [
    {
     "name": "stdout",
     "output_type": "stream",
     "text": [
      "11897\n"
     ]
    }
   ],
   "source": [
    "# MLP revisited\n",
    "n_embd = 10 # the dimensionality of the character embedding vectors\n",
    "n_hidden = 200 # the number of neurons in the hidden layer of the MLP\n",
    "\n",
    "g = torch.Generator().manual_seed(manualSeed) # for reproducibility\n",
    "C  = torch.randn((vocab_size, n_embd),            generator=g).to(device)\n",
    "W1 = torch.randn((n_embd * block_size, n_hidden), generator=g).to(device)\n",
    "b1 = torch.randn(n_hidden,                        generator=g).to(device)\n",
    "W2 = torch.randn((n_hidden, vocab_size),          generator=g).to(device) * 0.0 # only change from Model Initialization 2\n",
    "b2 = torch.randn(vocab_size,                      generator=g).to(device) * 0.0 \n",
    "\n",
    "parameters = [C, W1, b1, W2, b2]\n",
    "print(sum(p.nelement() for p in parameters)) # number of parameters in total\n",
    "for p in parameters:\n",
    "    p.requires_grad = True"
   ]
  },
  {
   "cell_type": "markdown",
   "id": "d6260b74-770c-4359-bb75-e145bfb0bebe",
   "metadata": {},
   "source": [
    "Meh ... let's replicate the code from Training Loop 1 into the cell below .. and then run it. We want the entire loop to run ... so no break after the first pass.\n",
    "\n",
    "## Training Loop 1 (copied from a previous cell)"
   ]
  },
  {
   "cell_type": "code",
   "execution_count": 32,
   "id": "d74c0734-a69b-4ff4-b42f-0e8a7ad24aa2",
   "metadata": {
    "tags": []
   },
   "outputs": [
    {
     "name": "stdout",
     "output_type": "stream",
     "text": [
      "      0/ 200000: 3.2958\n",
      "  10000/ 200000: 2.1886\n",
      "  20000/ 200000: 2.3954\n",
      "  30000/ 200000: 2.5034\n",
      "  40000/ 200000: 1.9946\n",
      "  50000/ 200000: 2.4849\n",
      "  60000/ 200000: 2.4794\n",
      "  70000/ 200000: 2.1435\n",
      "  80000/ 200000: 2.1880\n",
      "  90000/ 200000: 2.0427\n",
      " 100000/ 200000: 2.0054\n",
      " 110000/ 200000: 2.2827\n",
      " 120000/ 200000: 1.9648\n",
      " 130000/ 200000: 2.5441\n",
      " 140000/ 200000: 2.2898\n",
      " 150000/ 200000: 2.2020\n",
      " 160000/ 200000: 1.9903\n",
      " 170000/ 200000: 1.8524\n",
      " 180000/ 200000: 2.1030\n",
      " 190000/ 200000: 1.9201\n",
      "CPU times: user 7min 47s, sys: 1.04 s, total: 7min 48s\n",
      "Wall time: 59.5 s\n"
     ]
    }
   ],
   "source": [
    "%%time\n",
    "# same optimization as last time\n",
    "max_steps = 200000\n",
    "batch_size = 32\n",
    "lossi = []\n",
    "\n",
    "for i in range(max_steps):\n",
    "    \n",
    "    # minibatch construct\n",
    "    ix = torch.randint(0, Xtr.shape[0], (batch_size,), generator=g)\n",
    "    Xb, Yb = Xtr[ix], Ytr[ix] # batch X,Y\n",
    "    \n",
    "    # 1) Forward Pass\n",
    "    # embed the characters into vectors\n",
    "    emb = C[Xb]\n",
    "    # concatenate the vectors\n",
    "    embcat = emb.view(emb.shape[0], -1)\n",
    "    # hidden layer pre-activation\n",
    "    hpreact = embcat @ W1 + b1\n",
    "    # hidden layer\n",
    "    h = torch.tanh(hpreact)\n",
    "    # output layer\n",
    "    logits = h @ W2 + b2\n",
    "    # loss function\n",
    "    loss = F.cross_entropy(logits, Yb)\n",
    "    \n",
    "    # 2) Backward Pass\n",
    "    for p in parameters:\n",
    "        p.grad = None\n",
    "    loss.backward()\n",
    "    \n",
    "    # 3) update\n",
    "    # step learning rate decay\n",
    "    lr = 0.1 if i < 10000 else 0.01\n",
    "    for p in parameters:\n",
    "        p.data += -lr * p.grad\n",
    "    \n",
    "    # 4) track stats\n",
    "    if i % 10000 == 0:\n",
    "        print(f'{i:7d}/{max_steps:7d}: {loss.item():.4f}')\n",
    "    lossi.append(loss.log10().item())"
   ]
  },
  {
   "cell_type": "markdown",
   "id": "c437ff76-ee25-4140-89dc-5ddf5e9a3cfb",
   "metadata": {},
   "source": [
    "Now the first iteration produces a loss of 3.3, and if we plot the loss lossi we get:"
   ]
  },
  {
   "cell_type": "code",
   "execution_count": 33,
   "id": "4dd015f0-d910-4265-80ce-fe31e47291f0",
   "metadata": {
    "tags": []
   },
   "outputs": [
    {
     "data": {
      "text/plain": [
       "[<matplotlib.lines.Line2D at 0x7f47981a39d0>]"
      ]
     },
     "execution_count": 33,
     "metadata": {},
     "output_type": "execute_result"
    },
    {
     "data": {
      "image/png": "[encoded data removed]",
      "text/plain": [
       "<Figure size 640x480 with 1 Axes>"
      ]
     },
     "metadata": {},
     "output_type": "display_data"
    }
   ],
   "source": [
    "plt.plot(lossi)"
   ]
  },
  {
   "cell_type": "markdown",
   "id": "ce883bf6-93f7-4324-b7b9-3c80513a5fd3",
   "metadata": {},
   "source": [
    "Notice we no longer have the 'hockey stick' loss graph, where in the first few iterations of the loss, the optimization is 'squashing down the logits' and then its 'rearranging the logits'. We no longer get the 'easy gains' in the beginning, and the 'hard gains' later. Above we see we are starting with the 'hard gains' right from the beginning, which is what we want."
   ]
  },
  {
   "cell_type": "markdown",
   "id": "aa0ec545-47ff-4dcc-82d4-4c68ea54921d",
   "metadata": {},
   "source": [
    "Now if we display the 'train' and 'val' split loss, we should see an improvement.\n",
    "\n",
    "## Split Loss 1 (copied from a previous cell)"
   ]
  },
  {
   "cell_type": "code",
   "execution_count": 34,
   "id": "a1de5a76-380b-4498-baf6-dbb375f04e30",
   "metadata": {
    "tags": []
   },
   "outputs": [
    {
     "name": "stdout",
     "output_type": "stream",
     "text": [
      "train 2.1233866214752197\n",
      "val 2.1638295650482178\n"
     ]
    }
   ],
   "source": [
    "@torch.no_grad() # this decorator disables gradient tracking\n",
    "def split_loss(split):\n",
    "    x, y = { 'train' : [Xtr, Ytr],\n",
    "             'val' : [Xdev, Ydev],\n",
    "             'test' : [Xte, Yte]\n",
    "           }[split]\n",
    "    # (N, block_size, n_embed)\n",
    "    emb = C[x]\n",
    "    # concat into a (N, block_size * n_embed)\n",
    "    embcat = emb.view(emb.shape[0], -1)\n",
    "    hpreact = embcat @ W1 + b1\n",
    "    # (N, n_hidden)\n",
    "    h = torch.tanh(hpreact)\n",
    "    # (N, vocab_size)\n",
    "    logits = h @ W2 + b2\n",
    "    loss = F.cross_entropy(logits, y)\n",
    "    print(split, loss.item())\n",
    "    \n",
    "split_loss('train')\n",
    "split_loss('val')"
   ]
  },
  {
   "cell_type": "markdown",
   "id": "002511b7-da4e-4b32-b20e-809242625608",
   "metadata": {},
   "source": [
    "This is an improvement from previously where we were getting 2.23 and 2.25. This is because we are spending more iterations on optimizing the neural network instead of spending the first say 1000 iterations squashing down the weights."
   ]
  },
  {
   "cell_type": "markdown",
   "id": "f8342d37-10b1-4ef9-96b2-1c7751b5568e",
   "metadata": {},
   "source": [
    "## B) Fixing the saturated tanh"
   ]
  },
  {
   "cell_type": "markdown",
   "id": "e41f3eb2-68f6-42fc-b630-c36775c8d5b5",
   "metadata": {},
   "source": [
    "The next problem with the code is with the initial values for h:\n",
    "\n",
    "embcat = emb.view(emb.shape[0], -1)\n",
    "\n",
    "h = torch.tanh(embcat @ W1 + b1)\n",
    "\n",
    "\n",
    "\n"
   ]
  },
  {
   "cell_type": "markdown",
   "id": "8c398bd3-c51b-4f23-b614-5c1f918425c0",
   "metadata": {
    "tags": []
   },
   "source": [
    "Let's plot the values of h into a histogram to see the distribution of values within this tensor:"
   ]
  },
  {
   "cell_type": "code",
   "execution_count": 35,
   "id": "e7ad93c4-51b5-457c-a672-0f20e69fe056",
   "metadata": {
    "tags": []
   },
   "outputs": [
    {
     "data": {
      "text/plain": [
       "torch.Size([32, 200])"
      ]
     },
     "execution_count": 35,
     "metadata": {},
     "output_type": "execute_result"
    }
   ],
   "source": [
    "h.shape"
   ]
  },
  {
   "cell_type": "markdown",
   "id": "e3ba76ba-e6f8-4194-a930-0cb151274f74",
   "metadata": {},
   "source": [
    "We can view this out and stretch it into one long vector, then call tolist to convert this into one long python list of floats, then pass this into plt.hist and tell it we want 50 bins. The semicolon will suppress printing out a bunch of content we don't want. "
   ]
  },
  {
   "cell_type": "code",
   "execution_count": 36,
   "id": "d9a2fcf5-bb03-4784-b713-28a87160f1d7",
   "metadata": {
    "tags": []
   },
   "outputs": [
    {
     "data": {
      "image/png": "[encoded data removed]",
      "text/plain": [
       "<Figure size 640x480 with 1 Axes>"
      ]
     },
     "metadata": {},
     "output_type": "display_data"
    }
   ],
   "source": [
    "plt.hist(h.view(-1).tolist(), 50);"
   ]
  },
  {
   "cell_type": "markdown",
   "id": "48fcd3d6-179d-455b-b355-1ac41422b1b0",
   "metadata": {},
   "source": [
    "So you can see from the histogram that most of the values in h take on the value of -1 or 1. \n",
    "\n",
    "We can also feed the pre-activations into the histogram in the same manner."
   ]
  },
  {
   "cell_type": "code",
   "execution_count": 37,
   "id": "9520ba9e-f5a1-4434-929b-b659d818b727",
   "metadata": {
    "tags": []
   },
   "outputs": [
    {
     "data": {
      "image/png": "[encoded data removed]",
      "text/plain": [
       "<Figure size 640x480 with 1 Axes>"
      ]
     },
     "metadata": {},
     "output_type": "display_data"
    }
   ],
   "source": [
    "plt.hist(hpreact.view(-1).tolist(), 50);"
   ]
  },
  {
   "cell_type": "markdown",
   "id": "96cb3567-4919-4e65-ae5f-08c9cde19122",
   "metadata": {},
   "source": [
    "You can see the pre-activations that we feed into the tanh take on a distribution that is very broad, between -20ish and 20ish. "
   ]
  },
  {
   "cell_type": "markdown",
   "id": "f8688c47-107a-451e-b028-384bd10dc641",
   "metadata": {},
   "source": [
    "![tanh](images/tanh.png)"
   ]
  },
  {
   "cell_type": "markdown",
   "id": "c0cfddd4-566e-4167-9db1-15b113b16da9",
   "metadata": {},
   "source": [
    "Recall when we do back propogation through the network, we will back prop through the tanh function, and if the value we feed into tanh is very close to 1 or -1, then looking at the above code, you can see we are 'killing the gradient' and effectively stopping back prop through this tanh unit. "
   ]
  },
  {
   "cell_type": "markdown",
   "id": "8294af99-01ac-4ff0-aa9a-764e26ff9361",
   "metadata": {},
   "source": [
    "To get an idea of how much our h values are around -1 or 1, we can plot the values in an image ..."
   ]
  },
  {
   "cell_type": "code",
   "execution_count": 38,
   "id": "0b85bd35-d2d5-46d8-9703-93bd12edd84c",
   "metadata": {
    "tags": []
   },
   "outputs": [
    {
     "data": {
      "text/plain": [
       "<matplotlib.image.AxesImage at 0x7f47915dc2b0>"
      ]
     },
     "execution_count": 38,
     "metadata": {},
     "output_type": "execute_result"
    },
    {
     "data": {
      "image/png": "[encoded data removed]",
      "text/plain": [
       "<Figure size 2000x1000 with 1 Axes>"
      ]
     },
     "metadata": {},
     "output_type": "display_data"
    }
   ],
   "source": [
    "plt.figure(figsize=(20, 10))\n",
    "plt.imshow(h.abs() > 0.99, cmap='gray', interpolation='nearest')"
   ]
  },
  {
   "cell_type": "markdown",
   "id": "492def0c-232d-4df9-8706-0c215c806550",
   "metadata": {},
   "source": [
    "In the above image, we see white if h.abs() > 0.99, otherwise we see black. \n",
    "\n",
    "If any column was all white, then we would have a dead neuron, and nothing could pass through it. It would never learn.\n",
    "\n",
    "The solution is for the initial values in hpreact to be closer to zero.\n",
    "\n",
    "So let's tweak the Model Initialization code to do this:"
   ]
  },
  {
   "cell_type": "markdown",
   "id": "ff2c52e0-49ad-48d7-a749-0c8c3d0888b2",
   "metadata": {
    "tags": []
   },
   "source": [
    "## Model Initialization 4"
   ]
  },
  {
   "cell_type": "code",
   "execution_count": 39,
   "id": "11a0bae3-35be-4815-924a-4d2367c34540",
   "metadata": {
    "tags": []
   },
   "outputs": [
    {
     "name": "stdout",
     "output_type": "stream",
     "text": [
      "11897\n"
     ]
    }
   ],
   "source": [
    "# MLP revisited\n",
    "n_embd = 10 # the dimensionality of the character embedding vectors\n",
    "n_hidden = 200 # the number of neurons in the hidden layer of the MLP\n",
    "\n",
    "g = torch.Generator().manual_seed(manualSeed) # for reproducibility\n",
    "C  = torch.randn((vocab_size, n_embd),            generator=g).to(device)\n",
    "W1 = torch.randn((n_embd * block_size, n_hidden), generator=g).to(device) * 0.1  # tweak 3\n",
    "b1 = torch.randn(n_hidden,                        generator=g).to(device) * 0.01 # tweak 2\n",
    "W2 = torch.randn((n_hidden, vocab_size),          generator=g).to(device) * 0.01 # a slight tweak to not have zero\n",
    "b2 = torch.randn(vocab_size,                      generator=g).to(device) * 0.0 \n",
    "\n",
    "parameters = [C, W1, b1, W2, b2]\n",
    "print(sum(p.nelement() for p in parameters)) # number of parameters in total\n",
    "for p in parameters:\n",
    "    p.requires_grad = True"
   ]
  },
  {
   "cell_type": "markdown",
   "id": "67e0719d-5b95-4af0-a8ec-0ee2c07c1ac0",
   "metadata": {},
   "source": [
    "## Training Loop 2 (copied again from a previous cell)"
   ]
  },
  {
   "cell_type": "code",
   "execution_count": 40,
   "id": "37dcb021-9424-45f0-99b4-af74ace38dd1",
   "metadata": {
    "tags": []
   },
   "outputs": [
    {
     "name": "stdout",
     "output_type": "stream",
     "text": [
      "      0/ 200000: 3.3069\n",
      "CPU times: user 71.4 ms, sys: 0 ns, total: 71.4 ms\n",
      "Wall time: 13.9 ms\n"
     ]
    }
   ],
   "source": [
    "%%time\n",
    "# same optimization as last time\n",
    "max_steps = 200000\n",
    "batch_size = 32\n",
    "lossi = []\n",
    "\n",
    "for i in range(max_steps):\n",
    "    \n",
    "    # minibatch construct\n",
    "    ix = torch.randint(0, Xtr.shape[0], (batch_size,), generator=g)\n",
    "    Xb, Yb = Xtr[ix], Ytr[ix] # batch X,Y\n",
    "    \n",
    "    # 1) Forward Pass\n",
    "    # embed the characters into vectors\n",
    "    emb = C[Xb]\n",
    "    # concatenate the vectors\n",
    "    embcat = emb.view(emb.shape[0], -1)\n",
    "    # hidden layer pre-activation\n",
    "    hpreact = embcat @ W1 + b1\n",
    "    # hidden layer\n",
    "    h = torch.tanh(hpreact)\n",
    "    # output layer\n",
    "    logits = h @ W2 + b2\n",
    "    # loss function\n",
    "    loss = F.cross_entropy(logits, Yb)\n",
    "    \n",
    "    # 2) Backward Pass\n",
    "    for p in parameters:\n",
    "        p.grad = None\n",
    "    loss.backward()\n",
    "    \n",
    "    # 3) update\n",
    "    # step learning rate decay\n",
    "    lr = 0.1 if i < 10000 else 0.01\n",
    "    for p in parameters:\n",
    "        p.data += -lr * p.grad\n",
    "    \n",
    "    # 4) track stats\n",
    "    if i % 10000 == 0:\n",
    "        print(f'{i:7d}/{max_steps:7d}: {loss.item():.4f}')\n",
    "    lossi.append(loss.log10().item())\n",
    "    \n",
    "    # The only change from Training Loop 1\n",
    "    break"
   ]
  },
  {
   "cell_type": "markdown",
   "id": "324d06d1-3a2a-4739-822d-0e28a967b981",
   "metadata": {},
   "source": [
    "Re run both histograms:"
   ]
  },
  {
   "cell_type": "code",
   "execution_count": 41,
   "id": "de52b6a9-ac89-4ddc-b3d2-b469ddc4fdb1",
   "metadata": {
    "tags": []
   },
   "outputs": [
    {
     "data": {
      "image/png": "[encoded data removed]",
      "text/plain": [
       "<Figure size 640x480 with 1 Axes>"
      ]
     },
     "metadata": {},
     "output_type": "display_data"
    }
   ],
   "source": [
    "plt.hist(h.view(-1).tolist(), 50);"
   ]
  },
  {
   "cell_type": "markdown",
   "id": "68aa6e25-c31d-43c5-b48c-e34fc89f1a46",
   "metadata": {},
   "source": [
    "This is a much better histogram with no saturation on -1 or 1."
   ]
  },
  {
   "cell_type": "code",
   "execution_count": 42,
   "id": "cc6b730e-b915-4430-9d93-16ffef954553",
   "metadata": {
    "tags": []
   },
   "outputs": [
    {
     "data": {
      "image/png": "[encoded data removed]",
      "text/plain": [
       "<Figure size 640x480 with 1 Axes>"
      ]
     },
     "metadata": {},
     "output_type": "display_data"
    }
   ],
   "source": [
    "plt.hist(hpreact.view(-1).tolist(), 50);"
   ]
  },
  {
   "cell_type": "markdown",
   "id": "22b222a9-2fae-4bcc-b817-13d3587a0208",
   "metadata": {},
   "source": [
    "And the pre-activations are now between -1.5 and 1.5, instead of between -20ish and 20ish."
   ]
  },
  {
   "cell_type": "code",
   "execution_count": 43,
   "id": "d24041eb-b4b5-4035-b605-d6d253810732",
   "metadata": {
    "tags": []
   },
   "outputs": [
    {
     "data": {
      "text/plain": [
       "<matplotlib.image.AxesImage at 0x7f479153c610>"
      ]
     },
     "execution_count": 43,
     "metadata": {},
     "output_type": "execute_result"
    },
    {
     "data": {
      "image/png": "[encoded data removed]",
      "text/plain": [
       "<Figure size 2000x1000 with 1 Axes>"
      ]
     },
     "metadata": {},
     "output_type": "display_data"
    }
   ],
   "source": [
    "plt.figure(figsize=(20, 10))\n",
    "plt.imshow(h.abs() > 0.99, cmap='gray', interpolation='nearest')"
   ]
  },
  {
   "cell_type": "markdown",
   "id": "5b8c119c-a84f-4d71-86f9-6f4f978e85e3",
   "metadata": {},
   "source": [
    "The above we expect a lot less white. There is no white! That's because there are no neurons that saturated above .99 in either direction."
   ]
  },
  {
   "cell_type": "markdown",
   "id": "12200877-5279-43bb-adbb-3b438f7d8f71",
   "metadata": {},
   "source": [
    "Hmmm ... lets try another small tweak to the Model Initialization code:\n",
    "\n",
    "## Model Initialization 5"
   ]
  },
  {
   "cell_type": "code",
   "execution_count": 44,
   "id": "7aad8de6-f49e-4704-87d2-e532b270984e",
   "metadata": {
    "tags": []
   },
   "outputs": [
    {
     "name": "stdout",
     "output_type": "stream",
     "text": [
      "11897\n"
     ]
    }
   ],
   "source": [
    "# MLP revisited\n",
    "n_embd = 10 # the dimensionality of the character embedding vectors\n",
    "n_hidden = 200 # the number of neurons in the hidden layer of the MLP\n",
    "\n",
    "g = torch.Generator().manual_seed(manualSeed) # for reproducibility\n",
    "C  = torch.randn((vocab_size, n_embd),            generator=g).to(device)\n",
    "W1 = torch.randn((n_embd * block_size, n_hidden), generator=g).to(device) * 0.2  # the only tweak!\n",
    "b1 = torch.randn(n_hidden,                        generator=g).to(device) * 0.01 \n",
    "W2 = torch.randn((n_hidden, vocab_size),          generator=g).to(device) * 0.01 \n",
    "b2 = torch.randn(vocab_size,                      generator=g).to(device) * 0.0 \n",
    "\n",
    "parameters = [C, W1, b1, W2, b2]\n",
    "print(sum(p.nelement() for p in parameters)) # number of parameters in total\n",
    "for p in parameters:\n",
    "    p.requires_grad = True"
   ]
  },
  {
   "cell_type": "markdown",
   "id": "a51ed26b-4504-4f33-9ade-be5904cdfb3b",
   "metadata": {},
   "source": [
    "## Training Loop 2 (copied again from a previous cell)"
   ]
  },
  {
   "cell_type": "code",
   "execution_count": 45,
   "id": "2fd00f16-29a0-4dd1-8539-05f110e1d486",
   "metadata": {
    "tags": []
   },
   "outputs": [
    {
     "name": "stdout",
     "output_type": "stream",
     "text": [
      "      0/ 200000: 3.3135\n",
      "CPU times: user 5.25 ms, sys: 14 µs, total: 5.27 ms\n",
      "Wall time: 2.2 ms\n"
     ]
    }
   ],
   "source": [
    "%%time\n",
    "# same optimization as last time\n",
    "max_steps = 200000\n",
    "batch_size = 32\n",
    "lossi = []\n",
    "\n",
    "for i in range(max_steps):\n",
    "    \n",
    "    # minibatch construct\n",
    "    ix = torch.randint(0, Xtr.shape[0], (batch_size,), generator=g)\n",
    "    Xb, Yb = Xtr[ix], Ytr[ix] # batch X,Y\n",
    "    \n",
    "    # 1) Forward Pass\n",
    "    # embed the characters into vectors\n",
    "    emb = C[Xb]\n",
    "    # concatenate the vectors\n",
    "    embcat = emb.view(emb.shape[0], -1)\n",
    "    # hidden layer pre-activation\n",
    "    hpreact = embcat @ W1 + b1\n",
    "    # hidden layer\n",
    "    h = torch.tanh(hpreact)\n",
    "    # output layer\n",
    "    logits = h @ W2 + b2\n",
    "    # loss function\n",
    "    loss = F.cross_entropy(logits, Yb)\n",
    "    \n",
    "    # 2) Backward Pass\n",
    "    for p in parameters:\n",
    "        p.grad = None\n",
    "    loss.backward()\n",
    "    \n",
    "    # 3) update\n",
    "    # step learning rate decay\n",
    "    lr = 0.1 if i < 10000 else 0.01\n",
    "    for p in parameters:\n",
    "        p.data += -lr * p.grad\n",
    "    \n",
    "    # 4) track stats\n",
    "    if i % 10000 == 0:\n",
    "        print(f'{i:7d}/{max_steps:7d}: {loss.item():.4f}')\n",
    "    lossi.append(loss.log10().item())\n",
    "    \n",
    "    # The only change from Training Loop 1\n",
    "    break"
   ]
  },
  {
   "cell_type": "markdown",
   "id": "acda7a6e-2c5f-415c-b9e0-48b929f9c88e",
   "metadata": {},
   "source": [
    "And now rerun that image ..."
   ]
  },
  {
   "cell_type": "code",
   "execution_count": 46,
   "id": "64c0fcce-79dc-440c-bfec-2718b73ed946",
   "metadata": {
    "tags": []
   },
   "outputs": [
    {
     "data": {
      "text/plain": [
       "<matplotlib.image.AxesImage at 0x7f4796ea7070>"
      ]
     },
     "execution_count": 46,
     "metadata": {},
     "output_type": "execute_result"
    },
    {
     "data": {
      "image/png": "[encoded data removed]",
      "text/plain": [
       "<Figure size 2000x1000 with 1 Axes>"
      ]
     },
     "metadata": {},
     "output_type": "display_data"
    }
   ],
   "source": [
    "plt.figure(figsize=(20, 10))\n",
    "plt.imshow(h.abs() > 0.99, cmap='gray', interpolation='nearest')"
   ]
  },
  {
   "cell_type": "markdown",
   "id": "2a8e924b-a75a-4398-96a3-6a45dc1453bb",
   "metadata": {},
   "source": [
    "... and both histograms:"
   ]
  },
  {
   "cell_type": "code",
   "execution_count": 47,
   "id": "11c4fe21-2096-4a24-aca7-3f9a616d62b4",
   "metadata": {
    "tags": []
   },
   "outputs": [
    {
     "data": {
      "image/png": "[encoded data removed]",
      "text/plain": [
       "<Figure size 640x480 with 1 Axes>"
      ]
     },
     "metadata": {},
     "output_type": "display_data"
    }
   ],
   "source": [
    "plt.hist(h.view(-1).tolist(), 50);"
   ]
  },
  {
   "cell_type": "code",
   "execution_count": 48,
   "id": "216990e6-440a-4648-abd5-d83161bbb584",
   "metadata": {
    "tags": []
   },
   "outputs": [
    {
     "data": {
      "image/png": "[encoded data removed]",
      "text/plain": [
       "<Figure size 640x480 with 1 Axes>"
      ]
     },
     "metadata": {},
     "output_type": "display_data"
    }
   ],
   "source": [
    "plt.hist(hpreact.view(-1).tolist(), 50);"
   ]
  },
  {
   "cell_type": "markdown",
   "id": "3ef5a130-da82-4d7a-96be-420250f5ecf9",
   "metadata": {},
   "source": [
    "So knowing what we now know, let's re-run a full training of the data!"
   ]
  },
  {
   "cell_type": "markdown",
   "id": "067b8bb1-9103-47d2-832c-7af557b3e4bb",
   "metadata": {},
   "source": [
    "## Model Initialization 5 (copied from a previous cell)"
   ]
  },
  {
   "cell_type": "code",
   "execution_count": 49,
   "id": "c961d613-7683-4d5b-bdd7-932b88d2f453",
   "metadata": {
    "tags": []
   },
   "outputs": [
    {
     "name": "stdout",
     "output_type": "stream",
     "text": [
      "11897\n"
     ]
    }
   ],
   "source": [
    "# MLP revisited\n",
    "n_embd = 10 # the dimensionality of the character embedding vectors\n",
    "n_hidden = 200 # the number of neurons in the hidden layer of the MLP\n",
    "\n",
    "g = torch.Generator().manual_seed(manualSeed) # for reproducibility\n",
    "C  = torch.randn((vocab_size, n_embd),            generator=g).to(device)\n",
    "W1 = torch.randn((n_embd * block_size, n_hidden), generator=g).to(device) * 0.2  # the only tweak!\n",
    "b1 = torch.randn(n_hidden,                        generator=g).to(device) * 0.01 \n",
    "W2 = torch.randn((n_hidden, vocab_size),          generator=g).to(device) * 0.01 \n",
    "b2 = torch.randn(vocab_size,                      generator=g).to(device) * 0.0 \n",
    "\n",
    "parameters = [C, W1, b1, W2, b2]\n",
    "print(sum(p.nelement() for p in parameters)) # number of parameters in total\n",
    "for p in parameters:\n",
    "    p.requires_grad = True"
   ]
  },
  {
   "cell_type": "markdown",
   "id": "eb9723bd-a334-4525-8ed3-450a8b0f2298",
   "metadata": {},
   "source": [
    "## Training Loop 1 (copied again from a previous cell)"
   ]
  },
  {
   "cell_type": "code",
   "execution_count": 50,
   "id": "053e732c-a0e7-4a20-94bf-d83f6cc8c38f",
   "metadata": {
    "tags": []
   },
   "outputs": [
    {
     "name": "stdout",
     "output_type": "stream",
     "text": [
      "      0/ 200000: 3.3135\n",
      "  10000/ 200000: 2.1648\n",
      "  20000/ 200000: 2.2440\n",
      "  30000/ 200000: 2.3044\n",
      "  40000/ 200000: 1.9598\n",
      "  50000/ 200000: 2.4266\n",
      "  60000/ 200000: 2.3693\n",
      "  70000/ 200000: 2.0370\n",
      "  80000/ 200000: 2.2545\n",
      "  90000/ 200000: 2.1047\n",
      " 100000/ 200000: 1.8406\n",
      " 110000/ 200000: 2.1954\n",
      " 120000/ 200000: 2.0199\n",
      " 130000/ 200000: 2.4290\n",
      " 140000/ 200000: 2.2683\n",
      " 150000/ 200000: 2.1892\n",
      " 160000/ 200000: 1.8254\n",
      " 170000/ 200000: 1.7761\n",
      " 180000/ 200000: 1.9963\n",
      " 190000/ 200000: 1.8334\n",
      "CPU times: user 9min 4s, sys: 1.62 s, total: 9min 6s\n",
      "Wall time: 1min 11s\n"
     ]
    }
   ],
   "source": [
    "%%time\n",
    "# same optimization as last time\n",
    "max_steps = 200000\n",
    "batch_size = 32\n",
    "lossi = []\n",
    "\n",
    "for i in range(max_steps):\n",
    "    \n",
    "    # minibatch construct\n",
    "    ix = torch.randint(0, Xtr.shape[0], (batch_size,), generator=g)\n",
    "    Xb, Yb = Xtr[ix], Ytr[ix] # batch X,Y\n",
    "    \n",
    "    # 1) Forward Pass\n",
    "    # embed the characters into vectors\n",
    "    emb = C[Xb]\n",
    "    # concatenate the vectors\n",
    "    embcat = emb.view(emb.shape[0], -1)\n",
    "    # hidden layer pre-activation\n",
    "    hpreact = embcat @ W1 + b1\n",
    "    # hidden layer\n",
    "    h = torch.tanh(hpreact)\n",
    "    # output layer\n",
    "    logits = h @ W2 + b2\n",
    "    # loss function\n",
    "    loss = F.cross_entropy(logits, Yb)\n",
    "    \n",
    "    # 2) Backward Pass\n",
    "    for p in parameters:\n",
    "        p.grad = None\n",
    "    loss.backward()\n",
    "    \n",
    "    # 3) update\n",
    "    # step learning rate decay\n",
    "    lr = 0.1 if i < 10000 else 0.01\n",
    "    for p in parameters:\n",
    "        p.data += -lr * p.grad\n",
    "    \n",
    "    # 4) track stats\n",
    "    if i % 10000 == 0:\n",
    "        print(f'{i:7d}/{max_steps:7d}: {loss.item():.4f}')\n",
    "    lossi.append(loss.log10().item())"
   ]
  },
  {
   "cell_type": "markdown",
   "id": "9b3fa957-aea9-41fa-bf1f-887569c965b1",
   "metadata": {},
   "source": [
    "## Split Loss 1 (copied from a previous cell)"
   ]
  },
  {
   "cell_type": "code",
   "execution_count": 51,
   "id": "013d5b76-b1e8-4878-9e31-66f9e4878822",
   "metadata": {
    "tags": []
   },
   "outputs": [
    {
     "name": "stdout",
     "output_type": "stream",
     "text": [
      "train 2.081057548522949\n",
      "val 2.125427722930908\n"
     ]
    }
   ],
   "source": [
    "@torch.no_grad() # this decorator disables gradient tracking\n",
    "def split_loss(split):\n",
    "    x, y = { 'train' : [Xtr, Ytr],\n",
    "             'val' : [Xdev, Ydev],\n",
    "             'test' : [Xte, Yte]\n",
    "           }[split]\n",
    "    # (N, block_size, n_embed)\n",
    "    emb = C[x]\n",
    "    # concat into a (N, block_size * n_embed)\n",
    "    embcat = emb.view(emb.shape[0], -1)\n",
    "    hpreact = embcat @ W1 + b1\n",
    "    # (N, n_hidden)\n",
    "    h = torch.tanh(hpreact)\n",
    "    # (N, vocab_size)\n",
    "    logits = h @ W2 + b2\n",
    "    loss = F.cross_entropy(logits, y)\n",
    "    print(split, loss.item())\n",
    "    \n",
    "split_loss('train')\n",
    "split_loss('val')"
   ]
  },
  {
   "cell_type": "code",
   "execution_count": 52,
   "id": "91662a0e-a712-4256-9219-73aaea55a503",
   "metadata": {},
   "outputs": [],
   "source": [
    "# Here is a summary of how the loss on the training and validation data improved:\n",
    "\n",
    "# No changes to the Model Initialization\n",
    "# train 2.2306289672851562\n",
    "# val 2.2506215572357178\n",
    "\n",
    "# A) Fix the Initial loss (fix softmas confidently wrong)\n",
    "# train 2.1233866214752197\n",
    "# val 2.1638295650482178\n",
    "\n",
    "# B) Fix the saturated tanh (fix tanh layer saturated at init)\n",
    "# train 2.081057548522949\n",
    "# val 2.125427722930908\n"
   ]
  },
  {
   "cell_type": "markdown",
   "id": "543bd0b5-ecfe-4fb2-858e-c2dc0ea04201",
   "metadata": {},
   "source": [
    "## C) Calculating the init scale: 'Kaiming init'"
   ]
  },
  {
   "cell_type": "markdown",
   "id": "5d29bdc4-9320-47a3-b502-a785d4a39364",
   "metadata": {},
   "source": [
    "No one manually sets these magic numbers when writing their model initialization code. So how do we decide what values to set?"
   ]
  },
  {
   "cell_type": "markdown",
   "id": "05b30784-e081-4c52-ac00-8011e5d93b9b",
   "metadata": {},
   "source": [
    "[torch.randn](https://pytorch.org/docs/stable/generated/torch.randn.html)\n",
    "\n",
    "`Returns a tensor filled with random numbers from a normal distribution with mean 0 and variance 1 (also called the standard normal distribution).`"
   ]
  },
  {
   "cell_type": "code",
   "execution_count": 53,
   "id": "b63401e3-efaf-4c9f-b16c-768c4ba7bf69",
   "metadata": {
    "tags": []
   },
   "outputs": [
    {
     "data": {
      "text/plain": [
       "tensor([[-0.2549, -0.9118,  0.3212, -0.6409, -0.4527,  0.6216,  0.7201,  0.3727,\n",
       "          0.1462, -0.6540],\n",
       "        [-0.8230,  0.8239,  0.0117, -0.5948, -0.9979, -2.0324,  0.8339,  0.2681,\n",
       "         -0.7354,  0.5738],\n",
       "        [ 0.3409, -1.4732,  1.1534, -0.4881, -1.1003, -0.5854,  0.4112,  0.7698,\n",
       "          0.3470,  0.5384],\n",
       "        [ 0.0945,  1.6789,  0.5171,  1.2912, -0.3521, -0.8528,  1.2234, -0.7274,\n",
       "          0.4073,  0.9866],\n",
       "        [-0.7781,  0.0344,  1.3253,  0.7547, -1.2566,  0.7333, -0.1276,  0.0059,\n",
       "         -1.0197,  1.0621]])"
      ]
     },
     "execution_count": 53,
     "metadata": {},
     "output_type": "execute_result"
    }
   ],
   "source": [
    "tr = torch.randn(5, 10)\n",
    "tr"
   ]
  },
  {
   "cell_type": "code",
   "execution_count": 54,
   "id": "2ecda055-56f3-4798-9e2d-050f996acb95",
   "metadata": {
    "tags": []
   },
   "outputs": [
    {
     "name": "stdout",
     "output_type": "stream",
     "text": [
      "tensor(0.0056) tensor(1.0012)\n",
      "tensor(-0.0046) tensor(3.1637)\n"
     ]
    },
    {
     "data": {
      "image/png": "[encoded data removed]",
      "text/plain": [
       "<Figure size 2000x500 with 2 Axes>"
      ]
     },
     "metadata": {},
     "output_type": "display_data"
    }
   ],
   "source": [
    "# every time we run this, we will get different numbers.\n",
    "x = torch.randn(1000, 10) # our input examples\n",
    "w = torch.randn(10, 200)  # our weights in a hidden layer with 200 neurons\n",
    "y = x @ w # calculate the pre-activations of these neurons\n",
    "\n",
    "print(x.mean(), x.std())\n",
    "print(y.mean(), y.std())\n",
    "\n",
    "plt.figure(figsize=(20,5))\n",
    "plt.subplot(121)\n",
    "plt.hist(x.view(-1).tolist(), 50, density=True);\n",
    "plt.subplot(122)\n",
    "plt.hist(y.view(-1).tolist(), 50, density=True);"
   ]
  },
  {
   "cell_type": "markdown",
   "id": "92f5518a-a85c-4777-a80e-055675da1a5b",
   "metadata": {},
   "source": [
    "On the left, which shows x, we start with a mean of 0 and a standard deviation of 1 (or very close to those values).\n",
    "\n",
    "But when we multiply x by w to create y, we see the mean of y is around the same as x (both close to 0), but the standard deviation of y has grown to around 3.\n",
    "\n",
    "So what we see in the histogram for y on the right is that it is expanding. We DONT WANT THIS! We want our neurons throughout our entire network to have roughly a mean of 0 and a standard deviation of 1.\n",
    "\n",
    "So how do we do this?"
   ]
  },
  {
   "cell_type": "code",
   "execution_count": 55,
   "id": "1eef5ddf-61c0-461a-a2dd-1ef4090b42d7",
   "metadata": {
    "tags": []
   },
   "outputs": [
    {
     "name": "stdout",
     "output_type": "stream",
     "text": [
      "tensor(-0.0048) tensor(0.9973)\n",
      "tensor(-0.0759) tensor(15.5296)\n"
     ]
    },
    {
     "data": {
      "image/png": "[encoded data removed]",
      "text/plain": [
       "<Figure size 2000x500 with 2 Axes>"
      ]
     },
     "metadata": {},
     "output_type": "display_data"
    }
   ],
   "source": [
    "# What happens if we multiply w by a large number?\n",
    "\n",
    "x = torch.randn(1000, 10) \n",
    "w = torch.randn(10, 200) * 5.0 \n",
    "y = x @ w  \n",
    "print(x.mean(), x.std())\n",
    "print(y.mean(), y.std())\n",
    "\n",
    "plt.figure(figsize=(20,5))\n",
    "plt.subplot(121)\n",
    "plt.hist(x.view(-1).tolist(), 50, density=True);\n",
    "plt.subplot(122)\n",
    "plt.hist(y.view(-1).tolist(), 50, density=True);"
   ]
  },
  {
   "cell_type": "markdown",
   "id": "1df1f450-3caf-45f3-b078-8d3eda63fd98",
   "metadata": {},
   "source": [
    "The standard deviation of y grows to about 16!"
   ]
  },
  {
   "cell_type": "code",
   "execution_count": 56,
   "id": "ee0d4539-4e41-4fb6-8227-a11db8cc96d4",
   "metadata": {
    "tags": []
   },
   "outputs": [
    {
     "name": "stdout",
     "output_type": "stream",
     "text": [
      "tensor(0.0107) tensor(1.0004)\n",
      "tensor(-0.0013) tensor(0.6288)\n"
     ]
    },
    {
     "data": {
      "image/png": "[encoded data removed]",
      "text/plain": [
       "<Figure size 2000x500 with 2 Axes>"
      ]
     },
     "metadata": {},
     "output_type": "display_data"
    }
   ],
   "source": [
    "# And what happens if we multiply w by a small number?\n",
    "\n",
    "x = torch.randn(1000, 10) \n",
    "w = torch.randn(10, 200) * 0.2\n",
    "y = x @ w  \n",
    "print(x.mean(), x.std())\n",
    "print(y.mean(), y.std())\n",
    "\n",
    "plt.figure(figsize=(20,5))\n",
    "plt.subplot(121)\n",
    "plt.hist(x.view(-1).tolist(), 50, density=True);\n",
    "plt.subplot(122)\n",
    "plt.hist(y.view(-1).tolist(), 50, density=True);"
   ]
  },
  {
   "cell_type": "markdown",
   "id": "246f057c-81da-440b-afc3-9f162913bffa",
   "metadata": {},
   "source": [
    "The standard deviation of y shrinks to about 0.6!\n",
    "\n",
    "We want the standard deviation to be around 1, so what scaling factor should we use??\n",
    "\n",
    "Whelp, turns out we need to DIVIDE by the square root of the 'fan in' ..."
   ]
  },
  {
   "cell_type": "code",
   "execution_count": 57,
   "id": "750a5387-d75d-455a-93c9-5dd10f525733",
   "metadata": {
    "tags": []
   },
   "outputs": [
    {
     "name": "stdout",
     "output_type": "stream",
     "text": [
      "tensor(-0.0043) tensor(0.9954)\n",
      "tensor(-0.0022) tensor(0.9979)\n"
     ]
    },
    {
     "data": {
      "image/png": "[encoded data removed]",
      "text/plain": [
       "<Figure size 2000x500 with 2 Axes>"
      ]
     },
     "metadata": {},
     "output_type": "display_data"
    }
   ],
   "source": [
    "# our fan in for this example is 10, and a way to calculate the \n",
    "# square root is to raise the number by 0.5 ... so .. \n",
    "\n",
    "x = torch.randn(1000, 10) \n",
    "w = torch.randn(10, 200) / (10 ** 0.5)\n",
    "y = x @ w  \n",
    "print(x.mean(), x.std())\n",
    "print(y.mean(), y.std())\n",
    "\n",
    "plt.figure(figsize=(20,5))\n",
    "plt.subplot(121)\n",
    "plt.hist(x.view(-1).tolist(), 50, density=True);\n",
    "plt.subplot(122)\n",
    "plt.hist(y.view(-1).tolist(), 50, density=True);"
   ]
  },
  {
   "cell_type": "markdown",
   "id": "bab3b4b4-8d62-49bb-b581-00843535958d",
   "metadata": {},
   "source": [
    "Better, right!? Now the standard deviation of y is very close to 1 ... which is what we want!"
   ]
  },
  {
   "cell_type": "markdown",
   "id": "6db54f14-b34a-429e-9290-631a00e13820",
   "metadata": {},
   "source": [
    "The details of this square root fan in rule can be found in the [Kaiming init paper](https://arxiv.org/abs/1502.01852)\n",
    "\n",
    "PyTorch has an implementation of this that can be found at [PyTorch Keiming](https://pytorch.org/docs/stable/nn.init.html#torch.nn.init.kaiming_uniform_)\n",
    "\n",
    "According to Karpathy, this is the most common way today to initialize neural networks."
   ]
  },
  {
   "cell_type": "markdown",
   "id": "c5db4296-ca60-4316-af23-9f0bff17e0c7",
   "metadata": {},
   "source": [
    "So to manually apply this keiming initialization to our example, we would do this:"
   ]
  },
  {
   "cell_type": "markdown",
   "id": "a64e248c-edf0-4aef-a8e6-9a4d36fe3bf2",
   "metadata": {},
   "source": [
    "## Model Initialization 6 (Keiming initialization)"
   ]
  },
  {
   "cell_type": "code",
   "execution_count": 58,
   "id": "a26513fb-eb48-4bb5-92d7-1920a9be8bcb",
   "metadata": {
    "tags": []
   },
   "outputs": [
    {
     "name": "stdout",
     "output_type": "stream",
     "text": [
      "11897\n"
     ]
    }
   ],
   "source": [
    "# MLP revisited\n",
    "n_embd = 10 # the dimensionality of the character embedding vectors\n",
    "n_hidden = 200 # the number of neurons in the hidden layer of the MLP\n",
    "\n",
    "g = torch.Generator().manual_seed(manualSeed) # for reproducibility\n",
    "C  = torch.randn((vocab_size, n_embd),            generator=g).to(device)\n",
    "W1 = torch.randn((n_embd * block_size, n_hidden), generator=g).to(device) * (5/3) / ((n_embd * block_size)**0.5) # the only tweak!\n",
    "b1 = torch.randn(n_hidden,                        generator=g).to(device) * 0.01 \n",
    "W2 = torch.randn((n_hidden, vocab_size),          generator=g).to(device) * 0.01 \n",
    "b2 = torch.randn(vocab_size,                      generator=g).to(device) * 0.0 \n",
    "\n",
    "parameters = [C, W1, b1, W2, b2]\n",
    "print(sum(p.nelement() for p in parameters)) # number of parameters in total\n",
    "for p in parameters:\n",
    "    p.requires_grad = True"
   ]
  },
  {
   "cell_type": "markdown",
   "id": "b8541dd2-237a-488a-8180-0f2e396d1fca",
   "metadata": {},
   "source": [
    "## Training Loop 1 (yup! copied again from a previous cell)"
   ]
  },
  {
   "cell_type": "code",
   "execution_count": 59,
   "id": "c69fed64-15d6-4b2f-8ebe-aa14fc7b99b8",
   "metadata": {
    "tags": []
   },
   "outputs": [
    {
     "name": "stdout",
     "output_type": "stream",
     "text": [
      "      0/ 200000: 3.3179\n",
      "  10000/ 200000: 2.1910\n",
      "  20000/ 200000: 2.2782\n",
      "  30000/ 200000: 2.3826\n",
      "  40000/ 200000: 1.9526\n",
      "  50000/ 200000: 2.3811\n",
      "  60000/ 200000: 2.3667\n",
      "  70000/ 200000: 2.0593\n",
      "  80000/ 200000: 2.2171\n",
      "  90000/ 200000: 2.1129\n",
      " 100000/ 200000: 1.8887\n",
      " 110000/ 200000: 2.2011\n",
      " 120000/ 200000: 1.9506\n",
      " 130000/ 200000: 2.3520\n",
      " 140000/ 200000: 2.2535\n",
      " 150000/ 200000: 2.2241\n",
      " 160000/ 200000: 1.8043\n",
      " 170000/ 200000: 1.7468\n",
      " 180000/ 200000: 2.0212\n",
      " 190000/ 200000: 1.8161\n",
      "CPU times: user 7min 50s, sys: 1.16 s, total: 7min 51s\n",
      "Wall time: 60 s\n"
     ]
    }
   ],
   "source": [
    "%%time\n",
    "# same optimization as last time\n",
    "max_steps = 200000\n",
    "batch_size = 32\n",
    "lossi = []\n",
    "\n",
    "for i in range(max_steps):\n",
    "    \n",
    "    # minibatch construct\n",
    "    ix = torch.randint(0, Xtr.shape[0], (batch_size,), generator=g)\n",
    "    Xb, Yb = Xtr[ix], Ytr[ix] # batch X,Y\n",
    "    \n",
    "    # 1) Forward Pass\n",
    "    # embed the characters into vectors\n",
    "    emb = C[Xb]\n",
    "    # concatenate the vectors\n",
    "    embcat = emb.view(emb.shape[0], -1)\n",
    "    # hidden layer pre-activation\n",
    "    hpreact = embcat @ W1 + b1\n",
    "    # hidden layer\n",
    "    h = torch.tanh(hpreact)\n",
    "    # output layer\n",
    "    logits = h @ W2 + b2\n",
    "    # loss function\n",
    "    loss = F.cross_entropy(logits, Yb)\n",
    "    \n",
    "    # 2) Backward Pass\n",
    "    for p in parameters:\n",
    "        p.grad = None\n",
    "    loss.backward()\n",
    "    \n",
    "    # 3) update\n",
    "    # step learning rate decay\n",
    "    lr = 0.1 if i < 10000 else 0.01\n",
    "    for p in parameters:\n",
    "        p.data += -lr * p.grad\n",
    "    \n",
    "    # 4) track stats\n",
    "    if i % 10000 == 0:\n",
    "        print(f'{i:7d}/{max_steps:7d}: {loss.item():.4f}')\n",
    "    lossi.append(loss.log10().item())"
   ]
  },
  {
   "cell_type": "markdown",
   "id": "dbb966e8-6a12-48f7-a569-fec4ac884af4",
   "metadata": {},
   "source": [
    "## Split Loss 1 (copied from a previous cell)"
   ]
  },
  {
   "cell_type": "code",
   "execution_count": 60,
   "id": "61cf220d-fa10-4b04-b842-8bd24ec9750f",
   "metadata": {
    "tags": []
   },
   "outputs": [
    {
     "name": "stdout",
     "output_type": "stream",
     "text": [
      "train 2.0817906856536865\n",
      "val 2.1279780864715576\n"
     ]
    }
   ],
   "source": [
    "@torch.no_grad() # this decorator disables gradient tracking\n",
    "def split_loss(split):\n",
    "    x, y = { 'train' : [Xtr, Ytr],\n",
    "             'val' : [Xdev, Ydev],\n",
    "             'test' : [Xte, Yte]\n",
    "           }[split]\n",
    "    # (N, block_size, n_embed)\n",
    "    emb = C[x]\n",
    "    # concat into a (N, block_size * n_embed)\n",
    "    embcat = emb.view(emb.shape[0], -1)\n",
    "    hpreact = embcat @ W1 + b1\n",
    "    # (N, n_hidden)\n",
    "    h = torch.tanh(hpreact)\n",
    "    # (N, vocab_size)\n",
    "    logits = h @ W2 + b2\n",
    "    loss = F.cross_entropy(logits, y)\n",
    "    print(split, loss.item())\n",
    "    \n",
    "split_loss('train')\n",
    "split_loss('val')"
   ]
  },
  {
   "cell_type": "code",
   "execution_count": 61,
   "id": "ece60ba8-9733-438a-a699-40621453a70e",
   "metadata": {},
   "outputs": [],
   "source": [
    "# Here is a summary of how the loss on the training and validation data improved:\n",
    "\n",
    "# No changes to the Model Initialization\n",
    "# train 2.2306289672851562\n",
    "# val 2.2506215572357178\n",
    "\n",
    "# A) Fix the Initial loss (fix softmas confidently wrong)\n",
    "# train 2.1233866214752197\n",
    "# val 2.1638295650482178\n",
    "\n",
    "# B) Fix the saturated tanh (fix tanh layer saturated at init)\n",
    "# train 2.081057548522949\n",
    "# val 2.125427722930908\n",
    "\n",
    "# C) use semi-principled 'kaiming init' instead of a hacky init \n",
    "# train 2.0817906856536865\n",
    "# val 2.1279780864715576"
   ]
  },
  {
   "cell_type": "markdown",
   "id": "e6e12001-1230-4542-beaf-af6c3f0f4903",
   "metadata": {},
   "source": [
    "## D) Batch Normalization\n",
    "\n",
    "This part goes over the insights from the paper [Batch Normalization: Accelerating Deep Network Training by Reducing Internal Covariate Shift](https://arxiv.org/abs/1502.03167)"
   ]
  },
  {
   "cell_type": "code",
   "execution_count": 62,
   "id": "2b2bcf65-2b68-46bb-bee1-4b5b9459736e",
   "metadata": {},
   "outputs": [
    {
     "data": {
      "text/plain": [
       "torch.Size([32, 200])"
      ]
     },
     "execution_count": 62,
     "metadata": {},
     "output_type": "execute_result"
    }
   ],
   "source": [
    "hpreact.shape"
   ]
  },
  {
   "cell_type": "code",
   "execution_count": 63,
   "id": "82f679ae-1034-4548-b825-d9841f5c5ffd",
   "metadata": {
    "tags": []
   },
   "outputs": [
    {
     "data": {
      "text/plain": [
       "torch.Size([1, 200])"
      ]
     },
     "execution_count": 63,
     "metadata": {},
     "output_type": "execute_result"
    }
   ],
   "source": [
    "hpreact.mean(dim=0, keepdim=True).shape"
   ]
  },
  {
   "cell_type": "code",
   "execution_count": 64,
   "id": "2b7af4e2-d47d-45c2-96d4-c3641bfeb723",
   "metadata": {
    "tags": []
   },
   "outputs": [
    {
     "data": {
      "text/plain": [
       "torch.Size([1, 200])"
      ]
     },
     "execution_count": 64,
     "metadata": {},
     "output_type": "execute_result"
    }
   ],
   "source": [
    "hpreact.std(dim=0, keepdim=True).shape"
   ]
  },
  {
   "cell_type": "markdown",
   "id": "5514f36e-5c7d-43dd-b61a-aca5c84abe82",
   "metadata": {},
   "source": [
    "## Model Initialization 7"
   ]
  },
  {
   "cell_type": "code",
   "execution_count": 65,
   "id": "1e22ac6d-aa17-4b17-b774-d8d588d02480",
   "metadata": {
    "tags": []
   },
   "outputs": [
    {
     "name": "stdout",
     "output_type": "stream",
     "text": [
      "12297\n"
     ]
    }
   ],
   "source": [
    "# MLP revisited\n",
    "n_embd = 10 # the dimensionality of the character embedding vectors\n",
    "n_hidden = 200 # the number of neurons in the hidden layer of the MLP\n",
    "\n",
    "g = torch.Generator().manual_seed(manualSeed) # for reproducibility\n",
    "C  = torch.randn((vocab_size, n_embd),            generator=g).to(device)\n",
    "W1 = torch.randn((n_embd * block_size, n_hidden), generator=g).to(device) * (5/3) / ((n_embd * block_size)**0.5) # the only tweak!\n",
    "b1 = torch.randn(n_hidden,                        generator=g).to(device) * 0.01 \n",
    "W2 = torch.randn((n_hidden, vocab_size),          generator=g).to(device) * 0.01 \n",
    "b2 = torch.randn(vocab_size,                      generator=g).to(device) * 0.0 \n",
    "\n",
    "# Batch Normalization START\n",
    "# batch normalization gain\n",
    "bngain = torch.ones((1, n_hidden))\n",
    "# batch normalization bias\n",
    "bnbias = torch.zeros((1, n_hidden))\n",
    "\n",
    "parameters = [C, W1, b1, W2, b2, bngain, bnbias]\n",
    "# Batch Normalization END\n",
    "\n",
    "print(sum(p.nelement() for p in parameters)) # number of parameters in total\n",
    "for p in parameters:\n",
    "    p.requires_grad = True\n",
    "    \n",
    "# Our parameter count goes up from 11897 to (11897 + 200 + 200) => 12297"
   ]
  },
  {
   "cell_type": "markdown",
   "id": "6274eb67-28be-461a-b366-d1874dde0ffb",
   "metadata": {},
   "source": [
    "## Training Loop 3"
   ]
  },
  {
   "cell_type": "code",
   "execution_count": 66,
   "id": "f48d170e-afd3-47a3-aab5-608ada534dba",
   "metadata": {
    "tags": []
   },
   "outputs": [
    {
     "name": "stdout",
     "output_type": "stream",
     "text": [
      "      0/ 200000: 3.3147\n",
      "  10000/ 200000: 2.1984\n",
      "  20000/ 200000: 2.2950\n",
      "  30000/ 200000: 2.3937\n",
      "  40000/ 200000: 1.9780\n",
      "  50000/ 200000: 2.4495\n",
      "  60000/ 200000: 2.4431\n",
      "  70000/ 200000: 2.0071\n",
      "  80000/ 200000: 2.2948\n",
      "  90000/ 200000: 2.1144\n",
      " 100000/ 200000: 2.0097\n",
      " 110000/ 200000: 2.3772\n",
      " 120000/ 200000: 2.0301\n",
      " 130000/ 200000: 2.4808\n",
      " 140000/ 200000: 2.4385\n",
      " 150000/ 200000: 2.2068\n",
      " 160000/ 200000: 2.0353\n",
      " 170000/ 200000: 1.8832\n",
      " 180000/ 200000: 2.0849\n",
      " 190000/ 200000: 1.8312\n",
      "CPU times: user 15min 27s, sys: 1.67 s, total: 15min 29s\n",
      "Wall time: 2min\n"
     ]
    }
   ],
   "source": [
    "%%time\n",
    "# same optimization as last time\n",
    "max_steps = 200000\n",
    "batch_size = 32\n",
    "lossi = []\n",
    "\n",
    "for i in range(max_steps):\n",
    "    \n",
    "    # minibatch construct\n",
    "    ix = torch.randint(0, Xtr.shape[0], (batch_size,), generator=g)\n",
    "    Xb, Yb = Xtr[ix], Ytr[ix] # batch X,Y\n",
    "    \n",
    "    # 1) Forward Pass\n",
    "    # embed the characters into vectors\n",
    "    emb = C[Xb]\n",
    "    # concatenate the vectors\n",
    "    embcat = emb.view(emb.shape[0], -1)\n",
    "    # hidden layer pre-activation\n",
    "    hpreact = embcat @ W1 + b1\n",
    "    \n",
    "    # Batch Normalization START\n",
    "    hpreact = bngain * (hpreact - hpreact.mean(dim=0, keepdim=True)) / hpreact.std(dim=0, keepdim=True) + bnbias\n",
    "    # Batch Normalization END\n",
    "    \n",
    "    # hidden layer\n",
    "    h = torch.tanh(hpreact)\n",
    "    # output layer\n",
    "    logits = h @ W2 + b2\n",
    "    # loss function\n",
    "    loss = F.cross_entropy(logits, Yb)\n",
    "    \n",
    "    # 2) Backward Pass\n",
    "    for p in parameters:\n",
    "        p.grad = None\n",
    "    loss.backward()\n",
    "    \n",
    "    # 3) update\n",
    "    # step learning rate decay\n",
    "    lr = 0.1 if i < 10000 else 0.01\n",
    "    for p in parameters:\n",
    "        p.data += -lr * p.grad\n",
    "    \n",
    "    # 4) track stats\n",
    "    if i % 10000 == 0:\n",
    "        print(f'{i:7d}/{max_steps:7d}: {loss.item():.4f}')\n",
    "    lossi.append(loss.log10().item())"
   ]
  },
  {
   "cell_type": "code",
   "execution_count": 67,
   "id": "c0bebe7b-30c4-4361-8a83-c5d3fee4dbc5",
   "metadata": {
    "tags": []
   },
   "outputs": [
    {
     "data": {
      "text/plain": [
       "[<matplotlib.lines.Line2D at 0x7f479100ae60>]"
      ]
     },
     "execution_count": 67,
     "metadata": {},
     "output_type": "execute_result"
    },
    {
     "data": {
      "image/png": "[encoded data removed]",
      "text/plain": [
       "<Figure size 640x480 with 1 Axes>"
      ]
     },
     "metadata": {},
     "output_type": "display_data"
    }
   ],
   "source": [
    "plt.plot(lossi)"
   ]
  },
  {
   "cell_type": "markdown",
   "id": "878253c5-f4cd-4597-9c00-080ac9832b16",
   "metadata": {},
   "source": [
    "## Split Loss 2 (with batch normalization)"
   ]
  },
  {
   "cell_type": "code",
   "execution_count": 68,
   "id": "57cf8969-b4b8-4176-a9a0-557becc1c63c",
   "metadata": {
    "tags": []
   },
   "outputs": [
    {
     "name": "stdout",
     "output_type": "stream",
     "text": [
      "train 2.111201286315918\n",
      "val 2.137489080429077\n"
     ]
    }
   ],
   "source": [
    "@torch.no_grad() # this decorator disables gradient tracking\n",
    "def split_loss(split):\n",
    "    x, y = { 'train' : [Xtr, Ytr],\n",
    "             'val' : [Xdev, Ydev],\n",
    "             'test' : [Xte, Yte]\n",
    "           }[split]\n",
    "    # (N, block_size, n_embed)\n",
    "    emb = C[x]\n",
    "    # concat into a (N, block_size * n_embed)\n",
    "    embcat = emb.view(emb.shape[0], -1)\n",
    "    hpreact = embcat @ W1 + b1 # hidden layer pre-activation\n",
    "    \n",
    "    # Batch normalization\n",
    "    hpreact = bngain * (hpreact - hpreact.mean(dim=0, keepdim=True)) / hpreact.std(dim=0, keepdim=True) + bnbias\n",
    "    \n",
    "    # (N, n_hidden)\n",
    "    h = torch.tanh(hpreact)\n",
    "    # (N, vocab_size)\n",
    "    logits = h @ W2 + b2\n",
    "    loss = F.cross_entropy(logits, y)\n",
    "    print(split, loss.item())\n",
    "    \n",
    "split_loss('train')\n",
    "split_loss('val')"
   ]
  },
  {
   "cell_type": "code",
   "execution_count": 69,
   "id": "2745fcaf-6b95-4696-9514-8c6aa9e9e9d5",
   "metadata": {},
   "outputs": [],
   "source": [
    "# Here is a summary of how the loss on the training and validation data improved:\n",
    "\n",
    "# No changes to the Model Initialization\n",
    "# train 2.2306289672851562\n",
    "# val 2.2506215572357178\n",
    "\n",
    "# A) Fix the Initial loss (fix softmas confidently wrong)\n",
    "# train 2.1233866214752197\n",
    "# val 2.1638295650482178\n",
    "\n",
    "# B) Fix the saturated tanh (fix tanh layer saturated at init)\n",
    "# train 2.081057548522949\n",
    "# val 2.125427722930908\n",
    "\n",
    "# C) use semi-principled 'kaiming init' instead of a hacky init \n",
    "# train 2.0817906856536865\n",
    "# val 2.1279780864715576\n",
    "\n",
    "# D) with Batch Normalization\n",
    "# train 2.111201286315918\n",
    "# val 2.137489080429077\n"
   ]
  },
  {
   "cell_type": "markdown",
   "id": "1aa3badc-8483-4faf-9e5c-7fb5507bde4c",
   "metadata": {},
   "source": [
    "This network is small, so we may not see any improvement on the training or validation loss with batch normalization. On larger networks, there will be an improvement. \n",
    "\n",
    "It has become the norm that we would add a batch normalization after every linear layer in the network. "
   ]
  },
  {
   "cell_type": "code",
   "execution_count": 70,
   "id": "b148ddf8-2644-4800-bbe7-d5999668b525",
   "metadata": {
    "tags": []
   },
   "outputs": [],
   "source": [
    "# calibrate the batch norm at the end of training\n",
    "\n",
    "with torch.no_grad():\n",
    "    # pass through the training set\n",
    "    emb = C[Xtr]\n",
    "    embcat = emb.view(emb.shape[0], -1)\n",
    "    hpreact = embcat @ W1 + b1\n",
    "    # measure the mean/std over the entire training set\n",
    "    bnmean = hpreact.mean(dim=0, keepdim=True)\n",
    "    bnstd = hpreact.std(dim=0, keepdim=True)"
   ]
  },
  {
   "cell_type": "markdown",
   "id": "f6c39700-8e9b-4e30-b6aa-bfeaedab5dc7",
   "metadata": {},
   "source": [
    "## Split Loss 3"
   ]
  },
  {
   "cell_type": "code",
   "execution_count": 71,
   "id": "75249540-fe61-4105-981e-dbf85ce4a699",
   "metadata": {
    "tags": []
   },
   "outputs": [
    {
     "name": "stdout",
     "output_type": "stream",
     "text": [
      "train 2.111201286315918\n",
      "val 2.137542724609375\n"
     ]
    }
   ],
   "source": [
    "@torch.no_grad() # this decorator disables gradient tracking\n",
    "def split_loss(split):\n",
    "    x, y = { 'train' : [Xtr, Ytr],\n",
    "             'val' : [Xdev, Ydev],\n",
    "             'test' : [Xte, Yte]\n",
    "           }[split]\n",
    "    # (N, block_size, n_embed)\n",
    "    emb = C[x]\n",
    "    # concat into a (N, block_size * n_embed)\n",
    "    embcat = emb.view(emb.shape[0], -1)\n",
    "    hpreact = embcat @ W1 + b1 # hidden layer pre-activation\n",
    "    \n",
    "    # Batch normalization\n",
    "    # hpreact = bngain * (hpreact - hpreact.mean(dim=0, keepdims=True)) / hpreact.std(dim=0, keepdim=True) + bnbias\n",
    "    hpreact = bngain * (hpreact - bnmean) / bnstd + bnbias\n",
    "    \n",
    "    # (N, n_hidden)\n",
    "    h = torch.tanh(hpreact)\n",
    "    # (N, vocab_size)\n",
    "    logits = h @ W2 + b2\n",
    "    loss = F.cross_entropy(logits, y)\n",
    "    print(split, loss.item())\n",
    "    \n",
    "split_loss('train')\n",
    "split_loss('val')"
   ]
  },
  {
   "cell_type": "code",
   "execution_count": 72,
   "id": "89b2eee2-8745-493d-9c94-505f45bd4417",
   "metadata": {
    "tags": []
   },
   "outputs": [
    {
     "data": {
      "text/plain": [
       "13.0"
      ]
     },
     "execution_count": 72,
     "metadata": {},
     "output_type": "execute_result"
    }
   ],
   "source": [
    "3 * (7 - 5) / 6 + 12"
   ]
  },
  {
   "cell_type": "markdown",
   "id": "9bb2656c-4cae-442f-a0d3-8035da7a7f4f",
   "metadata": {},
   "source": [
    "However, no one wants to calculate this batch mean and std after training, so a better way to do this is to estimate these values DURING training of the network."
   ]
  },
  {
   "cell_type": "markdown",
   "id": "2c04df72-b28a-4e20-8823-ed45fdcdeb58",
   "metadata": {},
   "source": [
    "## Model Initialization 8"
   ]
  },
  {
   "cell_type": "code",
   "execution_count": 75,
   "id": "1c947941-67ea-4cf4-bdf8-7da7be1c65a9",
   "metadata": {
    "tags": []
   },
   "outputs": [
    {
     "name": "stdout",
     "output_type": "stream",
     "text": [
      "12297\n"
     ]
    }
   ],
   "source": [
    "# MLP revisited\n",
    "n_embd = 10 # the dimensionality of the character embedding vectors\n",
    "n_hidden = 200 # the number of neurons in the hidden layer of the MLP\n",
    "\n",
    "g = torch.Generator().manual_seed(manualSeed) # for reproducibility\n",
    "C  = torch.randn((vocab_size, n_embd),            generator=g).to(device)\n",
    "W1 = torch.randn((n_embd * block_size, n_hidden), generator=g).to(device) * (5/3) / ((n_embd * block_size)**0.5) # the only tweak!\n",
    "b1 = torch.randn(n_hidden,                        generator=g).to(device) * 0.01 \n",
    "W2 = torch.randn((n_hidden, vocab_size),          generator=g).to(device) * 0.01 \n",
    "b2 = torch.randn(vocab_size,                      generator=g).to(device) * 0.0 \n",
    "\n",
    "# Batch Normalization START\n",
    "# batch normalization gain\n",
    "bngain = torch.ones((1, n_hidden))\n",
    "# batch normalization bias\n",
    "bnbias = torch.zeros((1, n_hidden))\n",
    "\n",
    "# Running totals for mean, std START\n",
    "bnmean_running = torch.ones((1, n_hidden))\n",
    "bnstd_running = torch.zeros((1, n_hidden))\n",
    "# Running totals for mean, std END\n",
    "\n",
    "parameters = [C, W1, b1, W2, b2, bngain, bnbias]\n",
    "# Batch Normalization END\n",
    "\n",
    "print(sum(p.nelement() for p in parameters)) # number of parameters in total\n",
    "for p in parameters:\n",
    "    p.requires_grad = True\n",
    "    \n",
    "# Our parameter count goes up from 11897 to (11897 + 200 + 200) => 12297"
   ]
  },
  {
   "cell_type": "markdown",
   "id": "07e24a8d-8b77-4efe-ab65-60d538207748",
   "metadata": {},
   "source": [
    "## Training Loop 4"
   ]
  },
  {
   "cell_type": "code",
   "execution_count": 76,
   "id": "23d1e82e-af08-4542-836b-403c483b4864",
   "metadata": {
    "tags": []
   },
   "outputs": [
    {
     "name": "stdout",
     "output_type": "stream",
     "text": [
      "      0/ 200000: 3.3147\n",
      "  10000/ 200000: 2.1984\n",
      "  20000/ 200000: 2.2950\n",
      "  30000/ 200000: 2.3937\n",
      "  40000/ 200000: 1.9780\n",
      "  50000/ 200000: 2.4495\n",
      "  60000/ 200000: 2.4431\n",
      "  70000/ 200000: 2.0071\n",
      "  80000/ 200000: 2.2948\n",
      "  90000/ 200000: 2.1144\n",
      " 100000/ 200000: 2.0097\n",
      " 110000/ 200000: 2.3772\n",
      " 120000/ 200000: 2.0301\n",
      " 130000/ 200000: 2.4808\n",
      " 140000/ 200000: 2.4385\n",
      " 150000/ 200000: 2.2068\n",
      " 160000/ 200000: 2.0353\n",
      " 170000/ 200000: 1.8832\n",
      " 180000/ 200000: 2.0849\n",
      " 190000/ 200000: 1.8312\n",
      "CPU times: user 16min 7s, sys: 2.68 s, total: 16min 9s\n",
      "Wall time: 2min 5s\n"
     ]
    }
   ],
   "source": [
    "%%time\n",
    "# same optimization as last time\n",
    "max_steps = 200000\n",
    "batch_size = 32\n",
    "lossi = []\n",
    "\n",
    "for i in range(max_steps):\n",
    "    \n",
    "    # minibatch construct\n",
    "    ix = torch.randint(0, Xtr.shape[0], (batch_size,), generator=g)\n",
    "    Xb, Yb = Xtr[ix], Ytr[ix] # batch X,Y\n",
    "    \n",
    "    # 1) Forward Pass\n",
    "    # embed the characters into vectors\n",
    "    emb = C[Xb]\n",
    "    # concatenate the vectors\n",
    "    embcat = emb.view(emb.shape[0], -1)\n",
    "    # hidden layer pre-activation\n",
    "    hpreact = embcat @ W1 + b1\n",
    "    \n",
    "    # Batch Normalization START\n",
    "    # hpreact = bngain * (hpreact - hpreact.mean(dim=0, keepdims=True)) / hpreact.std(dim=0, keepdim=True) + bnbias\n",
    "    \n",
    "    bnmeani = hpreact.mean(dim=0, keepdim=True)\n",
    "    bnstdi = hpreact.std(dim=0, keepdim=True)\n",
    "    hpreact = bngain * (hpreact - bnmeani) / bnstdi + bnbias\n",
    "    \n",
    "    with torch.no_grad():\n",
    "        bnmean_running = 0.999 * bnmean_running + 0.001 * bnmeani\n",
    "        bnstd_running = 0.999 * bnstd_running + 0.001 * bnstdi\n",
    "    \n",
    "    \n",
    "    # Batch Normalization END\n",
    "    \n",
    "    # hidden layer\n",
    "    h = torch.tanh(hpreact)\n",
    "    # output layer\n",
    "    logits = h @ W2 + b2\n",
    "    # loss function\n",
    "    loss = F.cross_entropy(logits, Yb)\n",
    "    \n",
    "    # 2) Backward Pass\n",
    "    for p in parameters:\n",
    "        p.grad = None\n",
    "    loss.backward()\n",
    "    \n",
    "    # 3) update\n",
    "    # step learning rate decay\n",
    "    lr = 0.1 if i < 10000 else 0.01\n",
    "    for p in parameters:\n",
    "        p.data += -lr * p.grad\n",
    "    \n",
    "    # 4) track stats\n",
    "    if i % 10000 == 0:\n",
    "        print(f'{i:7d}/{max_steps:7d}: {loss.item():.4f}')\n",
    "    lossi.append(loss.log10().item())"
   ]
  },
  {
   "cell_type": "markdown",
   "id": "9bca8fc0-edf2-4a12-a05f-60601bcfe6d6",
   "metadata": {},
   "source": [
    "So now we no longer need to do that extra post training step because we have done it during traing. "
   ]
  },
  {
   "cell_type": "markdown",
   "id": "4b88e078-9def-47e4-a7d5-1ed8d22323f2",
   "metadata": {},
   "source": [
    "## Split Loss 4"
   ]
  },
  {
   "cell_type": "code",
   "execution_count": 77,
   "id": "19aaa964-541a-4ad5-baf7-d2540745685f",
   "metadata": {
    "tags": []
   },
   "outputs": [
    {
     "name": "stdout",
     "output_type": "stream",
     "text": [
      "train 2.1111013889312744\n",
      "val 2.137741804122925\n"
     ]
    }
   ],
   "source": [
    "@torch.no_grad() # this decorator disables gradient tracking\n",
    "def split_loss(split):\n",
    "    x, y = { 'train' : [Xtr, Ytr],\n",
    "             'val' : [Xdev, Ydev],\n",
    "             'test' : [Xte, Yte]\n",
    "           }[split]\n",
    "    # (N, block_size, n_embed)\n",
    "    emb = C[x]\n",
    "    # concat into a (N, block_size * n_embed)\n",
    "    embcat = emb.view(emb.shape[0], -1)\n",
    "    hpreact = embcat @ W1 + b1 # hidden layer pre-activation\n",
    "    \n",
    "    # Batch normalization\n",
    "    # hpreact = bngain * (hpreact - hpreact.mean(dim=0, keepdims=True)) / hpreact.std(dim=0, keepdim=True) + bnbias\n",
    "    # hpreact = bngain * (hpreact - bnmean) / bnstd + bnbias\n",
    "    hpreact = bngain * (hpreact - bnmean_running) / bnstd_running + bnbias\n",
    "    \n",
    "    # (N, n_hidden)\n",
    "    h = torch.tanh(hpreact)\n",
    "    # (N, vocab_size)\n",
    "    logits = h @ W2 + b2\n",
    "    loss = F.cross_entropy(logits, y)\n",
    "    print(split, loss.item())\n",
    "    \n",
    "split_loss('train')\n",
    "split_loss('val')"
   ]
  },
  {
   "cell_type": "markdown",
   "id": "bd09f0d9-47d0-4d70-8b71-6582311a0723",
   "metadata": {},
   "source": [
    "These values are almost identical to when we did it after training:\n",
    "\n",
    "train 2.111201286315918\n",
    "\n",
    "val 2.137542724609375"
   ]
  },
  {
   "cell_type": "code",
   "execution_count": null,
   "id": "14169751-d20e-4eb3-a5b7-6031abe2ffc8",
   "metadata": {},
   "outputs": [],
   "source": []
  }
 ],
 "metadata": {
  "kernelspec": {
   "display_name": "Python 3 (ipykernel)",
   "language": "python",
   "name": "python3"
  },
  "language_info": {
   "codemirror_mode": {
    "name": "ipython",
    "version": 3
   },
   "file_extension": ".py",
   "mimetype": "text/x-python",
   "name": "python",
   "nbconvert_exporter": "python",
   "pygments_lexer": "ipython3",
   "version": "3.10.8"
  }
 },
 "nbformat": 4,
 "nbformat_minor": 5
}
