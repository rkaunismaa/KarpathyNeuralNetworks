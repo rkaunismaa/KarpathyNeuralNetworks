{
 "cells": [
  {
   "cell_type": "markdown",
   "id": "5ee29c6b-0944-4a2c-bb3b-8e4d929b0b51",
   "metadata": {},
   "source": [
    "Thursday, June 15, 2023\n",
    "\n",
    "docker container start sad_nightingale\n",
    "\n",
    "[Building makemore Part 5: Building a WaveNet](https://www.youtube.com/watch?v=t3YJ5hKiMQ0)\n",
    "\n",
    "[WaveNet: A Generative Model for Raw Audio](https://arxiv.org/abs/1609.03499)"
   ]
  },
  {
   "cell_type": "code",
   "execution_count": null,
   "id": "ded40903-a435-4767-9185-537baea421e5",
   "metadata": {},
   "outputs": [],
   "source": []
  }
 ],
 "metadata": {
  "kernelspec": {
   "display_name": "Python 3 (ipykernel)",
   "language": "python",
   "name": "python3"
  },
  "language_info": {
   "codemirror_mode": {
    "name": "ipython",
    "version": 3
   },
   "file_extension": ".py",
   "mimetype": "text/x-python",
   "name": "python",
   "nbconvert_exporter": "python",
   "pygments_lexer": "ipython3",
   "version": "3.10.8"
  }
 },
 "nbformat": 4,
 "nbformat_minor": 5
}
