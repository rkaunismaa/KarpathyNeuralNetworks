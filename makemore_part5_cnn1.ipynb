{
 "cells": [
  {
   "cell_type": "markdown",
   "id": "5ee29c6b-0944-4a2c-bb3b-8e4d929b0b51",
   "metadata": {},
   "source": [
    "Thursday, June 15, 2023\n",
    "\n",
    "docker container start sad_nightingale\n",
    "\n",
    "[Building makemore Part 5: Building a WaveNet](https://www.youtube.com/watch?v=t3YJ5hKiMQ0)\n",
    "\n",
    "[WaveNet: A Generative Model for Raw Audio](https://arxiv.org/abs/1609.03499)"
   ]
  },
  {
   "cell_type": "code",
   "execution_count": 1,
   "id": "c7d94d51-5165-435e-875c-69b5e129e99b",
   "metadata": {},
   "outputs": [],
   "source": [
    "import time\n",
    "from datetime import date\n",
    "\n",
    "startTime = time.time()\n",
    "todaysDate = date.today()"
   ]
  },
  {
   "cell_type": "code",
   "execution_count": 2,
   "id": "ded40903-a435-4767-9185-537baea421e5",
   "metadata": {},
   "outputs": [],
   "source": [
    "import torch\n",
    "import torch.nn.functional as F\n",
    "import matplotlib.pyplot as plt\n",
    "%matplotlib inline"
   ]
  },
  {
   "cell_type": "code",
   "execution_count": 3,
   "id": "6d0e0f18-fe0a-4316-a1c7-c1e15ae4b2dc",
   "metadata": {},
   "outputs": [
    {
     "data": {
      "text/plain": [
       "device(type='cuda')"
      ]
     },
     "execution_count": 3,
     "metadata": {},
     "output_type": "execute_result"
    }
   ],
   "source": [
    "useGPU = True\n",
    "if torch.cuda.is_available() and useGPU:\n",
    "    device = torch.device(\"cuda\")  # Use GPU\n",
    "    torch.set_default_tensor_type(torch.cuda.FloatTensor)\n",
    "else:\n",
    "    device = torch.device(\"cpu\")  # Fallback to CPU if GPU is not available\n",
    "device"
   ]
  },
  {
   "cell_type": "code",
   "execution_count": 4,
   "id": "7228f112-2deb-4668-9e2d-905edc9bcc2b",
   "metadata": {},
   "outputs": [
    {
     "name": "stdout",
     "output_type": "stream",
     "text": [
      "32033\n",
      "15\n",
      "['emma', 'olivia', 'ava', 'isabella', 'sophia', 'charlotte', 'mia', 'amelia']\n"
     ]
    }
   ],
   "source": [
    "# read in all the words\n",
    "words = open('names.txt', 'r').read().splitlines()\n",
    "lenOfWords = len(words)\n",
    "print(lenOfWords)\n",
    "print(max(len(w) for w in words))\n",
    "print(words[:8])"
   ]
  },
  {
   "cell_type": "code",
   "execution_count": 5,
   "id": "82751d85-e4f3-4647-9cb0-db9229f89909",
   "metadata": {},
   "outputs": [
    {
     "name": "stdout",
     "output_type": "stream",
     "text": [
      "27\n"
     ]
    }
   ],
   "source": [
    "# build the vocabulary of characters and mappings to/from integers\n",
    "chars = sorted(list(set(''.join(words))))\n",
    "delimiter = '.'\n",
    "stoi = {c:i+1 for i,c in enumerate(chars)}\n",
    "stoi[delimiter] = 0\n",
    "itos = { c:i for i, c in stoi.items()}\n",
    "vocab_size = len(itos)\n",
    "print(vocab_size)"
   ]
  },
  {
   "cell_type": "code",
   "execution_count": 6,
   "id": "5ec624a6-d814-4a5b-b197-1a45b2e9f29c",
   "metadata": {},
   "outputs": [],
   "source": [
    "# build the dataset\n",
    "block_size = 3 # context length: how many characters do we take to predict the next one?\n",
    "\n",
    "def build_dataset(words):\n",
    "    \n",
    "    X, Y = [], []\n",
    "    \n",
    "    for w in words:\n",
    "        context = [0] * block_size\n",
    "        for ch in w + delimiter:\n",
    "            ix = stoi[ch]\n",
    "            X.append(context)\n",
    "            Y.append(ix)\n",
    "            context = context[1:] + [ix] # crop and append\n",
    "            \n",
    "    X = torch.tensor(X)\n",
    "    Y = torch.tensor(Y)\n",
    "    print(X.shape, Y.shape)\n",
    "    return X, Y"
   ]
  },
  {
   "cell_type": "code",
   "execution_count": 7,
   "id": "bfd34f18-4f07-4754-8d47-8cb569c40f5a",
   "metadata": {},
   "outputs": [],
   "source": [
    "thgttg = 42\n",
    "manualSeed = 2147483647"
   ]
  },
  {
   "cell_type": "code",
   "execution_count": 8,
   "id": "d22d8a45-ed4b-490d-b19c-685b6ce328ef",
   "metadata": {},
   "outputs": [
    {
     "name": "stdout",
     "output_type": "stream",
     "text": [
      "25626 28829\n",
      "torch.Size([182625, 3]) torch.Size([182625])\n",
      "torch.Size([22655, 3]) torch.Size([22655])\n",
      "torch.Size([22866, 3]) torch.Size([22866])\n"
     ]
    }
   ],
   "source": [
    "import random\n",
    "random.seed(thgttg)\n",
    "random.shuffle(words)\n",
    "\n",
    "n1 = int(0.8 * lenOfWords)\n",
    "n2 = int(0.9 * lenOfWords)\n",
    "print(n1, n2)\n",
    "\n",
    "Xtr, Ytr = build_dataset(words[:n1])\n",
    "Xdev, Ydev = build_dataset(words[n1:n2])\n",
    "Xte, Yte = build_dataset(words[n2:])"
   ]
  },
  {
   "cell_type": "code",
   "execution_count": 9,
   "id": "983ccd83-8767-4548-83bb-6026c9b5004c",
   "metadata": {},
   "outputs": [
    {
     "name": "stdout",
     "output_type": "stream",
     "text": [
      "... --> y\n",
      "..y --> u\n",
      ".yu --> h\n",
      "yuh --> e\n",
      "uhe --> n\n",
      "hen --> g\n",
      "eng --> .\n",
      "... --> d\n",
      "..d --> i\n",
      ".di --> o\n",
      "dio --> n\n",
      "ion --> d\n",
      "ond --> r\n",
      "ndr --> e\n",
      "dre --> .\n",
      "... --> x\n",
      "..x --> a\n",
      ".xa --> v\n",
      "xav --> i\n",
      "avi --> e\n"
     ]
    }
   ],
   "source": [
    "for x,y in zip(Xtr[:20], Ytr[:20]):\n",
    "    print(''.join(itos[ix.item()] for ix in x), '-->', itos[y.item()])"
   ]
  },
  {
   "cell_type": "code",
   "execution_count": 10,
   "id": "8cdd515b-2d8b-4c1a-880e-65ceb9fae1ae",
   "metadata": {},
   "outputs": [],
   "source": [
    "# Near copy paste of the layers we have developed in Part 3\n",
    "\n",
    "# -----------------------------------------------------------------------------------------------\n",
    "class Linear:\n",
    "  \n",
    "  def __init__(self, fan_in, fan_out, bias=True):\n",
    "    self.weight = torch.randn((fan_in, fan_out)) / fan_in**0.5 # note: kaiming init\n",
    "    self.bias = torch.zeros(fan_out) if bias else None\n",
    "  \n",
    "  def __call__(self, x):\n",
    "    self.out = x @ self.weight\n",
    "    if self.bias is not None:\n",
    "      self.out += self.bias\n",
    "    return self.out\n",
    "  \n",
    "  def parameters(self):\n",
    "    return [self.weight] + ([] if self.bias is None else [self.bias])\n",
    "\n",
    "# -----------------------------------------------------------------------------------------------\n",
    "class BatchNorm1d:\n",
    "  \n",
    "  def __init__(self, dim, eps=1e-5, momentum=0.1):\n",
    "    self.eps = eps\n",
    "    self.momentum = momentum\n",
    "    self.training = True\n",
    "    # parameters (trained with backprop)\n",
    "    self.gamma = torch.ones(dim)\n",
    "    self.beta = torch.zeros(dim)\n",
    "    # buffers (trained with a running 'momentum update')\n",
    "    self.running_mean = torch.zeros(dim)\n",
    "    self.running_var = torch.ones(dim)\n",
    "  \n",
    "  def __call__(self, x):\n",
    "    # calculate the forward pass\n",
    "    if self.training:\n",
    "      xmean = x.mean(0, keepdim=True) # batch mean\n",
    "      xvar = x.var(0, keepdim=True) # batch variance\n",
    "    else:\n",
    "      xmean = self.running_mean\n",
    "      xvar = self.running_var\n",
    "    xhat = (x - xmean) / torch.sqrt(xvar + self.eps) # normalize to unit variance\n",
    "    self.out = self.gamma * xhat + self.beta\n",
    "    # update the buffers\n",
    "    if self.training:\n",
    "      with torch.no_grad():\n",
    "        self.running_mean = (1 - self.momentum) * self.running_mean + self.momentum * xmean\n",
    "        self.running_var = (1 - self.momentum) * self.running_var + self.momentum * xvar\n",
    "    return self.out\n",
    "  \n",
    "  def parameters(self):\n",
    "    return [self.gamma, self.beta]\n",
    "\n",
    "# -----------------------------------------------------------------------------------------------\n",
    "class Tanh:\n",
    "  def __call__(self, x):\n",
    "    self.out = torch.tanh(x)\n",
    "    return self.out\n",
    "  def parameters(self):\n",
    "    return []"
   ]
  },
  {
   "cell_type": "code",
   "execution_count": 11,
   "id": "6b97b364-8983-4839-8e6c-9659f4752341",
   "metadata": {},
   "outputs": [
    {
     "data": {
      "text/plain": [
       "<torch._C.Generator at 0x7f2ff417cd30>"
      ]
     },
     "execution_count": 11,
     "metadata": {},
     "output_type": "execute_result"
    }
   ],
   "source": [
    "torch.manual_seed(42)"
   ]
  },
  {
   "cell_type": "code",
   "execution_count": 12,
   "id": "7ac2dec6-13e6-4680-8bf6-5c084a60c852",
   "metadata": {},
   "outputs": [],
   "source": [
    "n_embd = 10 # the dimensionality of the character embedding vectors\n",
    "n_hidden = 200 # the number of neurons in the hidden layer of the MLP\n",
    "\n",
    "C = torch.randn((vocab_size, n_embd))\n",
    "\n",
    "layers = [\n",
    "    \n",
    "    Linear(n_embd * block_size, n_hidden, bias=False),\n",
    "    BatchNorm1d(n_hidden),\n",
    "    Tanh(),\n",
    "\n",
    "    Linear(n_hidden, vocab_size)\n",
    "]"
   ]
  },
  {
   "cell_type": "code",
   "execution_count": 13,
   "id": "dd17dc56-f2d7-4bcc-bedc-b73b370bde6c",
   "metadata": {},
   "outputs": [],
   "source": [
    "# parameter initialization\n",
    "with torch.no_grad():\n",
    "    layers[-1].weight *= 0.1 # last layer make less confident"
   ]
  },
  {
   "cell_type": "code",
   "execution_count": 14,
   "id": "6c99c0bc-1c93-4aa1-8ba8-3fdf5d1ec058",
   "metadata": {},
   "outputs": [
    {
     "name": "stdout",
     "output_type": "stream",
     "text": [
      "12097\n"
     ]
    }
   ],
   "source": [
    "parameters = [C] + [p for layer in  layers for p in layer.parameters()]\n",
    "print(sum(p.nelement() for p in parameters))"
   ]
  },
  {
   "cell_type": "code",
   "execution_count": 15,
   "id": "79485903-f09f-43ed-a348-c60d8f696fa7",
   "metadata": {},
   "outputs": [],
   "source": [
    "for p in parameters:\n",
    "    p.requires_grad = True"
   ]
  },
  {
   "cell_type": "markdown",
   "id": "fee8ce02-d9f5-4c55-b007-4d47c8c822d5",
   "metadata": {},
   "source": [
    "#### Training Loop 1"
   ]
  },
  {
   "cell_type": "code",
   "execution_count": 16,
   "id": "e005868f-3573-49a5-b38c-55eb6b470f59",
   "metadata": {},
   "outputs": [
    {
     "name": "stdout",
     "output_type": "stream",
     "text": [
      "      0/ 200000: 3.3078\n",
      "  10000/ 200000: 2.5182\n",
      "  20000/ 200000: 2.3602\n",
      "  30000/ 200000: 2.1772\n",
      "  40000/ 200000: 1.7950\n",
      "  50000/ 200000: 2.0970\n",
      "  60000/ 200000: 2.4589\n",
      "  70000/ 200000: 2.3914\n",
      "  80000/ 200000: 2.1428\n",
      "  90000/ 200000: 1.9203\n",
      " 100000/ 200000: 2.4530\n",
      " 110000/ 200000: 2.0541\n",
      " 120000/ 200000: 2.1013\n",
      " 130000/ 200000: 1.8963\n",
      " 140000/ 200000: 2.0727\n",
      " 150000/ 200000: 2.1303\n",
      " 160000/ 200000: 2.6925\n",
      " 170000/ 200000: 2.6305\n",
      " 180000/ 200000: 2.0180\n",
      " 190000/ 200000: 2.0573\n",
      "CPU times: user 2min 44s, sys: 1.85 s, total: 2min 46s\n",
      "Wall time: 2min 57s\n"
     ]
    }
   ],
   "source": [
    "%%time\n",
    "# same optimization as last time\n",
    "max_steps = 200000\n",
    "batch_size = 32\n",
    "lossi = []\n",
    "\n",
    "for i in range(max_steps):\n",
    "\n",
    "    # 1) minibatch construct\n",
    "    ix = torch.randint(0, Xtr.shape[0], (batch_size, ))\n",
    "    Xb, Yb = Xtr[ix], Ytr[ix] # batch X, Y\n",
    "\n",
    "    # 2) forward pass\n",
    "    emb = C[Xb] # embed the characters into vectors\n",
    "    x = emb.view(emb.shape[0], -1) # concatenate the vectors\n",
    "    for layer in layers:\n",
    "        x = layer(x)\n",
    "    loss = F.cross_entropy(x, Yb) # loss function\n",
    "\n",
    "    # 3) backward pass\n",
    "    for p in parameters:\n",
    "        p.grad = None\n",
    "    loss.backward()\n",
    "  \n",
    "    # 4) update using simple stochastic gradient descent\n",
    "    lr = 0.1 if i < 150000 else 0.01 # step learning rate\n",
    "    for p in parameters:\n",
    "        p.data += -lr * p.grad\n",
    "\n",
    "    # 5) track stats\n",
    "    if i % 10000 == 0: # print every once in a while\n",
    "        print(f'{i:7d}/{max_steps:7d}: {loss.item():.4f}')\n",
    "    lossi.append(loss.log10().item())\n",
    "\n",
    "# CPU\n",
    "# CPU times: user 20min 25s, sys: 2.89 s, total: 20min 27s\n",
    "# Wall time: 2min 44s\n",
    "# CPU times: user 20min 44s, sys: 2.3 s, total: 20min 47s\n",
    "# Wall time: 2min 48s\n",
    "\n",
    "# GPU\n",
    "# CPU times: user 2min 44s, sys: 1.73 s, total: 2min 45s\n",
    "# Wall time: 2min 57s"
   ]
  },
  {
   "cell_type": "code",
   "execution_count": 17,
   "id": "212a2ae2-9770-4e87-bf94-9548d45c13d7",
   "metadata": {},
   "outputs": [
    {
     "data": {
      "text/plain": [
       "[<matplotlib.lines.Line2D at 0x7f2f424356c0>]"
      ]
     },
     "execution_count": 17,
     "metadata": {},
     "output_type": "execute_result"
    },
    {
     "data": {
      "image/png": "[encoded data removed]",
      "text/plain": [
       "<Figure size 640x480 with 1 Axes>"
      ]
     },
     "metadata": {},
     "output_type": "display_data"
    }
   ],
   "source": [
    "plt.plot(lossi)"
   ]
  },
  {
   "cell_type": "code",
   "execution_count": 18,
   "id": "0d056361-e2c0-4fc7-9fd5-fe069d7a260f",
   "metadata": {},
   "outputs": [],
   "source": [
    "# put layers into eval mode (needed for batchnorm especially)\n",
    "# notice as of right now this only applys to BatchNorn1d\n",
    "for layer in layers:\n",
    "    layer.training = False"
   ]
  },
  {
   "cell_type": "markdown",
   "id": "d20da09f-666b-4941-9dde-96c872d55763",
   "metadata": {},
   "source": [
    "#### Evaluate the Loss 1"
   ]
  },
  {
   "cell_type": "code",
   "execution_count": 19,
   "id": "2edf14ac-1366-40d0-bf4c-b2bcb7bf7f7f",
   "metadata": {},
   "outputs": [],
   "source": [
    "# evaluate the loss\n",
    "@torch.no_grad() # this decorator disables gradient tracking inside pytorch\n",
    "def split_loss(split):\n",
    "    x,y = {\n",
    "        'train': (Xtr, Ytr),\n",
    "        'val': (Xdev, Ydev),\n",
    "        'test': (Xte, Yte),\n",
    "        }[split]\n",
    "    emb = C[x] # (N, block_size, n_embd)\n",
    "    x = emb.view(emb.shape[0], -1) # concat into (N, block_size * n_embd)\n",
    "    for layer in layers:\n",
    "        x = layer(x)\n",
    "    loss = F.cross_entropy(x, y)\n",
    "    print(split, loss.item())"
   ]
  },
  {
   "cell_type": "code",
   "execution_count": 20,
   "id": "06dfc0bb-6b09-4171-9115-d50419b2dd34",
   "metadata": {},
   "outputs": [
    {
     "name": "stdout",
     "output_type": "stream",
     "text": [
      "train 2.059004068374634\n",
      "val 2.1056885719299316\n"
     ]
    }
   ],
   "source": [
    "split_loss('train')\n",
    "split_loss('val')"
   ]
  },
  {
   "cell_type": "markdown",
   "id": "12deb7d2-e6be-40cc-ab1a-2373706d8055",
   "metadata": {},
   "source": [
    "#### Sample from the model 1"
   ]
  },
  {
   "cell_type": "code",
   "execution_count": 21,
   "id": "e1778419-a686-4a4e-851f-e55fcf057c37",
   "metadata": {},
   "outputs": [
    {
     "name": "stdout",
     "output_type": "stream",
     "text": [
      "ire.\n",
      "takayler.\n",
      "arnalim.\n",
      "bhon.\n",
      "yurindley.\n",
      "per.\n",
      "terrioleigh.\n",
      "deugio.\n",
      "her.\n",
      "anaiyi.\n",
      "jashden.\n",
      "jinnon.\n",
      "sivi.\n",
      "semari.\n",
      "cheem.\n",
      "lison.\n",
      "dia.\n",
      "morgi.\n",
      "alah.\n",
      "elda.\n"
     ]
    }
   ],
   "source": [
    "# sample from the model\n",
    "\n",
    "for _ in range(20):\n",
    "\n",
    "    out = []\n",
    "    context = [0] * block_size # initialize with all ...\n",
    "    while True:\n",
    "\n",
    "        # forward pass the neural net\n",
    "        emb = C[torch.tensor([context])]\n",
    "        x = emb.view(emb.shape[0], -1) # concatenate the vectors\n",
    "        for layer in layers:\n",
    "            x = layer(x)\n",
    "        logits = x\n",
    "        probs = F.softmax(logits, dim=1)\n",
    "        # sample from the distribution\n",
    "        ix = torch.multinomial(probs, num_samples=1).item()\n",
    "        # shift the context window and track the samples\n",
    "        context = context[1:] + [ix]\n",
    "        out.append(ix)\n",
    "        # if we sample the special '.' token, then break\n",
    "        if ix == 0:\n",
    "            break\n",
    "            \n",
    "    print(''.join(itos[i] for i in out)) # decode and print the generated word"
   ]
  },
  {
   "cell_type": "markdown",
   "id": "2a5e7ae0-25ec-4701-9cb4-062ca7a38a2b",
   "metadata": {},
   "source": [
    "#### Let's fix the learning rate plot"
   ]
  },
  {
   "cell_type": "code",
   "execution_count": 22,
   "id": "07f8fd74-4355-4e84-a741-b7c5ae1b8618",
   "metadata": {},
   "outputs": [
    {
     "data": {
      "text/plain": [
       "torch.Size([200, 1000])"
      ]
     },
     "execution_count": 22,
     "metadata": {},
     "output_type": "execute_result"
    }
   ],
   "source": [
    "torch.tensor(lossi).view(-1, 1000).shape"
   ]
  },
  {
   "cell_type": "markdown",
   "id": "36aa8a30-8f4c-4324-90e4-1cb9e7bc6980",
   "metadata": {},
   "source": [
    "Each row is 1000 consecutive elements in the lossi list. \n",
    "\n",
    "We can take the mean of each row, and we can then plot that:"
   ]
  },
  {
   "cell_type": "code",
   "execution_count": 23,
   "id": "bde4331a-fee3-453d-bf77-36749798be77",
   "metadata": {},
   "outputs": [
    {
     "data": {
      "text/plain": [
       "[<matplotlib.lines.Line2D at 0x7f2f3b7832b0>]"
      ]
     },
     "execution_count": 23,
     "metadata": {},
     "output_type": "execute_result"
    },
    {
     "data": {
      "image/png": "[encoded data removed]",
      "text/plain": [
       "<Figure size 640x480 with 1 Axes>"
      ]
     },
     "metadata": {},
     "output_type": "display_data"
    }
   ],
   "source": [
    "# notice we have to copy the tensor to the cpu\n",
    "plt.plot(torch.tensor(lossi).cpu().view(-1, 1000).mean(dim=1))"
   ]
  },
  {
   "cell_type": "markdown",
   "id": "5c54350e-77e9-4c3d-9866-7f90e74d05fc",
   "metadata": {},
   "source": [
    "#### PyTorch-ifying our code"
   ]
  },
  {
   "cell_type": "markdown",
   "id": "bb81d3b8-6451-4728-9513-5a93b527703b",
   "metadata": {},
   "source": [
    "Right now our embedding layer is not part of our stack of layers and neither is the concatenation of the tensor. Let's fix that."
   ]
  },
  {
   "cell_type": "markdown",
   "id": "1bd17d99-698d-41c1-a86e-258531a0855a",
   "metadata": {},
   "source": [
    "![](images/part5_cnn_emb.png)"
   ]
  },
  {
   "cell_type": "code",
   "execution_count": 24,
   "id": "af8e0f65-a824-4b0b-a352-15aa1b614800",
   "metadata": {},
   "outputs": [],
   "source": [
    "class Embedding:\n",
    "\n",
    "    def __init__(self, num_embeddings, embedding_dim):\n",
    "        self.weight = torch.randn((num_embeddings, embedding_dim))\n",
    "\n",
    "    def __call__(self, IX):\n",
    "        self.out = self.weight[IX]\n",
    "        return self.out\n",
    "        \n",
    "    def parameters(self):\n",
    "        return [self.weight]"
   ]
  },
  {
   "cell_type": "code",
   "execution_count": 25,
   "id": "c7f6a128-c242-41f3-a733-6d1745359395",
   "metadata": {},
   "outputs": [],
   "source": [
    "class Flatten:\n",
    "\n",
    "    def __call__(self, x):\n",
    "        self.out = x.view(x.shape[0], -1)\n",
    "        return self.out\n",
    "\n",
    "    def parameters(self):\n",
    "        return []"
   ]
  },
  {
   "cell_type": "markdown",
   "id": "a2d83c4f-884b-481b-9e10-7239ac3e85d1",
   "metadata": {},
   "source": [
    "So now we can add these 2 new layers to our layers collection and take out C."
   ]
  },
  {
   "cell_type": "code",
   "execution_count": 26,
   "id": "d35e31cc-4e4f-43e8-9057-9d65fa422ea4",
   "metadata": {},
   "outputs": [],
   "source": [
    "# our new layers collection\n",
    "layers = [\n",
    "\n",
    "    Embedding(vocab_size, n_embd),\n",
    "    Flatten(),\n",
    "    \n",
    "    Linear(n_embd * block_size, n_hidden, bias=False),\n",
    "    BatchNorm1d(n_hidden),\n",
    "    Tanh(),\n",
    "\n",
    "    Linear(n_hidden, vocab_size)\n",
    "]"
   ]
  },
  {
   "cell_type": "markdown",
   "id": "11021a54-4a62-4790-9c2e-308936753ee9",
   "metadata": {},
   "source": [
    "Our parameters collection no longer needs C, so let's redefine it."
   ]
  },
  {
   "cell_type": "code",
   "execution_count": 27,
   "id": "845539e4-339a-4f8d-84b2-a33325be2449",
   "metadata": {},
   "outputs": [
    {
     "name": "stdout",
     "output_type": "stream",
     "text": [
      "12097\n"
     ]
    }
   ],
   "source": [
    "parameters = [p for layer in  layers for p in layer.parameters()]\n",
    "\n",
    "for p in parameters:\n",
    "    p.requires_grad = True\n",
    "    \n",
    "print(sum(p.nelement() for p in parameters))"
   ]
  },
  {
   "cell_type": "markdown",
   "id": "37e43d90-2aec-4813-90b4-770b0250d495",
   "metadata": {},
   "source": [
    "#### Training Loop 2\n",
    "\n",
    "We need a new training loop."
   ]
  },
  {
   "cell_type": "code",
   "execution_count": 28,
   "id": "f724cef8-e646-405e-84a8-58094a40c105",
   "metadata": {},
   "outputs": [
    {
     "name": "stdout",
     "output_type": "stream",
     "text": [
      "      0/ 200000: 3.6120\n",
      "CPU times: user 3.88 ms, sys: 0 ns, total: 3.88 ms\n",
      "Wall time: 3.4 ms\n"
     ]
    }
   ],
   "source": [
    "%%time\n",
    "# same optimization as last time\n",
    "max_steps = 200000\n",
    "batch_size = 32\n",
    "lossi = []\n",
    "\n",
    "for i in range(max_steps):\n",
    "\n",
    "    # 1) minibatch construct\n",
    "    ix = torch.randint(0, Xtr.shape[0], (batch_size, ))\n",
    "    Xb, Yb = Xtr[ix], Ytr[ix] # batch X, Y\n",
    "\n",
    "    # 2) forward pass ... the only changes from Training Loop 1\n",
    "    # emb = C[Xb] # embed the characters into vectors\n",
    "    # x = emb.view(emb.shape[0], -1) # concatenate the vectors\n",
    "    # for layer in layers:\n",
    "    #     x = layer(x)\n",
    "    x = Xb\n",
    "    for layer in layers:\n",
    "        x = layer(x)\n",
    "    loss = F.cross_entropy(x, Yb) # loss function\n",
    "\n",
    "    # 3) backward pass\n",
    "    for p in parameters:\n",
    "        p.grad = None\n",
    "    loss.backward()\n",
    "  \n",
    "    # 4) update using simple stochastic gradient descent\n",
    "    lr = 0.1 if i < 150000 else 0.01 # step learning rate\n",
    "    for p in parameters:\n",
    "        p.data += -lr * p.grad\n",
    "\n",
    "    # 5) track stats\n",
    "    if i % 10000 == 0: # print every once in a while\n",
    "        print(f'{i:7d}/{max_steps:7d}: {loss.item():.4f}')\n",
    "    lossi.append(loss.log10().item())\n",
    "    # let's break after the first pass ...\n",
    "    break"
   ]
  },
  {
   "cell_type": "markdown",
   "id": "3fbb6ac1-696b-4c7f-b465-36076465dbbf",
   "metadata": {},
   "source": [
    "Right now, layers is a simple list. PyTorch has a container for neural network layers (or modules) called [Sequential](https://pytorch.org/docs/stable/generated/torch.nn.Sequential.html)\n",
    "\n",
    "Let's implement our own simpler version of Sequential."
   ]
  },
  {
   "cell_type": "code",
   "execution_count": 29,
   "id": "4229ad19-76ad-4ea2-836e-9a1e8eecbdb8",
   "metadata": {},
   "outputs": [],
   "source": [
    "class Sequential:\n",
    "\n",
    "    def __init__(self, layers):\n",
    "        self.layers = layers\n",
    "\n",
    "    def __call__(self, x):\n",
    "        for layer in self.layers:\n",
    "            x = layer(x)\n",
    "        self.out = x\n",
    "        return self.out\n",
    "\n",
    "    def parameters(self):\n",
    "        # get parameters of all layers and strech them out into one list\n",
    "        return [p for layer in self.layers for p in layer.parameters()]\n",
    "    "
   ]
  },
  {
   "cell_type": "markdown",
   "id": "27cca22b-ba8c-43ad-92ec-6df3f28f5557",
   "metadata": {},
   "source": [
    "So now we no longer need out naked list of layers. We can add the layers to our Sequential collection and create a model object."
   ]
  },
  {
   "cell_type": "code",
   "execution_count": 30,
   "id": "62ddf65e-ca0e-4a89-add7-43ed9833e784",
   "metadata": {},
   "outputs": [],
   "source": [
    "model = Sequential([\n",
    "\n",
    "    Embedding(vocab_size, n_embd),\n",
    "    Flatten(),\n",
    "    \n",
    "    Linear(n_embd * block_size, n_hidden, bias=False),\n",
    "    BatchNorm1d(n_hidden),\n",
    "    Tanh(),\n",
    "\n",
    "    Linear(n_hidden, vocab_size)\n",
    "])"
   ]
  },
  {
   "cell_type": "markdown",
   "id": "ce2384ce-b340-4602-8d60-840695c303d4",
   "metadata": {},
   "source": [
    "We can now just assign model.parameters() to parameters."
   ]
  },
  {
   "cell_type": "code",
   "execution_count": 31,
   "id": "fa980ff0-1968-4a76-9cc1-57edf2ddc1b1",
   "metadata": {},
   "outputs": [
    {
     "name": "stdout",
     "output_type": "stream",
     "text": [
      "12097\n"
     ]
    }
   ],
   "source": [
    "# parameters = [p for layer in  layers for p in layer.parameters()]\n",
    "parameters = model.parameters()\n",
    "for p in parameters:\n",
    "    p.requires_grad = True\n",
    "    \n",
    "print(sum(p.nelement() for p in parameters))"
   ]
  },
  {
   "cell_type": "markdown",
   "id": "404b1fb5-5c18-4873-b85c-7fbc2e5efaa4",
   "metadata": {},
   "source": [
    "#### Training Loop 3\n",
    "\n",
    "Yup, redefine ... but this time actually train the model."
   ]
  },
  {
   "cell_type": "code",
   "execution_count": 32,
   "id": "2126032b-f898-4ebe-8e36-755a48f50639",
   "metadata": {},
   "outputs": [
    {
     "name": "stdout",
     "output_type": "stream",
     "text": [
      "      0/ 200000: 3.4704\n",
      "  10000/ 200000: 2.2268\n",
      "  20000/ 200000: 1.9324\n",
      "  30000/ 200000: 2.2441\n",
      "  40000/ 200000: 2.2577\n",
      "  50000/ 200000: 1.7740\n",
      "  60000/ 200000: 1.9609\n",
      "  70000/ 200000: 1.8011\n",
      "  80000/ 200000: 2.3215\n",
      "  90000/ 200000: 2.2641\n",
      " 100000/ 200000: 1.8790\n",
      " 110000/ 200000: 1.9008\n",
      " 120000/ 200000: 2.0905\n",
      " 130000/ 200000: 2.4779\n",
      " 140000/ 200000: 1.8521\n",
      " 150000/ 200000: 2.2732\n",
      " 160000/ 200000: 2.2655\n",
      " 170000/ 200000: 2.1052\n",
      " 180000/ 200000: 2.0711\n",
      " 190000/ 200000: 2.3293\n",
      "CPU times: user 2min 43s, sys: 1.63 s, total: 2min 45s\n",
      "Wall time: 2min 56s\n"
     ]
    }
   ],
   "source": [
    "%%time\n",
    "# same optimization as last time\n",
    "max_steps = 200000\n",
    "batch_size = 32\n",
    "lossi = []\n",
    "\n",
    "for i in range(max_steps):\n",
    "\n",
    "    # 1) minibatch construct\n",
    "    ix = torch.randint(0, Xtr.shape[0], (batch_size, ))\n",
    "    Xb, Yb = Xtr[ix], Ytr[ix] # batch X, Y\n",
    "\n",
    "    # 2) Forward pass\n",
    "    # x = Xb\n",
    "    # for layer in layers:\n",
    "    #     x = layer(x)\n",
    "    logits = model(Xb)\n",
    "    loss = F.cross_entropy(logits, Yb) # loss function\n",
    "\n",
    "    # 3) backward pass\n",
    "    for p in parameters:\n",
    "        p.grad = None\n",
    "    loss.backward()\n",
    "  \n",
    "    # 4) update using simple stochastic gradient descent\n",
    "    lr = 0.1 if i < 150000 else 0.01 # step learning rate\n",
    "    for p in parameters:\n",
    "        p.data += -lr * p.grad\n",
    "\n",
    "    # 5) track stats\n",
    "    if i % 10000 == 0: # print every once in a while\n",
    "        print(f'{i:7d}/{max_steps:7d}: {loss.item():.4f}')\n",
    "    lossi.append(loss.log10().item())\n",
    "\n",
    "# CPU\n",
    "# CPU times: user 18min 56s, sys: 2.69 s, total: 18min 59s\n",
    "# Wall time: 2min 30s\n",
    "# CPU times: user 18min 46s, sys: 1.82 s, total: 18min 48s\n",
    "# Wall time: 2min 28s\n",
    "\n",
    "# GPU\n",
    "# CPU times: user 2min 44s, sys: 1.85 s, total: 2min 46s\n",
    "# Wall time: 2min 57s"
   ]
  },
  {
   "cell_type": "code",
   "execution_count": 33,
   "id": "a4983780-ac25-421c-815b-4fe634322e3c",
   "metadata": {},
   "outputs": [
    {
     "data": {
      "text/plain": [
       "[<matplotlib.lines.Line2D at 0x7f2f3b7b7010>]"
      ]
     },
     "execution_count": 33,
     "metadata": {},
     "output_type": "execute_result"
    },
    {
     "data": {
      "image/png": "[encoded data removed]",
      "text/plain": [
       "<Figure size 640x480 with 1 Axes>"
      ]
     },
     "metadata": {},
     "output_type": "display_data"
    }
   ],
   "source": [
    "# notice we have to copy the tensor to the cpu\n",
    "plt.plot(torch.tensor(lossi).cpu().view(-1, 1000).mean(dim=1))"
   ]
  },
  {
   "cell_type": "code",
   "execution_count": 34,
   "id": "2da8d99f-2155-4862-98cb-557567ef6fea",
   "metadata": {},
   "outputs": [],
   "source": [
    "# put layers into eval mode (needed for batchnorm especially)\n",
    "for layer in model.layers:\n",
    "    layer.training = False"
   ]
  },
  {
   "cell_type": "markdown",
   "id": "8fb5ad8a-4c37-468c-a5d5-a4fab233114d",
   "metadata": {},
   "source": [
    "#### Evaluate the Loss 2"
   ]
  },
  {
   "cell_type": "code",
   "execution_count": 35,
   "id": "b0d08d21-e15d-4e3d-9502-0f8b4eef2942",
   "metadata": {},
   "outputs": [],
   "source": [
    "# evaluate the loss\n",
    "@torch.no_grad() # this decorator disables gradient tracking inside pytorch\n",
    "def split_loss(split):\n",
    "    x,y = {\n",
    "        'train': (Xtr, Ytr),\n",
    "        'val': (Xdev, Ydev),\n",
    "        'test': (Xte, Yte),\n",
    "        }[split]\n",
    "    # emb = C[x] # (N, block_size, n_embd)\n",
    "    # x = emb.view(emb.shape[0], -1) # concat into (N, block_size * n_embd)\n",
    "    # for layer in layers:\n",
    "    #     x = layer(x)\n",
    "    logits = model(x)\n",
    "    # loss = F.cross_entropy(x, y)\n",
    "    loss = F.cross_entropy(logits, y)\n",
    "    print(split, loss.item())"
   ]
  },
  {
   "cell_type": "code",
   "execution_count": 36,
   "id": "c383b05f-205f-4006-9dd6-8da982090ca6",
   "metadata": {},
   "outputs": [
    {
     "name": "stdout",
     "output_type": "stream",
     "text": [
      "train 2.0583231449127197\n",
      "val 2.106529951095581\n"
     ]
    }
   ],
   "source": [
    "split_loss('train')\n",
    "split_loss('val')"
   ]
  },
  {
   "cell_type": "markdown",
   "id": "9cf62236-48a4-4b2f-93a6-9fc215af5f09",
   "metadata": {},
   "source": [
    "#### Sample from the model 2"
   ]
  },
  {
   "cell_type": "code",
   "execution_count": 37,
   "id": "09864831-4726-48b0-83b5-737ccc7742c7",
   "metadata": {},
   "outputs": [
    {
     "name": "stdout",
     "output_type": "stream",
     "text": [
      "akshey.\n",
      "ailyn.\n",
      "akalaino.\n",
      "jussani.\n",
      "amar.\n",
      "mira.\n",
      "aad.\n",
      "chriyah.\n",
      "elldi.\n",
      "dhalon.\n",
      "fyldanie.\n",
      "malexxany.\n",
      "crevhan.\n",
      "aizahluva.\n",
      "kaylyn.\n",
      "avyn.\n",
      "ais.\n",
      "hamara.\n",
      "candaliel.\n",
      "katisie.\n"
     ]
    }
   ],
   "source": [
    "# sample from the model\n",
    "\n",
    "for _ in range(20):\n",
    "\n",
    "    out = []\n",
    "    context = [0] * block_size # initialize with all ...\n",
    "    while True:\n",
    "\n",
    "        # forward pass the neural net\n",
    "        # emb = C[torch.tensor([context])]\n",
    "        # x = emb.view(emb.shape[0], -1) # concatenate the vectors\n",
    "        # for layer in layers:\n",
    "        #     x = layer(x)\n",
    "        # logits = x\n",
    "        logits = model(torch.tensor([context]))\n",
    "        probs = F.softmax(logits, dim=1)\n",
    "        # sample from the distribution\n",
    "        ix = torch.multinomial(probs, num_samples=1).item()\n",
    "        # shift the context window and track the samples\n",
    "        context = context[1:] + [ix]\n",
    "        out.append(ix)\n",
    "        # if we sample the special '.' token, then break\n",
    "        if ix == 0:\n",
    "            break\n",
    "            \n",
    "    print(''.join(itos[i] for i in out)) # decode and print the generated word"
   ]
  },
  {
   "cell_type": "markdown",
   "id": "2df57750-ac8d-48a7-864b-e1ae8cf80db5",
   "metadata": {},
   "source": [
    "## WaveNet"
   ]
  },
  {
   "cell_type": "markdown",
   "id": "715ba2a3-b069-4ea5-b939-df4ce3312125",
   "metadata": {},
   "source": [
    "First thing we want to do is to rebuild our dataset with a larger block size of 8:"
   ]
  },
  {
   "cell_type": "code",
   "execution_count": 38,
   "id": "817fedd3-a475-4f7c-90df-14f0bdbd12c7",
   "metadata": {},
   "outputs": [],
   "source": [
    "# build the dataset\n",
    "block_size = 8 # context length: how many characters do we take to predict the next one?\n",
    "\n",
    "def build_dataset(words):\n",
    "    \n",
    "    X, Y = [], []\n",
    "    \n",
    "    for w in words:\n",
    "        context = [0] * block_size\n",
    "        for ch in w + delimiter:\n",
    "            ix = stoi[ch]\n",
    "            X.append(context)\n",
    "            Y.append(ix)\n",
    "            context = context[1:] + [ix] # crop and append\n",
    "            \n",
    "    X = torch.tensor(X)\n",
    "    Y = torch.tensor(Y)\n",
    "    print(X.shape, Y.shape)\n",
    "    return X, Y"
   ]
  },
  {
   "cell_type": "code",
   "execution_count": 39,
   "id": "a8f71ed9-f784-4eda-a02d-0d36a4532cbb",
   "metadata": {},
   "outputs": [
    {
     "name": "stdout",
     "output_type": "stream",
     "text": [
      "25626 28829\n",
      "torch.Size([182625, 8]) torch.Size([182625])\n",
      "torch.Size([22655, 8]) torch.Size([22655])\n",
      "torch.Size([22866, 8]) torch.Size([22866])\n"
     ]
    }
   ],
   "source": [
    "n1 = int(0.8 * lenOfWords)\n",
    "n2 = int(0.9 * lenOfWords)\n",
    "print(n1, n2)\n",
    "\n",
    "Xtr, Ytr = build_dataset(words[:n1])\n",
    "Xdev, Ydev = build_dataset(words[n1:n2])\n",
    "Xte, Yte = build_dataset(words[n2:])"
   ]
  },
  {
   "cell_type": "code",
   "execution_count": 40,
   "id": "298e48e8-29c4-41c0-92b8-720cc5206fb3",
   "metadata": {},
   "outputs": [
    {
     "name": "stdout",
     "output_type": "stream",
     "text": [
      "........ --> y\n",
      ".......y --> u\n",
      "......yu --> h\n",
      ".....yuh --> e\n",
      "....yuhe --> n\n",
      "...yuhen --> g\n",
      "..yuheng --> .\n",
      "........ --> d\n",
      ".......d --> i\n",
      "......di --> o\n",
      ".....dio --> n\n",
      "....dion --> d\n",
      "...diond --> r\n",
      "..diondr --> e\n",
      ".diondre --> .\n",
      "........ --> x\n",
      ".......x --> a\n",
      "......xa --> v\n",
      ".....xav --> i\n",
      "....xavi --> e\n"
     ]
    }
   ],
   "source": [
    "for x,y in zip(Xtr[:20], Ytr[:20]):\n",
    "    print(''.join(itos[ix.item()] for ix in x), '-->', itos[y.item()])"
   ]
  },
  {
   "cell_type": "code",
   "execution_count": 41,
   "id": "597b8ee7-71f5-445b-9aef-0afe372072bf",
   "metadata": {},
   "outputs": [
    {
     "data": {
      "text/plain": [
       "<torch._C.Generator at 0x7f2ff417cd30>"
      ]
     },
     "execution_count": 41,
     "metadata": {},
     "output_type": "execute_result"
    }
   ],
   "source": [
    "torch.manual_seed(42)"
   ]
  },
  {
   "cell_type": "code",
   "execution_count": 42,
   "id": "684d7de7-3ffe-4f70-b60a-26980f119a0a",
   "metadata": {},
   "outputs": [
    {
     "name": "stdout",
     "output_type": "stream",
     "text": [
      "22097\n"
     ]
    }
   ],
   "source": [
    "n_embd = 10 # the dimensionality of the character embedding vectors\n",
    "n_hidden = 200 # the number of neurons in the hidden layer of the MLP\n",
    "\n",
    "model = Sequential([\n",
    "\n",
    "    Embedding(vocab_size, n_embd),\n",
    "    Flatten(),\n",
    "    \n",
    "    Linear(n_embd * block_size, n_hidden, bias=False),\n",
    "    BatchNorm1d(n_hidden),\n",
    "    Tanh(),\n",
    "\n",
    "    Linear(n_hidden, vocab_size)\n",
    "])\n",
    "\n",
    "# parameter init\n",
    "with torch.no_grad():\n",
    "    layers[-1].weight *= 0.1 # last layer make less confident\n",
    "\n",
    "parameters = model.parameters()\n",
    "print(sum(p.nelement() for p in parameters)) # number of parameters in total\n",
    "for p in parameters:\n",
    "    p.requires_grad = True"
   ]
  },
  {
   "cell_type": "markdown",
   "id": "0b7b1899-b4e9-4cb6-8ce1-a0b5eed084b5",
   "metadata": {},
   "source": [
    "#### Training Loop 4"
   ]
  },
  {
   "cell_type": "code",
   "execution_count": 43,
   "id": "4d77e579-de15-4b92-b24d-23184437f951",
   "metadata": {},
   "outputs": [
    {
     "name": "stdout",
     "output_type": "stream",
     "text": [
      "      0/ 200000: 3.3126\n",
      "  10000/ 200000: 2.4891\n",
      "  20000/ 200000: 2.3465\n",
      "  30000/ 200000: 2.1099\n",
      "  40000/ 200000: 1.6623\n",
      "  50000/ 200000: 2.0117\n",
      "  60000/ 200000: 2.3529\n",
      "  70000/ 200000: 2.3503\n",
      "  80000/ 200000: 1.9445\n",
      "  90000/ 200000: 1.7863\n",
      " 100000/ 200000: 2.2284\n",
      " 110000/ 200000: 2.0006\n",
      " 120000/ 200000: 1.9971\n",
      " 130000/ 200000: 1.8105\n",
      " 140000/ 200000: 1.9407\n",
      " 150000/ 200000: 1.9409\n",
      " 160000/ 200000: 2.3154\n",
      " 170000/ 200000: 2.5088\n",
      " 180000/ 200000: 1.9036\n",
      " 190000/ 200000: 2.0041\n",
      "CPU times: user 2min 43s, sys: 1.66 s, total: 2min 44s\n",
      "Wall time: 2min 55s\n"
     ]
    }
   ],
   "source": [
    "%%time\n",
    "# same optimization as last time\n",
    "max_steps = 200000\n",
    "batch_size = 32\n",
    "lossi = []\n",
    "\n",
    "for i in range(max_steps):\n",
    "\n",
    "    # 1) minibatch construct\n",
    "    ix = torch.randint(0, Xtr.shape[0], (batch_size, ))\n",
    "    Xb, Yb = Xtr[ix], Ytr[ix] # batch X, Y\n",
    "\n",
    "    # 2) Forward pass\n",
    "    logits = model(Xb)\n",
    "    loss = F.cross_entropy(logits, Yb) # loss function\n",
    "\n",
    "    # 3) backward pass\n",
    "    for p in parameters:\n",
    "        p.grad = None\n",
    "    loss.backward()\n",
    "  \n",
    "    # 4) update using simple stochastic gradient descent\n",
    "    lr = 0.1 if i < 150000 else 0.01 # step learning rate\n",
    "    for p in parameters:\n",
    "        p.data += -lr * p.grad\n",
    "\n",
    "    # 5) track stats\n",
    "    if i % 10000 == 0: # print every once in a while\n",
    "        print(f'{i:7d}/{max_steps:7d}: {loss.item():.4f}')\n",
    "    lossi.append(loss.log10().item())\n",
    "\n",
    "# CPU\n",
    "# CPU times: user 18min 59s, sys: 2.88 s, total: 19min 2s\n",
    "# Wall time: 2min 29s\n",
    "# CPU times: user 20min 5s, sys: 2.08 s, total: 20min 7s\n",
    "# Wall time: 2min 40s\n",
    "\n",
    "# GPU\n",
    "# CPU times: user 2min 45s, sys: 1.93 s, total: 2min 47s\n",
    "# Wall time: 2min 58"
   ]
  },
  {
   "cell_type": "code",
   "execution_count": 44,
   "id": "cf15092a-966a-485f-933e-cc630b965dd7",
   "metadata": {},
   "outputs": [
    {
     "data": {
      "text/plain": [
       "[<matplotlib.lines.Line2D at 0x7f2f3b582770>]"
      ]
     },
     "execution_count": 44,
     "metadata": {},
     "output_type": "execute_result"
    },
    {
     "data": {
      "image/png": "[encoded data removed]",
      "text/plain": [
       "<Figure size 640x480 with 1 Axes>"
      ]
     },
     "metadata": {},
     "output_type": "display_data"
    }
   ],
   "source": [
    "# notice we have to copy the tensor to the cpu\n",
    "plt.plot(torch.tensor(lossi).cpu().view(-1, 1000).mean(dim=1))"
   ]
  },
  {
   "cell_type": "code",
   "execution_count": 45,
   "id": "d7e5cc06-5a56-43a5-978b-651fc43f0a78",
   "metadata": {},
   "outputs": [],
   "source": [
    "# put layers into eval mode (needed for batchnorm especially)\n",
    "for layer in model.layers:\n",
    "    layer.training = False"
   ]
  },
  {
   "cell_type": "code",
   "execution_count": 46,
   "id": "4447fd72-b3c7-4ea9-b305-8ee53b0e72de",
   "metadata": {},
   "outputs": [
    {
     "name": "stdout",
     "output_type": "stream",
     "text": [
      "train 1.9189682006835938\n",
      "val 2.033379554748535\n"
     ]
    }
   ],
   "source": [
    "# using Evaluate the Loss 2 ... \n",
    "split_loss('train')\n",
    "split_loss('val')"
   ]
  },
  {
   "cell_type": "markdown",
   "id": "77af4f44-749d-4485-b816-cb2a67f3008c",
   "metadata": {},
   "source": [
    "#### Sample from the model 2 (copied from a previous cell)"
   ]
  },
  {
   "cell_type": "code",
   "execution_count": 47,
   "id": "cac47b4b-1cfa-4a5f-bd66-10f8fafa699b",
   "metadata": {},
   "outputs": [
    {
     "name": "stdout",
     "output_type": "stream",
     "text": [
      "irel.\n",
      "adayah.\n",
      "aarell.\n",
      "maxzos.\n",
      "yuqanda.\n",
      "mylei.\n",
      "terrik.\n",
      "eifina.\n",
      "ugionne.\n",
      "kaobie.\n",
      "mershdez.\n",
      "jinnory.\n",
      "bethse.\n",
      "astyn.\n",
      "jammii.\n",
      "omenia.\n",
      "morgereta.\n",
      "penel.\n",
      "taishora.\n",
      "thalynx.\n"
     ]
    }
   ],
   "source": [
    "# sample from the model\n",
    "for _ in range(20):\n",
    "\n",
    "    out = []\n",
    "    context = [0] * block_size # initialize with all ...\n",
    "    while True:\n",
    "\n",
    "        # forward pass the neural net\n",
    "        logits = model(torch.tensor([context]))\n",
    "        probs = F.softmax(logits, dim=1)\n",
    "        # sample from the distribution\n",
    "        ix = torch.multinomial(probs, num_samples=1).item()\n",
    "        # shift the context window and track the samples\n",
    "        context = context[1:] + [ix]\n",
    "        out.append(ix)\n",
    "        # if we sample the special '.' token, then break\n",
    "        if ix == 0:\n",
    "            break\n",
    "            \n",
    "    print(''.join(itos[i] for i in out)) # decode and print the generated word"
   ]
  },
  {
   "cell_type": "markdown",
   "id": "c6fe7acf-1965-45a5-8d63-488497755186",
   "metadata": {},
   "source": [
    "Notice the names appear to be better because we have an increased block_size. "
   ]
  },
  {
   "cell_type": "markdown",
   "id": "cbcd4d48-e339-4ddd-b363-0a4dc02b2cda",
   "metadata": {},
   "source": [
    "#### Implementing WaveNet"
   ]
  },
  {
   "cell_type": "markdown",
   "id": "1c2b20ec-607a-43b2-b854-e2ff791628cc",
   "metadata": {},
   "source": [
    "Let's do a forward pass through the model and observe the shape of the tensors through each layer."
   ]
  },
  {
   "cell_type": "code",
   "execution_count": 48,
   "id": "c3c2d085-270a-44d5-acb9-60ca92fb92a9",
   "metadata": {},
   "outputs": [
    {
     "name": "stdout",
     "output_type": "stream",
     "text": [
      "torch.Size([4, 8])\n"
     ]
    },
    {
     "data": {
      "text/plain": [
       "tensor([[ 0,  0,  0,  0,  0,  0,  0,  4],\n",
       "        [ 0,  0,  0,  0,  0,  0,  0,  1],\n",
       "        [ 0,  0,  0,  0,  0,  0, 10,  1],\n",
       "        [ 0,  0,  0,  0,  0,  0,  0,  1]])"
      ]
     },
     "execution_count": 48,
     "metadata": {},
     "output_type": "execute_result"
    }
   ],
   "source": [
    "ix = torch.randint(0, Xtr.shape[0], (4,)) # Let's look at a batch of 4 examples\n",
    "Xb, Yb = Xtr[ix], Ytr[ix]\n",
    "logits = model(Xb)\n",
    "print(Xb.shape)\n",
    "Xb"
   ]
  },
  {
   "cell_type": "code",
   "execution_count": 49,
   "id": "e1d365ef-076e-46ea-a40d-73296c777c15",
   "metadata": {},
   "outputs": [
    {
     "data": {
      "text/plain": [
       "torch.Size([4, 8, 10])"
      ]
     },
     "execution_count": 49,
     "metadata": {},
     "output_type": "execute_result"
    }
   ],
   "source": [
    "#  Embedding(vocab_size, n_embd),\n",
    "# output of the Embedding layer \n",
    "model.layers[0].out.shape "
   ]
  },
  {
   "cell_type": "markdown",
   "id": "405e5397-e75e-4887-a1ec-f82733cbb0b3",
   "metadata": {},
   "source": [
    "For each character in our embedding table, there is a n_embd = 10 dimensional vector that we are trying to learn. Recall our block_size = 8 which means we are using the previous 8 characters to predict the next character. So what the embedding layer does is pluck out the embedding vector for each one of the integers shown above, and loads it into a 3-dimensional 4x8x10 tensor."
   ]
  },
  {
   "cell_type": "code",
   "execution_count": 50,
   "id": "723b7abc-cc2d-469e-9f15-79bf22d673fa",
   "metadata": {},
   "outputs": [
    {
     "data": {
      "text/plain": [
       "torch.Size([4, 80])"
      ]
     },
     "execution_count": 50,
     "metadata": {},
     "output_type": "execute_result"
    }
   ],
   "source": [
    "# Flatten(),\n",
    "# output of the flatten layer\n",
    "model.layers[1].out.shape "
   ]
  },
  {
   "cell_type": "markdown",
   "id": "9711d4f0-6f83-4f38-9a0c-ba9632431cee",
   "metadata": {},
   "source": [
    "Passing through the Flatten layer will stretch out the 8 characters each expressed as a 10 dimensional embedding into one long tensor of length 80."
   ]
  },
  {
   "cell_type": "code",
   "execution_count": 51,
   "id": "47103d77-1003-4235-816d-734a6a779733",
   "metadata": {},
   "outputs": [
    {
     "data": {
      "text/plain": [
       "torch.Size([4, 200])"
      ]
     },
     "execution_count": 51,
     "metadata": {},
     "output_type": "execute_result"
    }
   ],
   "source": [
    "#  Linear(n_embd * block_size, n_hidden, bias=False),\n",
    "# output of the Linear layer\n",
    "model.layers[2].out.shape "
   ]
  },
  {
   "cell_type": "markdown",
   "id": "71af0a19-5538-4f3f-8a01-5e5bf3764382",
   "metadata": {},
   "source": [
    "The Linear layer takes the 80 tensor and creates a n_hidden=200 channel tensor using matrix multiplication."
   ]
  },
  {
   "cell_type": "markdown",
   "id": "cc71b914-f975-497e-95a0-0fc4cb27e5d4",
   "metadata": {},
   "source": [
    "![](images/LinearLayer.png)"
   ]
  },
  {
   "cell_type": "code",
   "execution_count": 52,
   "id": "a0386363-b267-4d16-ab9a-0517f5aeb58c",
   "metadata": {},
   "outputs": [
    {
     "data": {
      "text/plain": [
       "torch.Size([4, 200])"
      ]
     },
     "execution_count": 52,
     "metadata": {},
     "output_type": "execute_result"
    }
   ],
   "source": [
    "# an example of what happens in the linear layer using the dimensions of our current model ...\n",
    "(torch.randn(4, 80) @ torch.randn(80, 200) + torch.randn(200)).shape"
   ]
  },
  {
   "cell_type": "code",
   "execution_count": 53,
   "id": "0079fc90-dbf9-4283-893b-f08926cf058f",
   "metadata": {},
   "outputs": [
    {
     "data": {
      "text/plain": [
       "torch.Size([4, 5, 200])"
      ]
     },
     "execution_count": 53,
     "metadata": {},
     "output_type": "execute_result"
    }
   ],
   "source": [
    "# but we don't have to use a (4,80) tensor ... we could also use, say, (4, 5, 80)\n",
    "(torch.randn(4, 5, 80) @ torch.randn(80, 200) + torch.randn(200)).shape"
   ]
  },
  {
   "cell_type": "code",
   "execution_count": 54,
   "id": "41c98666-893e-46a8-9507-8bba641b365a",
   "metadata": {},
   "outputs": [
    {
     "data": {
      "text/plain": [
       "torch.Size([4, 5, 20, 200])"
      ]
     },
     "execution_count": 54,
     "metadata": {},
     "output_type": "execute_result"
    }
   ],
   "source": [
    "# or whatever ...\n",
    "(torch.randn(4, 5, 20, 80) @ torch.randn(80, 200) + torch.randn(200)).shape"
   ]
  },
  {
   "cell_type": "markdown",
   "id": "137b7ab4-514e-4e5b-87c9-019d05226eef",
   "metadata": {},
   "source": [
    "You can see the matrix multiplication only works on the last tensor and the dimensions before it on the input tensor are left unchanged. (They are treated like a batch dimension)"
   ]
  },
  {
   "cell_type": "code",
   "execution_count": 55,
   "id": "2b658d15-6e35-4fa5-81dc-10d3ec723d4c",
   "metadata": {},
   "outputs": [
    {
     "data": {
      "text/plain": [
       "[0, 1, 2, 3, 4, 5, 6, 7, 8, 9]"
      ]
     },
     "execution_count": 55,
     "metadata": {},
     "output_type": "execute_result"
    }
   ],
   "source": [
    "list(range(10))"
   ]
  },
  {
   "cell_type": "code",
   "execution_count": 56,
   "id": "790d2e51-d31e-40d9-9949-1d0bc56b93f4",
   "metadata": {},
   "outputs": [
    {
     "data": {
      "text/plain": [
       "[0, 2, 4, 6, 8]"
      ]
     },
     "execution_count": 56,
     "metadata": {},
     "output_type": "execute_result"
    }
   ],
   "source": [
    "# we can index like this to get all the even parts ...\n",
    "list(range(10))[::2]"
   ]
  },
  {
   "cell_type": "code",
   "execution_count": 57,
   "id": "0a32578c-61d6-464c-9d7c-0cedf075df22",
   "metadata": {},
   "outputs": [
    {
     "data": {
      "text/plain": [
       "[1, 3, 5, 7, 9]"
      ]
     },
     "execution_count": 57,
     "metadata": {},
     "output_type": "execute_result"
    }
   ],
   "source": [
    "# and we can index like this to get all the odd parts ...\n",
    "list(range(10))[1::2]"
   ]
  },
  {
   "cell_type": "code",
   "execution_count": 58,
   "id": "149b403b-578e-4731-b090-99474bfca981",
   "metadata": {},
   "outputs": [
    {
     "data": {
      "text/plain": [
       "torch.Size([4, 80])"
      ]
     },
     "execution_count": 58,
     "metadata": {},
     "output_type": "execute_result"
    }
   ],
   "source": [
    "# This is what Flatten currently does ...\n",
    "e = torch.randn(4, 8, 10)\n",
    "e.view(e.shape[0], -1).shape"
   ]
  },
  {
   "cell_type": "code",
   "execution_count": 59,
   "id": "afb6e9ea-8cc9-4c72-9cf9-1326b7b9810d",
   "metadata": {},
   "outputs": [
    {
     "data": {
      "text/plain": [
       "tensor([[[ 1.8944, -0.3630, -1.6057,  0.2113,  0.4976, -1.1725,  0.7215,\n",
       "           0.0033, -0.9241,  0.6180],\n",
       "         [-0.0312, -0.2203,  0.1806,  0.2252,  1.3032, -0.4535,  1.4604,\n",
       "          -0.3124,  0.4088,  0.4944],\n",
       "         [ 0.7316,  0.7110,  1.3705, -0.1574,  2.8110, -0.0840,  0.3656,\n",
       "           1.6580,  0.9855,  1.4903],\n",
       "         [-0.0586,  0.9887,  1.3463, -1.8633, -2.7923,  0.5817,  0.2906,\n",
       "          -1.7619,  0.3827,  0.3663]],\n",
       "\n",
       "        [[ 1.4723, -2.1453, -0.2186,  1.5866,  1.1769, -1.5464,  0.2877,\n",
       "           0.0712, -1.6581,  0.1125],\n",
       "         [-1.6880,  0.8210,  0.1784, -0.4882,  1.1269, -0.8511, -0.0333,\n",
       "          -0.5674,  0.2276, -0.5137],\n",
       "         [-0.1710,  0.2592,  0.9084,  0.7582, -0.1840,  1.6436,  0.0233,\n",
       "           0.3515, -0.7775,  0.2146],\n",
       "         [-1.0549,  1.4117, -1.0050,  0.1645, -1.9776,  0.9263,  0.9257,\n",
       "           2.0640, -0.1862,  0.5332]],\n",
       "\n",
       "        [[-0.5189,  0.1490,  1.1090,  1.0187,  1.9270,  0.9732, -1.1426,\n",
       "           0.1601,  1.5682, -0.4073],\n",
       "         [-0.4667, -1.8346,  0.1875, -1.0211, -0.1298,  0.2811,  0.5791,\n",
       "          -0.2321, -0.3176,  0.5651],\n",
       "         [-1.0057,  0.9325, -1.0606, -0.6703, -1.3111, -0.1442, -0.1210,\n",
       "          -1.4552, -0.7476,  1.6350],\n",
       "         [-0.3543,  0.5137,  0.6824,  0.5014, -0.7872,  0.1542,  0.1895,\n",
       "          -1.6842,  0.5141,  0.7152]],\n",
       "\n",
       "        [[ 0.3755, -0.6645, -2.5459, -1.0762, -0.8997,  1.3950,  1.7435,\n",
       "           1.2119,  0.1147,  1.3498],\n",
       "         [ 0.0254,  1.3700, -0.0528, -0.3497, -0.8057,  0.0814, -0.8355,\n",
       "          -0.1506,  1.3406,  1.1301],\n",
       "         [ 1.7055, -0.3558,  0.3586, -1.2983, -0.5010, -0.2729, -1.5729,\n",
       "           0.3639, -1.3153, -0.0624],\n",
       "         [-0.5253,  0.4539,  0.9669,  0.1249, -0.9999,  0.8315,  0.0699,\n",
       "          -0.6833,  0.6641, -0.6739]]])"
      ]
     },
     "execution_count": 59,
     "metadata": {},
     "output_type": "execute_result"
    }
   ],
   "source": [
    "# But we want this ... all the even characters\n",
    "e[:, ::2, :]"
   ]
  },
  {
   "cell_type": "code",
   "execution_count": 60,
   "id": "446a4afb-a0e3-485d-8978-b862a18e4440",
   "metadata": {},
   "outputs": [
    {
     "data": {
      "text/plain": [
       "tensor([[[-0.3633,  0.8599, -1.0843,  1.7660, -0.0506,  0.0304, -0.4242,\n",
       "          -2.2338,  0.2270,  0.8791],\n",
       "         [ 0.8978,  0.2603,  1.3761,  0.6955, -0.1637, -0.9009, -0.2614,\n",
       "           0.4926, -0.1258,  0.6691],\n",
       "         [-1.0338, -1.1003,  0.3031,  0.3486,  0.2790,  0.8275, -0.5953,\n",
       "          -0.0741, -0.2996,  0.6982],\n",
       "         [ 0.1635,  0.6974, -0.7492,  0.1831,  1.7281, -2.1709,  0.4674,\n",
       "          -0.3190, -0.6221,  0.3078]],\n",
       "\n",
       "        [[-0.1887,  1.5056, -0.8774, -0.2432, -0.7576,  0.7936,  0.7872,\n",
       "          -0.0819, -0.1514, -0.3609],\n",
       "         [ 1.3590,  1.2619,  1.5060,  1.3734, -0.7106, -0.2943,  0.3685,\n",
       "           0.4673,  0.6192,  1.3104],\n",
       "         [-1.6380,  0.7592, -0.6848,  1.1672, -0.2793, -0.4653, -1.5674,\n",
       "          -0.8808, -1.0851, -2.2145],\n",
       "         [ 1.2064, -0.0668, -1.1559,  0.1620, -1.7665,  0.5925, -0.8389,\n",
       "          -0.8226, -0.1307,  0.3857]],\n",
       "\n",
       "        [[ 0.3072, -1.7973,  0.4132,  0.4630,  0.8252,  0.0401,  0.3607,\n",
       "           0.1984, -0.7800,  1.5354],\n",
       "         [-0.7350, -0.8687, -0.6489, -0.6756, -0.2772,  0.3262, -0.2670,\n",
       "           1.0935, -0.2260, -0.9045],\n",
       "         [-0.1726,  0.9019, -0.4889, -0.6821,  0.8697, -0.7636,  1.0046,\n",
       "           0.6833, -0.8959,  0.3896],\n",
       "         [ 1.5283,  0.1093,  0.6757,  2.2381, -0.9200,  0.9736, -1.3056,\n",
       "          -0.5887, -0.7571,  0.0079]],\n",
       "\n",
       "        [[ 0.7479, -0.4575, -0.0226, -0.7648,  1.5871, -0.1889, -1.9987,\n",
       "          -1.0449,  1.1231,  1.3379],\n",
       "         [-1.9439,  0.1800,  1.2032,  1.7181, -1.5702,  0.7507,  0.7060,\n",
       "          -2.4656,  0.1086,  0.5127],\n",
       "         [-0.6245, -0.8668,  1.9511, -0.5703, -0.1477,  2.0903, -1.0930,\n",
       "           0.7906,  1.5926,  0.4034],\n",
       "         [ 1.8040,  1.2151, -0.0569, -0.4020, -0.9265, -0.6976,  0.9708,\n",
       "           2.3108,  1.0691,  1.4635]]])"
      ]
     },
     "execution_count": 60,
     "metadata": {},
     "output_type": "execute_result"
    }
   ],
   "source": [
    "# all the odd characters\n",
    "e[:,1::2,:]"
   ]
  },
  {
   "cell_type": "code",
   "execution_count": 61,
   "id": "7f8fe6de-e8db-40d7-85f6-afd1b6418443",
   "metadata": {},
   "outputs": [
    {
     "data": {
      "text/plain": [
       "torch.Size([4, 4, 20])"
      ]
     },
     "execution_count": 61,
     "metadata": {},
     "output_type": "execute_result"
    }
   ],
   "source": [
    "# doing this will give us what we want ...\n",
    "explicit = torch.cat([e[:,::2,:],e[:,1::2,:]], dim=2)\n",
    "explicit.shape"
   ]
  },
  {
   "cell_type": "markdown",
   "id": "5edd84f6-58aa-446f-870a-6aa2d2d28d6b",
   "metadata": {},
   "source": [
    "Turns out you don't need to do this, you can just view it how you want to shape it. "
   ]
  },
  {
   "cell_type": "code",
   "execution_count": 62,
   "id": "64349d67-fb5f-4a3e-a9cb-f64cf728d858",
   "metadata": {},
   "outputs": [
    {
     "data": {
      "text/plain": [
       "tensor([[[True, True, True, True, True, True, True, True, True, True, True,\n",
       "          True, True, True, True, True, True, True, True, True],\n",
       "         [True, True, True, True, True, True, True, True, True, True, True,\n",
       "          True, True, True, True, True, True, True, True, True],\n",
       "         [True, True, True, True, True, True, True, True, True, True, True,\n",
       "          True, True, True, True, True, True, True, True, True],\n",
       "         [True, True, True, True, True, True, True, True, True, True, True,\n",
       "          True, True, True, True, True, True, True, True, True]],\n",
       "\n",
       "        [[True, True, True, True, True, True, True, True, True, True, True,\n",
       "          True, True, True, True, True, True, True, True, True],\n",
       "         [True, True, True, True, True, True, True, True, True, True, True,\n",
       "          True, True, True, True, True, True, True, True, True],\n",
       "         [True, True, True, True, True, True, True, True, True, True, True,\n",
       "          True, True, True, True, True, True, True, True, True],\n",
       "         [True, True, True, True, True, True, True, True, True, True, True,\n",
       "          True, True, True, True, True, True, True, True, True]],\n",
       "\n",
       "        [[True, True, True, True, True, True, True, True, True, True, True,\n",
       "          True, True, True, True, True, True, True, True, True],\n",
       "         [True, True, True, True, True, True, True, True, True, True, True,\n",
       "          True, True, True, True, True, True, True, True, True],\n",
       "         [True, True, True, True, True, True, True, True, True, True, True,\n",
       "          True, True, True, True, True, True, True, True, True],\n",
       "         [True, True, True, True, True, True, True, True, True, True, True,\n",
       "          True, True, True, True, True, True, True, True, True]],\n",
       "\n",
       "        [[True, True, True, True, True, True, True, True, True, True, True,\n",
       "          True, True, True, True, True, True, True, True, True],\n",
       "         [True, True, True, True, True, True, True, True, True, True, True,\n",
       "          True, True, True, True, True, True, True, True, True],\n",
       "         [True, True, True, True, True, True, True, True, True, True, True,\n",
       "          True, True, True, True, True, True, True, True, True],\n",
       "         [True, True, True, True, True, True, True, True, True, True, True,\n",
       "          True, True, True, True, True, True, True, True, True]]])"
      ]
     },
     "execution_count": 62,
     "metadata": {},
     "output_type": "execute_result"
    }
   ],
   "source": [
    "e.view(4,4,20) == explicit"
   ]
  },
  {
   "cell_type": "code",
   "execution_count": 63,
   "id": "3f6b0d16-ad70-4399-a431-f9a8459c4381",
   "metadata": {},
   "outputs": [
    {
     "data": {
      "text/plain": [
       "tensor(True)"
      ]
     },
     "execution_count": 63,
     "metadata": {},
     "output_type": "execute_result"
    }
   ],
   "source": [
    "# you can do this to see if all are True ... yeah, they are!\n",
    "(e.view(4, 4, 20) == explicit).all()"
   ]
  },
  {
   "cell_type": "markdown",
   "id": "cc14d8ed-1db9-4697-b7bc-5245e976dfa2",
   "metadata": {},
   "source": [
    "So let's redefine the Flatten layer. This code will deviate the PyTorch implementation, so let's give it a different name.\n",
    "\n",
    "This class will only flatten some n consecutive elements and puts them into the last dimension."
   ]
  },
  {
   "cell_type": "code",
   "execution_count": 64,
   "id": "93d858c6-6127-4846-8471-893a2fade5e6",
   "metadata": {},
   "outputs": [],
   "source": [
    "class FlattenConsecutive:\n",
    "\n",
    "    def __init__(self, n):\n",
    "        self.n = n\n",
    "\n",
    "    def __call__(self, x):\n",
    "        B, T, C = x.shape\n",
    "        x = x.view(B, T//self.n, C*self.n)\n",
    "        if x.shape[1] == 1:\n",
    "            x = x.squeeze(1)\n",
    "        self.out = x\n",
    "        return self.out\n",
    "\n",
    "    def parameters(self):\n",
    "        return []"
   ]
  },
  {
   "cell_type": "markdown",
   "id": "d1d2c4df-cb73-4886-868b-892cc3ec0bb9",
   "metadata": {},
   "source": [
    "And now we can redefine out model with this new layer."
   ]
  },
  {
   "cell_type": "code",
   "execution_count": 65,
   "id": "6704152d-3964-4dab-b882-ffb9b37ab889",
   "metadata": {},
   "outputs": [],
   "source": [
    "model = Sequential([\n",
    "\n",
    "    Embedding(vocab_size, n_embd),\n",
    "    FlattenConsecutive(block_size), \n",
    "    \n",
    "    Linear(n_embd * block_size, n_hidden, bias=False),\n",
    "    BatchNorm1d(n_hidden),\n",
    "    Tanh(),\n",
    "\n",
    "    Linear(n_hidden, vocab_size)\n",
    "])"
   ]
  },
  {
   "cell_type": "code",
   "execution_count": 66,
   "id": "fa102c8e-31f8-4d0d-9577-a0226c3d4858",
   "metadata": {},
   "outputs": [
    {
     "name": "stdout",
     "output_type": "stream",
     "text": [
      "22097\n"
     ]
    }
   ],
   "source": [
    "# parameter init\n",
    "with torch.no_grad():\n",
    "    layers[-1].weight *= 0.1 # last layer make less confident\n",
    "\n",
    "parameters = model.parameters()\n",
    "print(sum(p.nelement() for p in parameters)) # number of parameters in total\n",
    "for p in parameters:\n",
    "    p.requires_grad = True"
   ]
  },
  {
   "cell_type": "code",
   "execution_count": 67,
   "id": "59c66dfb-89de-4568-a11d-2320d7770927",
   "metadata": {},
   "outputs": [
    {
     "name": "stdout",
     "output_type": "stream",
     "text": [
      "torch.Size([4, 8])\n"
     ]
    },
    {
     "data": {
      "text/plain": [
       "tensor([[ 0,  0,  0, 10,  5, 25,  4,  5],\n",
       "        [ 0,  0,  1, 18, 14,  5, 12, 12],\n",
       "        [ 0,  0,  0,  0,  0, 13,  5, 14],\n",
       "        [ 0,  0,  8,  1,  2,  5,  5,  2]])"
      ]
     },
     "execution_count": 67,
     "metadata": {},
     "output_type": "execute_result"
    }
   ],
   "source": [
    "# run our previous example ...\n",
    "ix = torch.randint(0, Xtr.shape[0], (4,)) # Let's look at a batch of 4 examples\n",
    "Xb, Yb = Xtr[ix], Ytr[ix]\n",
    "logits = model(Xb)\n",
    "print(Xb.shape)\n",
    "Xb"
   ]
  },
  {
   "cell_type": "code",
   "execution_count": 68,
   "id": "24b5e4af-45c5-4a68-8655-c9abd04939b3",
   "metadata": {},
   "outputs": [
    {
     "name": "stdout",
     "output_type": "stream",
     "text": [
      "Embedding : (4, 8, 10)\n",
      "FlattenConsecutive : (4, 80)\n",
      "Linear : (4, 200)\n",
      "BatchNorm1d : (4, 200)\n",
      "Tanh : (4, 200)\n",
      "Linear : (4, 27)\n"
     ]
    }
   ],
   "source": [
    "for layer in model.layers:\n",
    "    print(layer.__class__.__name__, ':', tuple(layer.out.shape))"
   ]
  },
  {
   "cell_type": "markdown",
   "id": "d4617726-46e8-4676-9772-0e8e3255f4a9",
   "metadata": {},
   "source": [
    "So here is our first attempt at a WaveNet like model:"
   ]
  },
  {
   "cell_type": "code",
   "execution_count": 69,
   "id": "fe8f16ac-d098-4c72-a627-a1c2f8d4ceb7",
   "metadata": {},
   "outputs": [],
   "source": [
    "model = Sequential([\n",
    "\n",
    "    Embedding(vocab_size, n_embd),\n",
    "    \n",
    "    FlattenConsecutive(2),  Linear(n_embd * 2, n_hidden, bias=False), BatchNorm1d(n_hidden), Tanh(),\n",
    "    FlattenConsecutive(2),  Linear(n_hidden * 2, n_hidden, bias=False), BatchNorm1d(n_hidden), Tanh(),\n",
    "    FlattenConsecutive(2),  Linear(n_hidden * 2, n_hidden, bias=False), BatchNorm1d(n_hidden), Tanh(),\n",
    "\n",
    "    Linear(n_hidden, vocab_size)\n",
    "])"
   ]
  },
  {
   "cell_type": "code",
   "execution_count": 70,
   "id": "b22ab0a9-ce0f-424b-a99c-779412a7bc2c",
   "metadata": {},
   "outputs": [
    {
     "name": "stdout",
     "output_type": "stream",
     "text": [
      "170897\n"
     ]
    }
   ],
   "source": [
    "# parameter init\n",
    "with torch.no_grad():\n",
    "    layers[-1].weight *= 0.1 # last layer make less confident\n",
    "\n",
    "parameters = model.parameters()\n",
    "print(sum(p.nelement() for p in parameters)) # number of parameters in total\n",
    "for p in parameters:\n",
    "    p.requires_grad = True"
   ]
  },
  {
   "cell_type": "code",
   "execution_count": 71,
   "id": "13bff74f-e707-4801-bda3-b0e37c90ffd8",
   "metadata": {},
   "outputs": [
    {
     "name": "stdout",
     "output_type": "stream",
     "text": [
      "torch.Size([4, 8])\n"
     ]
    },
    {
     "data": {
      "text/plain": [
       "tensor([[ 5, 13,  9, 14,  7, 20, 15, 14],\n",
       "        [ 0,  0,  2, 15,  3,  5, 16,  8],\n",
       "        [ 0,  0,  0, 14,  1, 22, 18,  1],\n",
       "        [ 0,  0,  0,  0,  0,  0, 18, 15]])"
      ]
     },
     "execution_count": 71,
     "metadata": {},
     "output_type": "execute_result"
    }
   ],
   "source": [
    "# run our previous example ...\n",
    "ix = torch.randint(0, Xtr.shape[0], (4,)) # Let's look at a batch of 4 examples\n",
    "Xb, Yb = Xtr[ix], Ytr[ix]\n",
    "logits = model(Xb)\n",
    "print(Xb.shape)\n",
    "Xb"
   ]
  },
  {
   "cell_type": "code",
   "execution_count": 72,
   "id": "16d8e453-23a3-4b93-959a-5ef95520dd7c",
   "metadata": {},
   "outputs": [
    {
     "name": "stdout",
     "output_type": "stream",
     "text": [
      "Embedding : (4, 8, 10)\n",
      "FlattenConsecutive : (4, 4, 20)\n",
      "Linear : (4, 4, 200)\n",
      "BatchNorm1d : (4, 4, 200)\n",
      "Tanh : (4, 4, 200)\n",
      "FlattenConsecutive : (4, 2, 400)\n",
      "Linear : (4, 2, 200)\n",
      "BatchNorm1d : (4, 2, 200)\n",
      "Tanh : (4, 2, 200)\n",
      "FlattenConsecutive : (4, 400)\n",
      "Linear : (4, 200)\n",
      "BatchNorm1d : (4, 200)\n",
      "Tanh : (4, 200)\n",
      "Linear : (4, 27)\n"
     ]
    }
   ],
   "source": [
    "for layer in model.layers:\n",
    "    print(layer.__class__.__name__, ':', tuple(layer.out.shape))"
   ]
  },
  {
   "cell_type": "markdown",
   "id": "e41e95d4-4022-4e68-8a97-033e29ea1266",
   "metadata": {},
   "source": [
    "![](images/WaveNet.png)\n",
    "\n",
    "Our model conforms to the WaveNet model. Nice!"
   ]
  },
  {
   "cell_type": "markdown",
   "id": "81880667-a7c8-4b05-9191-ea4a833e7902",
   "metadata": {},
   "source": [
    "In the Karpathy video, he makes some tweaks to the model parameters:"
   ]
  },
  {
   "cell_type": "code",
   "execution_count": 73,
   "id": "21c2aa98-f64c-4950-97b5-754b6b0de30f",
   "metadata": {},
   "outputs": [
    {
     "name": "stdout",
     "output_type": "stream",
     "text": [
      "22397\n"
     ]
    }
   ],
   "source": [
    "n_embd = 10\n",
    "n_hidden = 68\n",
    "\n",
    "model = Sequential([\n",
    "\n",
    "    Embedding(vocab_size, n_embd),\n",
    "    \n",
    "    FlattenConsecutive(2),  Linear(n_embd * 2, n_hidden, bias=False), BatchNorm1d(n_hidden), Tanh(),\n",
    "    FlattenConsecutive(2),  Linear(n_hidden * 2, n_hidden, bias=False), BatchNorm1d(n_hidden), Tanh(),\n",
    "    FlattenConsecutive(2),  Linear(n_hidden * 2, n_hidden, bias=False), BatchNorm1d(n_hidden), Tanh(),\n",
    "\n",
    "    Linear(n_hidden, vocab_size)\n",
    "])\n",
    "\n",
    "# parameter init\n",
    "with torch.no_grad():\n",
    "    layers[-1].weight *= 0.1 # last layer make less confident\n",
    "\n",
    "parameters = model.parameters()\n",
    "print(sum(p.nelement() for p in parameters)) # number of parameters in total\n",
    "for p in parameters:\n",
    "    p.requires_grad = True"
   ]
  },
  {
   "cell_type": "markdown",
   "id": "5f0ae0f2-555f-4bd3-839f-a6a5b099669c",
   "metadata": {},
   "source": [
    "So let's try to train this and see what we now get!\n",
    "\n",
    "#### Training Loop 4 (copied from a previous cell)"
   ]
  },
  {
   "cell_type": "code",
   "execution_count": 74,
   "id": "161b8412-a483-4d28-b726-d067814bfa11",
   "metadata": {},
   "outputs": [
    {
     "name": "stdout",
     "output_type": "stream",
     "text": [
      "      0/ 200000: 3.3316\n",
      "  10000/ 200000: 2.4105\n",
      "  20000/ 200000: 2.2268\n",
      "  30000/ 200000: 2.0667\n",
      "  40000/ 200000: 2.4241\n",
      "  50000/ 200000: 1.7238\n",
      "  60000/ 200000: 2.0934\n",
      "  70000/ 200000: 2.3071\n",
      "  80000/ 200000: 2.2414\n",
      "  90000/ 200000: 1.9238\n",
      " 100000/ 200000: 2.2246\n",
      " 110000/ 200000: 2.1017\n",
      " 120000/ 200000: 1.6618\n",
      " 130000/ 200000: 2.0418\n",
      " 140000/ 200000: 2.2274\n",
      " 150000/ 200000: 1.7994\n",
      " 160000/ 200000: 1.9200\n",
      " 170000/ 200000: 2.4639\n",
      " 180000/ 200000: 2.1370\n",
      " 190000/ 200000: 2.0377\n",
      "CPU times: user 5min 31s, sys: 1.66 s, total: 5min 33s\n",
      "Wall time: 5min 44s\n"
     ]
    }
   ],
   "source": [
    "%%time\n",
    "# same optimization as last time\n",
    "max_steps = 200000\n",
    "batch_size = 32\n",
    "lossi = []\n",
    "\n",
    "for i in range(max_steps):\n",
    "\n",
    "    # 1) minibatch construct\n",
    "    ix = torch.randint(0, Xtr.shape[0], (batch_size, ))\n",
    "    Xb, Yb = Xtr[ix], Ytr[ix] # batch X, Y\n",
    "\n",
    "    # 2) Forward pass\n",
    "    logits = model(Xb)\n",
    "    loss = F.cross_entropy(logits, Yb) # loss function\n",
    "\n",
    "    # 3) backward pass\n",
    "    for p in parameters:\n",
    "        p.grad = None\n",
    "    loss.backward()\n",
    "  \n",
    "    # 4) update using simple stochastic gradient descent\n",
    "    lr = 0.1 if i < 150000 else 0.01 # step learning rate\n",
    "    for p in parameters:\n",
    "        p.data += -lr * p.grad\n",
    "\n",
    "    # 5) track stats\n",
    "    if i % 10000 == 0: # print every once in a while\n",
    "        print(f'{i:7d}/{max_steps:7d}: {loss.item():.4f}')\n",
    "    lossi.append(loss.log10().item())\n",
    "\n",
    "# CPU\n",
    "# CPU times: user 1h 41min 42s, sys: 33.2 s, total: 1h 42min 15s\n",
    "# Wall time: 14min 38s\n",
    "# CPU times: user 1h 33min 22s, sys: 30.4 s, total: 1h 33min 53s\n",
    "# Wall time: 13min 20s\n",
    "\n",
    "# GPU\n",
    "# CPU times: user 5min 31s, sys: 1.66 s, total: 5min 33s\n",
    "# Wall time: 5min 44s\n",
    "# CPU times: user 5min 37s, sys: 2.36 s, total: 5min 39s\n",
    "# Wall time: 5min 51s"
   ]
  },
  {
   "cell_type": "code",
   "execution_count": 75,
   "id": "9cadd60e-c3f0-4795-9313-4954ffa09041",
   "metadata": {},
   "outputs": [
    {
     "data": {
      "text/plain": [
       "[<matplotlib.lines.Line2D at 0x7f2f307f2350>]"
      ]
     },
     "execution_count": 75,
     "metadata": {},
     "output_type": "execute_result"
    },
    {
     "data": {
      "image/png": "[encoded data removed]",
      "text/plain": [
       "<Figure size 640x480 with 1 Axes>"
      ]
     },
     "metadata": {},
     "output_type": "display_data"
    }
   ],
   "source": [
    "# notice we have to copy the tensor to the cpu\n",
    "plt.plot(torch.tensor(lossi).cpu().view(-1, 1000).mean(dim=1))"
   ]
  },
  {
   "cell_type": "code",
   "execution_count": 76,
   "id": "146ef0bf-4f61-4ffd-b4df-6bdb2fa5db46",
   "metadata": {},
   "outputs": [
    {
     "name": "stdout",
     "output_type": "stream",
     "text": [
      "Embedding : (32, 8, 10)\n",
      "FlattenConsecutive : (32, 4, 20)\n",
      "Linear : (32, 4, 68)\n",
      "BatchNorm1d : (32, 4, 68)\n",
      "Tanh : (32, 4, 68)\n",
      "FlattenConsecutive : (32, 2, 136)\n",
      "Linear : (32, 2, 68)\n",
      "BatchNorm1d : (32, 2, 68)\n",
      "Tanh : (32, 2, 68)\n",
      "FlattenConsecutive : (32, 136)\n",
      "Linear : (32, 68)\n",
      "BatchNorm1d : (32, 68)\n",
      "Tanh : (32, 68)\n",
      "Linear : (32, 27)\n"
     ]
    }
   ],
   "source": [
    "for layer in model.layers:\n",
    "    print(layer.__class__.__name__, ':', tuple(layer.out.shape))"
   ]
  },
  {
   "cell_type": "markdown",
   "id": "057165e0-f4ca-4aac-93e3-0828dc022177",
   "metadata": {},
   "source": [
    "#### Evaluate the Loss 2 (copied from a previous cell)"
   ]
  },
  {
   "cell_type": "code",
   "execution_count": 77,
   "id": "3185ed51-164b-42d5-a6c1-a5504309f8ed",
   "metadata": {},
   "outputs": [
    {
     "name": "stdout",
     "output_type": "stream",
     "text": [
      "train 1.938451886177063\n",
      "val 2.0253219604492188\n"
     ]
    }
   ],
   "source": [
    "# evaluate the loss\n",
    "@torch.no_grad() # this decorator disables gradient tracking inside pytorch\n",
    "def split_loss(split):\n",
    "    x,y = {\n",
    "        'train': (Xtr, Ytr),\n",
    "        'val': (Xdev, Ydev),\n",
    "        'test': (Xte, Yte),\n",
    "        }[split]\n",
    "    logits = model(x)\n",
    "    # loss = F.cross_entropy(x, y)\n",
    "    loss = F.cross_entropy(logits, y)\n",
    "    print(split, loss.item())\n",
    "    \n",
    "split_loss('train')\n",
    "split_loss('val')"
   ]
  },
  {
   "cell_type": "markdown",
   "id": "362c636b-5fcc-4862-8895-58592ef92b2c",
   "metadata": {},
   "source": [
    "#### Fixing BatchNorm1d bug"
   ]
  },
  {
   "cell_type": "markdown",
   "id": "6ac8d238-70e6-43b0-a06b-a8f3df38ad85",
   "metadata": {},
   "source": [
    "It turns out we did not spend a lot of time figuring out an optimal selection of parameters for our model, and we also may have a bug in our BatchNorm1d layer. "
   ]
  },
  {
   "cell_type": "code",
   "execution_count": 78,
   "id": "99f8c538-90c2-4dc9-9b75-b1d245f5f894",
   "metadata": {},
   "outputs": [],
   "source": [
    "# Total run time up to this point running on the CPU\n",
    "# Run Date: Saturday, June 17, 2023\n",
    "# Run Time: 00:22:28\n",
    "\n",
    "\n",
    "# GPU run time up to this point ...\n",
    "# Run Date: Saturday, June 17, 2023\n",
    "# Run Time: 00:14:37\n",
    "# Run Date: Saturday, June 17, 2023\n",
    "# Run Time: 00:14:48"
   ]
  },
  {
   "cell_type": "code",
   "execution_count": 85,
   "id": "0cbbfd30-0a88-42e0-9809-9f39360d8472",
   "metadata": {},
   "outputs": [
    {
     "data": {
      "text/plain": [
       "(torch.Size([32, 4, 68]),\n",
       " torch.Size([1, 4, 68]),\n",
       " torch.Size([1, 4, 68]),\n",
       " torch.Size([32, 4, 68]))"
      ]
     },
     "execution_count": 85,
     "metadata": {},
     "output_type": "execute_result"
    }
   ],
   "source": [
    "e = torch.randn(32, 4, 68)\n",
    "emean = e.mean(0, keepdim=True)\n",
    "evar = e.var(0, keepdim=True)\n",
    "ehat = (e - emean) / torch.sqrt(evar + 1e-5)\n",
    "e.shape, emean.shape, evar.shape, ehat.shape"
   ]
  },
  {
   "cell_type": "markdown",
   "id": "1b448f0a-7518-4fc4-80c4-cc033f04abff",
   "metadata": {},
   "source": [
    "emean, and evar are calculated over the 32 numbers in the first dimension, producing a tensor of shape 1x4x68.\n",
    "\n",
    "Looking at the documentatioin of [PyTorch Mean](https://pytorch.org/docs/stable/generated/torch.mean.html) you can see for the first parameter we can pass in a tuple of ints instead of just a single int."
   ]
  },
  {
   "cell_type": "code",
   "execution_count": 86,
   "id": "ac076b6b-7758-4692-a784-68808dfefd4e",
   "metadata": {},
   "outputs": [
    {
     "data": {
      "text/plain": [
       "(torch.Size([32, 4, 68]),\n",
       " torch.Size([1, 1, 68]),\n",
       " torch.Size([1, 1, 68]),\n",
       " torch.Size([32, 4, 68]))"
      ]
     },
     "execution_count": 86,
     "metadata": {},
     "output_type": "execute_result"
    }
   ],
   "source": [
    "e = torch.randn(32, 4, 68)\n",
    "emean = e.mean((0,1), keepdim=True)\n",
    "evar = e.var((0,1), keepdim=True)\n",
    "ehat = (e - emean) / torch.sqrt(evar + 1e-5)\n",
    "e.shape, emean.shape, evar.shape, ehat.shape"
   ]
  },
  {
   "cell_type": "markdown",
   "id": "e541e6a6-daaa-40a1-b6fc-e2a513ef5733",
   "metadata": {},
   "source": [
    "Looking above, we can see the shape of the output tensor, where we took the mean over both the 0th and 1st dimension, producing a tensor of shape 1x1x68.\n",
    "\n",
    "So let's change the implementation of BatchNorm1d so that it can take 3 dimensional inputs."
   ]
  },
  {
   "cell_type": "code",
   "execution_count": 88,
   "id": "3749c264-1dcd-4d94-8c9d-95bc1c5e52d5",
   "metadata": {},
   "outputs": [],
   "source": [
    "class BatchNorm1d:\n",
    "  \n",
    "    def __init__(self, dim, eps=1e-5, momentum=0.1):\n",
    "        self.eps = eps\n",
    "        self.momentum = momentum\n",
    "        self.training = True\n",
    "        # parameters (trained with backprop)\n",
    "        self.gamma = torch.ones(dim)\n",
    "        self.beta = torch.zeros(dim)\n",
    "        # buffers (trained with a running 'momentum update')\n",
    "        self.running_mean = torch.zeros(dim)\n",
    "        self.running_var = torch.ones(dim)\n",
    "  \n",
    "    def __call__(self, x):\n",
    "        # calculate the forward pass\n",
    "        if self.training:\n",
    "            # code changes START\n",
    "            if x.ndim == 2:\n",
    "                dim = 0\n",
    "            elif x.ndim == 3:\n",
    "                dim = (0,1)\n",
    "            xmean = x.mean(dim, keepdim=True) # batch mean\n",
    "            xvar = x.var(dim, keepdim=True) # batch variance\n",
    "            # code changes END\n",
    "        else:\n",
    "            xmean = self.running_mean\n",
    "            xvar = self.running_var\n",
    "        xhat = (x - xmean) / torch.sqrt(xvar + self.eps) # normalize to unit variance\n",
    "        self.out = self.gamma * xhat + self.beta\n",
    "        # update the buffers\n",
    "        if self.training:\n",
    "            with torch.no_grad():\n",
    "                self.running_mean = (1 - self.momentum) * self.running_mean + self.momentum * xmean\n",
    "                self.running_var = (1 - self.momentum) * self.running_var + self.momentum * xvar\n",
    "        return self.out\n",
    "  \n",
    "    def parameters(self):\n",
    "        return [self.gamma, self.beta]"
   ]
  },
  {
   "cell_type": "markdown",
   "id": "85101953-03c5-4482-b47a-915e5c11d25e",
   "metadata": {},
   "source": [
    "So let's reinitialize the network and train the new model."
   ]
  },
  {
   "cell_type": "code",
   "execution_count": 89,
   "id": "59f2d8d5-08d3-4f6b-bf3f-fa0c8fea0e46",
   "metadata": {},
   "outputs": [
    {
     "name": "stdout",
     "output_type": "stream",
     "text": [
      "22397\n"
     ]
    }
   ],
   "source": [
    "n_embd = 10\n",
    "n_hidden = 68\n",
    "\n",
    "model = Sequential([\n",
    "\n",
    "    Embedding(vocab_size, n_embd),\n",
    "    \n",
    "    FlattenConsecutive(2),  Linear(n_embd * 2, n_hidden, bias=False), BatchNorm1d(n_hidden), Tanh(),\n",
    "    FlattenConsecutive(2),  Linear(n_hidden * 2, n_hidden, bias=False), BatchNorm1d(n_hidden), Tanh(),\n",
    "    FlattenConsecutive(2),  Linear(n_hidden * 2, n_hidden, bias=False), BatchNorm1d(n_hidden), Tanh(),\n",
    "\n",
    "    Linear(n_hidden, vocab_size)\n",
    "])\n",
    "\n",
    "# parameter init\n",
    "with torch.no_grad():\n",
    "    layers[-1].weight *= 0.1 # last layer make less confident\n",
    "\n",
    "parameters = model.parameters()\n",
    "print(sum(p.nelement() for p in parameters)) # number of parameters in total\n",
    "for p in parameters:\n",
    "    p.requires_grad = True"
   ]
  },
  {
   "cell_type": "markdown",
   "id": "a878d08b-e515-418b-a8f1-ad27d8332222",
   "metadata": {},
   "source": [
    "#### Training Loop 4 (copied from a previous cell)"
   ]
  },
  {
   "cell_type": "code",
   "execution_count": 90,
   "id": "44c15b9b-bb66-471c-8584-9f1723caa229",
   "metadata": {},
   "outputs": [
    {
     "name": "stdout",
     "output_type": "stream",
     "text": [
      "      0/ 200000: 3.4326\n",
      "  10000/ 200000: 2.2996\n",
      "  20000/ 200000: 2.1678\n",
      "  30000/ 200000: 1.9274\n",
      "  40000/ 200000: 2.2381\n",
      "  50000/ 200000: 1.9494\n",
      "  60000/ 200000: 2.1482\n",
      "  70000/ 200000: 2.0439\n",
      "  80000/ 200000: 1.6285\n",
      "  90000/ 200000: 2.1762\n",
      " 100000/ 200000: 1.9898\n",
      " 110000/ 200000: 2.0411\n",
      " 120000/ 200000: 2.0113\n",
      " 130000/ 200000: 2.0165\n",
      " 140000/ 200000: 1.5866\n",
      " 150000/ 200000: 1.9634\n",
      " 160000/ 200000: 1.8472\n",
      " 170000/ 200000: 1.8429\n",
      " 180000/ 200000: 1.9141\n",
      " 190000/ 200000: 1.6600\n",
      "CPU times: user 5min 38s, sys: 1.78 s, total: 5min 40s\n",
      "Wall time: 5min 51s\n"
     ]
    }
   ],
   "source": [
    "%%time\n",
    "# same optimization as last time\n",
    "max_steps = 200000\n",
    "batch_size = 32\n",
    "lossi = []\n",
    "\n",
    "for i in range(max_steps):\n",
    "\n",
    "    # 1) minibatch construct\n",
    "    ix = torch.randint(0, Xtr.shape[0], (batch_size, ))\n",
    "    Xb, Yb = Xtr[ix], Ytr[ix] # batch X, Y\n",
    "\n",
    "    # 2) Forward pass\n",
    "    logits = model(Xb)\n",
    "    loss = F.cross_entropy(logits, Yb) # loss function\n",
    "\n",
    "    # 3) backward pass\n",
    "    for p in parameters:\n",
    "        p.grad = None\n",
    "    loss.backward()\n",
    "  \n",
    "    # 4) update using simple stochastic gradient descent\n",
    "    lr = 0.1 if i < 150000 else 0.01 # step learning rate\n",
    "    for p in parameters:\n",
    "        p.data += -lr * p.grad\n",
    "\n",
    "    # 5) track stats\n",
    "    if i % 10000 == 0: # print every once in a while\n",
    "        print(f'{i:7d}/{max_steps:7d}: {loss.item():.4f}')\n",
    "    lossi.append(loss.log10().item())\n",
    "\n",
    "# GPU\n",
    "# CPU times: user 5min 38s, sys: 1.78 s, total: 5min 40s\n",
    "# Wall time: 5min 51s"
   ]
  },
  {
   "cell_type": "code",
   "execution_count": 91,
   "id": "4d1b5aed-5ead-4e23-8ce7-ecfea1aa2c76",
   "metadata": {},
   "outputs": [
    {
     "name": "stdout",
     "output_type": "stream",
     "text": [
      "Embedding : (32, 8, 10)\n",
      "FlattenConsecutive : (32, 4, 20)\n",
      "Linear : (32, 4, 68)\n",
      "BatchNorm1d : (32, 4, 68)\n",
      "Tanh : (32, 4, 68)\n",
      "FlattenConsecutive : (32, 2, 136)\n",
      "Linear : (32, 2, 68)\n",
      "BatchNorm1d : (32, 2, 68)\n",
      "Tanh : (32, 2, 68)\n",
      "FlattenConsecutive : (32, 136)\n",
      "Linear : (32, 68)\n",
      "BatchNorm1d : (32, 68)\n",
      "Tanh : (32, 68)\n",
      "Linear : (32, 27)\n"
     ]
    }
   ],
   "source": [
    "for layer in model.layers:\n",
    "    print(layer.__class__.__name__, ':', tuple(layer.out.shape))"
   ]
  },
  {
   "cell_type": "code",
   "execution_count": 92,
   "id": "36f5444b-5993-4c5b-ba76-193f671f8e2d",
   "metadata": {},
   "outputs": [
    {
     "data": {
      "text/plain": [
       "[<matplotlib.lines.Line2D at 0x7f2f3a6ba1a0>]"
      ]
     },
     "execution_count": 92,
     "metadata": {},
     "output_type": "execute_result"
    },
    {
     "data": {
      "image/png": "[encoded data removed]",
      "text/plain": [
       "<Figure size 640x480 with 1 Axes>"
      ]
     },
     "metadata": {},
     "output_type": "display_data"
    }
   ],
   "source": [
    "# notice we have to copy the tensor to the cpu\n",
    "plt.plot(torch.tensor(lossi).cpu().view(-1, 1000).mean(dim=1))"
   ]
  },
  {
   "cell_type": "markdown",
   "id": "e26e2903-bce1-4f99-b2a7-54c7b3e0943d",
   "metadata": {},
   "source": [
    "#### Evaluate the loss 2 (copied from a previous cell)"
   ]
  },
  {
   "cell_type": "code",
   "execution_count": 93,
   "id": "3b17b0c3-a112-4439-9931-54add030e23d",
   "metadata": {},
   "outputs": [
    {
     "name": "stdout",
     "output_type": "stream",
     "text": [
      "train 1.9096258878707886\n",
      "val 2.014533758163452\n"
     ]
    }
   ],
   "source": [
    "# evaluate the loss\n",
    "@torch.no_grad() # this decorator disables gradient tracking inside pytorch\n",
    "def split_loss(split):\n",
    "    x,y = {\n",
    "        'train': (Xtr, Ytr),\n",
    "        'val': (Xdev, Ydev),\n",
    "        'test': (Xte, Yte),\n",
    "        }[split]\n",
    "    logits = model(x)\n",
    "    # loss = F.cross_entropy(x, y)\n",
    "    loss = F.cross_entropy(logits, y)\n",
    "    print(split, loss.item())\n",
    "    \n",
    "split_loss('train')\n",
    "split_loss('val')"
   ]
  },
  {
   "cell_type": "markdown",
   "id": "c9930009-2543-454c-a07d-29ebfd12c403",
   "metadata": {},
   "source": [
    "There has been a slight improvement to the validation loss."
   ]
  },
  {
   "cell_type": "code",
   "execution_count": 80,
   "id": "39816724-85d9-47b2-87b2-5677b925e6be",
   "metadata": {},
   "outputs": [
    {
     "name": "stdout",
     "output_type": "stream",
     "text": [
      "# Run Date: Saturday, June 17, 2023\n",
      "# Run Time: 00:14:37\n"
     ]
    }
   ],
   "source": [
    "endTime = time.time()\n",
    "\n",
    "elapsedTime = time.strftime(\"%H:%M:%S\", time.gmtime(endTime - startTime))\n",
    "\n",
    "print(todaysDate.strftime('# Run Date: %A, %B %d, %Y'))\n",
    "print(f\"# Run Time: {elapsedTime}\")"
   ]
  }
 ],
 "metadata": {
  "kernelspec": {
   "display_name": "Python 3 (ipykernel)",
   "language": "python",
   "name": "python3"
  },
  "language_info": {
   "codemirror_mode": {
    "name": "ipython",
    "version": 3
   },
   "file_extension": ".py",
   "mimetype": "text/x-python",
   "name": "python",
   "nbconvert_exporter": "python",
   "pygments_lexer": "ipython3",
   "version": "3.10.8"
  }
 },
 "nbformat": 4,
 "nbformat_minor": 5
}
